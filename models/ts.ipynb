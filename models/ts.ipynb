{
 "cells": [
  {
   "cell_type": "code",
   "execution_count": null,
   "metadata": {},
   "outputs": [],
   "source": [
    "!pip install tslearn\n",
    "!pip install pyts"
   ]
  },
  {
   "cell_type": "code",
   "execution_count": 1,
   "metadata": {},
   "outputs": [],
   "source": [
    "import numpy as np\n",
    "import pandas as pd"
   ]
  },
  {
   "cell_type": "code",
   "execution_count": 2,
   "metadata": {},
   "outputs": [],
   "source": [
    "agg_df = pd.read_csv('../data_ready/agg/batting_norm_agg.csv')"
   ]
  },
  {
   "cell_type": "code",
   "execution_count": 23,
   "metadata": {},
   "outputs": [
    {
     "data": {
      "text/plain": [
       "0.05280263669863359"
      ]
     },
     "execution_count": 23,
     "metadata": {},
     "output_type": "execute_result"
    }
   ],
   "source": [
    "agg_df['hof'].sum() / len(agg_df)"
   ]
  },
  {
   "cell_type": "code",
   "execution_count": 420,
   "metadata": {},
   "outputs": [
    {
     "data": {
      "text/html": [
       "<div>\n",
       "<style scoped>\n",
       "    .dataframe tbody tr th:only-of-type {\n",
       "        vertical-align: middle;\n",
       "    }\n",
       "\n",
       "    .dataframe tbody tr th {\n",
       "        vertical-align: top;\n",
       "    }\n",
       "\n",
       "    .dataframe thead th {\n",
       "        text-align: right;\n",
       "    }\n",
       "</style>\n",
       "<table border=\"1\" class=\"dataframe\">\n",
       "  <thead>\n",
       "    <tr style=\"text-align: right;\">\n",
       "      <th></th>\n",
       "      <th>Unnamed: 0</th>\n",
       "      <th>Unnamed: 0.1</th>\n",
       "      <th>ab</th>\n",
       "      <th>bb</th>\n",
       "      <th>double</th>\n",
       "      <th>g</th>\n",
       "      <th>h</th>\n",
       "      <th>hbp</th>\n",
       "      <th>hr</th>\n",
       "      <th>r</th>\n",
       "      <th>rbi</th>\n",
       "      <th>sb</th>\n",
       "      <th>sh</th>\n",
       "      <th>so</th>\n",
       "      <th>triple</th>\n",
       "      <th>years_played</th>\n",
       "      <th>hof</th>\n",
       "    </tr>\n",
       "    <tr>\n",
       "      <th>player_id</th>\n",
       "      <th></th>\n",
       "      <th></th>\n",
       "      <th></th>\n",
       "      <th></th>\n",
       "      <th></th>\n",
       "      <th></th>\n",
       "      <th></th>\n",
       "      <th></th>\n",
       "      <th></th>\n",
       "      <th></th>\n",
       "      <th></th>\n",
       "      <th></th>\n",
       "      <th></th>\n",
       "      <th></th>\n",
       "      <th></th>\n",
       "      <th></th>\n",
       "      <th></th>\n",
       "    </tr>\n",
       "  </thead>\n",
       "  <tbody>\n",
       "    <tr>\n",
       "      <th>brownwi02</th>\n",
       "      <td>10592</td>\n",
       "      <td>10920</td>\n",
       "      <td>-0.465167</td>\n",
       "      <td>-0.665236</td>\n",
       "      <td>-0.377410</td>\n",
       "      <td>-0.674567</td>\n",
       "      <td>-0.526152</td>\n",
       "      <td>-0.461885</td>\n",
       "      <td>-0.299984</td>\n",
       "      <td>-0.551212</td>\n",
       "      <td>-0.464428</td>\n",
       "      <td>0.187113</td>\n",
       "      <td>-0.729381</td>\n",
       "      <td>-0.519118</td>\n",
       "      <td>-0.575775</td>\n",
       "      <td>1.0</td>\n",
       "      <td>True</td>\n",
       "    </tr>\n",
       "    <tr>\n",
       "      <th>irvinmo01</th>\n",
       "      <td>11421</td>\n",
       "      <td>11788</td>\n",
       "      <td>6.603449</td>\n",
       "      <td>8.807964</td>\n",
       "      <td>4.803380</td>\n",
       "      <td>6.609862</td>\n",
       "      <td>7.416037</td>\n",
       "      <td>9.530594</td>\n",
       "      <td>9.662144</td>\n",
       "      <td>6.773189</td>\n",
       "      <td>10.089170</td>\n",
       "      <td>4.957773</td>\n",
       "      <td>-0.765241</td>\n",
       "      <td>3.414820</td>\n",
       "      <td>8.350465</td>\n",
       "      <td>8.0</td>\n",
       "      <td>True</td>\n",
       "    </tr>\n",
       "    <tr>\n",
       "      <th>hafeych01</th>\n",
       "      <td>3737</td>\n",
       "      <td>3861</td>\n",
       "      <td>12.321097</td>\n",
       "      <td>7.983065</td>\n",
       "      <td>19.091223</td>\n",
       "      <td>11.529930</td>\n",
       "      <td>13.803409</td>\n",
       "      <td>14.668519</td>\n",
       "      <td>23.235878</td>\n",
       "      <td>13.903553</td>\n",
       "      <td>17.199094</td>\n",
       "      <td>8.695445</td>\n",
       "      <td>4.445297</td>\n",
       "      <td>17.597934</td>\n",
       "      <td>10.686704</td>\n",
       "      <td>13.0</td>\n",
       "      <td>True</td>\n",
       "    </tr>\n",
       "    <tr>\n",
       "      <th>camparo01</th>\n",
       "      <td>11012</td>\n",
       "      <td>11346</td>\n",
       "      <td>14.153932</td>\n",
       "      <td>15.011866</td>\n",
       "      <td>12.308864</td>\n",
       "      <td>13.736424</td>\n",
       "      <td>14.082515</td>\n",
       "      <td>12.369475</td>\n",
       "      <td>29.090691</td>\n",
       "      <td>14.581532</td>\n",
       "      <td>23.779343</td>\n",
       "      <td>3.670171</td>\n",
       "      <td>2.375898</td>\n",
       "      <td>15.080184</td>\n",
       "      <td>2.371652</td>\n",
       "      <td>10.0</td>\n",
       "      <td>True</td>\n",
       "    </tr>\n",
       "    <tr>\n",
       "      <th>wilsoha01</th>\n",
       "      <td>3601</td>\n",
       "      <td>3725</td>\n",
       "      <td>13.881088</td>\n",
       "      <td>22.589546</td>\n",
       "      <td>13.935954</td>\n",
       "      <td>13.908143</td>\n",
       "      <td>14.449937</td>\n",
       "      <td>6.813193</td>\n",
       "      <td>38.749986</td>\n",
       "      <td>18.008864</td>\n",
       "      <td>25.228414</td>\n",
       "      <td>5.245698</td>\n",
       "      <td>7.282968</td>\n",
       "      <td>34.855209</td>\n",
       "      <td>11.491814</td>\n",
       "      <td>12.0</td>\n",
       "      <td>True</td>\n",
       "    </tr>\n",
       "    <tr>\n",
       "      <th>...</th>\n",
       "      <td>...</td>\n",
       "      <td>...</td>\n",
       "      <td>...</td>\n",
       "      <td>...</td>\n",
       "      <td>...</td>\n",
       "      <td>...</td>\n",
       "      <td>...</td>\n",
       "      <td>...</td>\n",
       "      <td>...</td>\n",
       "      <td>...</td>\n",
       "      <td>...</td>\n",
       "      <td>...</td>\n",
       "      <td>...</td>\n",
       "      <td>...</td>\n",
       "      <td>...</td>\n",
       "      <td>...</td>\n",
       "      <td>...</td>\n",
       "    </tr>\n",
       "    <tr>\n",
       "      <th>ripkeca01</th>\n",
       "      <td>25987</td>\n",
       "      <td>26480</td>\n",
       "      <td>40.925585</td>\n",
       "      <td>34.059953</td>\n",
       "      <td>40.960233</td>\n",
       "      <td>37.979274</td>\n",
       "      <td>40.824505</td>\n",
       "      <td>18.550806</td>\n",
       "      <td>43.485983</td>\n",
       "      <td>40.166549</td>\n",
       "      <td>43.555044</td>\n",
       "      <td>-0.432205</td>\n",
       "      <td>-0.688196</td>\n",
       "      <td>21.101473</td>\n",
       "      <td>12.226009</td>\n",
       "      <td>21.0</td>\n",
       "      <td>True</td>\n",
       "    </tr>\n",
       "    <tr>\n",
       "      <th>murraed02</th>\n",
       "      <td>23975</td>\n",
       "      <td>24468</td>\n",
       "      <td>39.150338</td>\n",
       "      <td>43.185970</td>\n",
       "      <td>38.235980</td>\n",
       "      <td>38.546247</td>\n",
       "      <td>41.621386</td>\n",
       "      <td>3.937850</td>\n",
       "      <td>57.153712</td>\n",
       "      <td>40.600355</td>\n",
       "      <td>53.298252</td>\n",
       "      <td>3.559524</td>\n",
       "      <td>-0.680393</td>\n",
       "      <td>29.500643</td>\n",
       "      <td>5.989076</td>\n",
       "      <td>21.0</td>\n",
       "      <td>True</td>\n",
       "    </tr>\n",
       "    <tr>\n",
       "      <th>yastrca01</th>\n",
       "      <td>15796</td>\n",
       "      <td>16271</td>\n",
       "      <td>41.835125</td>\n",
       "      <td>67.892039</td>\n",
       "      <td>53.900083</td>\n",
       "      <td>39.887946</td>\n",
       "      <td>45.061597</td>\n",
       "      <td>8.871536</td>\n",
       "      <td>51.765388</td>\n",
       "      <td>49.597076</td>\n",
       "      <td>53.654928</td>\n",
       "      <td>19.230504</td>\n",
       "      <td>-0.015463</td>\n",
       "      <td>27.049242</td>\n",
       "      <td>16.240953</td>\n",
       "      <td>23.0</td>\n",
       "      <td>True</td>\n",
       "    </tr>\n",
       "    <tr>\n",
       "      <th>aaronha01</th>\n",
       "      <td>12889</td>\n",
       "      <td>13339</td>\n",
       "      <td>46.029512</td>\n",
       "      <td>48.546825</td>\n",
       "      <td>55.022065</td>\n",
       "      <td>40.023800</td>\n",
       "      <td>53.887018</td>\n",
       "      <td>6.797289</td>\n",
       "      <td>93.228241</td>\n",
       "      <td>63.981689</td>\n",
       "      <td>72.061626</td>\n",
       "      <td>39.286922</td>\n",
       "      <td>3.638755</td>\n",
       "      <td>29.936938</td>\n",
       "      <td>33.967563</td>\n",
       "      <td>23.0</td>\n",
       "      <td>True</td>\n",
       "    </tr>\n",
       "    <tr>\n",
       "      <th>rosepe01</th>\n",
       "      <td>16854</td>\n",
       "      <td>17329</td>\n",
       "      <td>51.081092</td>\n",
       "      <td>53.260293</td>\n",
       "      <td>62.637534</td>\n",
       "      <td>43.964491</td>\n",
       "      <td>59.567020</td>\n",
       "      <td>43.876384</td>\n",
       "      <td>12.992789</td>\n",
       "      <td>62.411365</td>\n",
       "      <td>32.445848</td>\n",
       "      <td>18.102442</td>\n",
       "      <td>5.441395</td>\n",
       "      <td>16.720960</td>\n",
       "      <td>52.376027</td>\n",
       "      <td>24.0</td>\n",
       "      <td>True</td>\n",
       "    </tr>\n",
       "  </tbody>\n",
       "</table>\n",
       "<p>130 rows × 17 columns</p>\n",
       "</div>"
      ],
      "text/plain": [
       "           Unnamed: 0  Unnamed: 0.1         ab         bb     double  \\\n",
       "player_id                                                              \n",
       "brownwi02       10592         10920  -0.465167  -0.665236  -0.377410   \n",
       "irvinmo01       11421         11788   6.603449   8.807964   4.803380   \n",
       "hafeych01        3737          3861  12.321097   7.983065  19.091223   \n",
       "camparo01       11012         11346  14.153932  15.011866  12.308864   \n",
       "wilsoha01        3601          3725  13.881088  22.589546  13.935954   \n",
       "...               ...           ...        ...        ...        ...   \n",
       "ripkeca01       25987         26480  40.925585  34.059953  40.960233   \n",
       "murraed02       23975         24468  39.150338  43.185970  38.235980   \n",
       "yastrca01       15796         16271  41.835125  67.892039  53.900083   \n",
       "aaronha01       12889         13339  46.029512  48.546825  55.022065   \n",
       "rosepe01        16854         17329  51.081092  53.260293  62.637534   \n",
       "\n",
       "                   g          h        hbp         hr          r        rbi  \\\n",
       "player_id                                                                     \n",
       "brownwi02  -0.674567  -0.526152  -0.461885  -0.299984  -0.551212  -0.464428   \n",
       "irvinmo01   6.609862   7.416037   9.530594   9.662144   6.773189  10.089170   \n",
       "hafeych01  11.529930  13.803409  14.668519  23.235878  13.903553  17.199094   \n",
       "camparo01  13.736424  14.082515  12.369475  29.090691  14.581532  23.779343   \n",
       "wilsoha01  13.908143  14.449937   6.813193  38.749986  18.008864  25.228414   \n",
       "...              ...        ...        ...        ...        ...        ...   \n",
       "ripkeca01  37.979274  40.824505  18.550806  43.485983  40.166549  43.555044   \n",
       "murraed02  38.546247  41.621386   3.937850  57.153712  40.600355  53.298252   \n",
       "yastrca01  39.887946  45.061597   8.871536  51.765388  49.597076  53.654928   \n",
       "aaronha01  40.023800  53.887018   6.797289  93.228241  63.981689  72.061626   \n",
       "rosepe01   43.964491  59.567020  43.876384  12.992789  62.411365  32.445848   \n",
       "\n",
       "                  sb        sh         so     triple  years_played   hof  \n",
       "player_id                                                                 \n",
       "brownwi02   0.187113 -0.729381  -0.519118  -0.575775           1.0  True  \n",
       "irvinmo01   4.957773 -0.765241   3.414820   8.350465           8.0  True  \n",
       "hafeych01   8.695445  4.445297  17.597934  10.686704          13.0  True  \n",
       "camparo01   3.670171  2.375898  15.080184   2.371652          10.0  True  \n",
       "wilsoha01   5.245698  7.282968  34.855209  11.491814          12.0  True  \n",
       "...              ...       ...        ...        ...           ...   ...  \n",
       "ripkeca01  -0.432205 -0.688196  21.101473  12.226009          21.0  True  \n",
       "murraed02   3.559524 -0.680393  29.500643   5.989076          21.0  True  \n",
       "yastrca01  19.230504 -0.015463  27.049242  16.240953          23.0  True  \n",
       "aaronha01  39.286922  3.638755  29.936938  33.967563          23.0  True  \n",
       "rosepe01   18.102442  5.441395  16.720960  52.376027          24.0  True  \n",
       "\n",
       "[130 rows x 17 columns]"
      ]
     },
     "execution_count": 420,
     "metadata": {},
     "output_type": "execute_result"
    }
   ],
   "source": [
    "agg2[agg2['hof']].sort_values('g')"
   ]
  },
  {
   "cell_type": "code",
   "execution_count": 24,
   "metadata": {},
   "outputs": [
    {
     "data": {
      "text/plain": [
       "<matplotlib.axes._subplots.AxesSubplot at 0x7f9cb87f0c10>"
      ]
     },
     "execution_count": 24,
     "metadata": {},
     "output_type": "execute_result"
    },
    {
     "data": {
      "image/png": "[encoded data removed]",
      "text/plain": [
       "<Figure size 432x288 with 1 Axes>"
      ]
     },
     "metadata": {
      "needs_background": "light"
     },
     "output_type": "display_data"
    }
   ],
   "source": [
    "agg2 = agg_df.groupby('player_id').max('years_played')\n",
    "agg2.plot.scatter('g', 'h', c=['red' if agg2.iloc[i]['hof'] else 'blue' for i in range(len(agg2))])"
   ]
  },
  {
   "cell_type": "code",
   "execution_count": 3,
   "metadata": {},
   "outputs": [
    {
     "data": {
      "text/html": [
       "<div>\n",
       "<style scoped>\n",
       "    .dataframe tbody tr th:only-of-type {\n",
       "        vertical-align: middle;\n",
       "    }\n",
       "\n",
       "    .dataframe tbody tr th {\n",
       "        vertical-align: top;\n",
       "    }\n",
       "\n",
       "    .dataframe thead th {\n",
       "        text-align: right;\n",
       "    }\n",
       "</style>\n",
       "<table border=\"1\" class=\"dataframe\">\n",
       "  <thead>\n",
       "    <tr style=\"text-align: right;\">\n",
       "      <th></th>\n",
       "      <th>ab</th>\n",
       "      <th>bb</th>\n",
       "      <th>double</th>\n",
       "      <th>g</th>\n",
       "      <th>h</th>\n",
       "      <th>hbp</th>\n",
       "      <th>hr</th>\n",
       "      <th>player_id</th>\n",
       "      <th>r</th>\n",
       "      <th>rbi</th>\n",
       "      <th>sb</th>\n",
       "      <th>sh</th>\n",
       "      <th>so</th>\n",
       "      <th>triple</th>\n",
       "      <th>years_played</th>\n",
       "      <th>hof</th>\n",
       "    </tr>\n",
       "  </thead>\n",
       "  <tbody>\n",
       "    <tr>\n",
       "      <th>0</th>\n",
       "      <td>-0.661588</td>\n",
       "      <td>-0.438871</td>\n",
       "      <td>-0.640879</td>\n",
       "      <td>-0.705525</td>\n",
       "      <td>-0.583966</td>\n",
       "      <td>-0.539028</td>\n",
       "      <td>-0.388342</td>\n",
       "      <td>acostme01</td>\n",
       "      <td>-0.539369</td>\n",
       "      <td>-0.609924</td>\n",
       "      <td>-0.335788</td>\n",
       "      <td>-0.665060</td>\n",
       "      <td>-0.794309</td>\n",
       "      <td>-0.310270</td>\n",
       "      <td>1.0</td>\n",
       "      <td>False</td>\n",
       "    </tr>\n",
       "    <tr>\n",
       "      <th>1</th>\n",
       "      <td>-1.145500</td>\n",
       "      <td>-0.634319</td>\n",
       "      <td>-1.124076</td>\n",
       "      <td>-1.026475</td>\n",
       "      <td>-1.017650</td>\n",
       "      <td>-1.125153</td>\n",
       "      <td>-0.813317</td>\n",
       "      <td>acostme01</td>\n",
       "      <td>-0.903027</td>\n",
       "      <td>-1.153566</td>\n",
       "      <td>-0.636014</td>\n",
       "      <td>-1.424980</td>\n",
       "      <td>-0.892177</td>\n",
       "      <td>-0.404662</td>\n",
       "      <td>2.0</td>\n",
       "      <td>False</td>\n",
       "    </tr>\n",
       "    <tr>\n",
       "      <th>2</th>\n",
       "      <td>-1.161406</td>\n",
       "      <td>-0.031041</td>\n",
       "      <td>-1.378979</td>\n",
       "      <td>-0.693510</td>\n",
       "      <td>-1.160762</td>\n",
       "      <td>-0.056680</td>\n",
       "      <td>-1.235447</td>\n",
       "      <td>acostme01</td>\n",
       "      <td>-0.879855</td>\n",
       "      <td>-1.079926</td>\n",
       "      <td>-0.389503</td>\n",
       "      <td>-1.058649</td>\n",
       "      <td>-1.112142</td>\n",
       "      <td>-0.762685</td>\n",
       "      <td>3.0</td>\n",
       "      <td>False</td>\n",
       "    </tr>\n",
       "    <tr>\n",
       "      <th>3</th>\n",
       "      <td>-1.954610</td>\n",
       "      <td>-0.615781</td>\n",
       "      <td>-2.052017</td>\n",
       "      <td>-1.647343</td>\n",
       "      <td>-1.893377</td>\n",
       "      <td>-0.604941</td>\n",
       "      <td>-1.638442</td>\n",
       "      <td>acostme01</td>\n",
       "      <td>-1.575987</td>\n",
       "      <td>-1.775687</td>\n",
       "      <td>-0.956969</td>\n",
       "      <td>-1.764229</td>\n",
       "      <td>-2.108656</td>\n",
       "      <td>-1.364642</td>\n",
       "      <td>4.0</td>\n",
       "      <td>False</td>\n",
       "    </tr>\n",
       "    <tr>\n",
       "      <th>4</th>\n",
       "      <td>-1.744661</td>\n",
       "      <td>-0.229190</td>\n",
       "      <td>-2.314481</td>\n",
       "      <td>-1.438181</td>\n",
       "      <td>-1.531243</td>\n",
       "      <td>-1.148788</td>\n",
       "      <td>-2.011442</td>\n",
       "      <td>acostme01</td>\n",
       "      <td>-1.190280</td>\n",
       "      <td>-1.700775</td>\n",
       "      <td>-0.966303</td>\n",
       "      <td>-1.027140</td>\n",
       "      <td>-2.202136</td>\n",
       "      <td>-0.952990</td>\n",
       "      <td>5.0</td>\n",
       "      <td>False</td>\n",
       "    </tr>\n",
       "    <tr>\n",
       "      <th>...</th>\n",
       "      <td>...</td>\n",
       "      <td>...</td>\n",
       "      <td>...</td>\n",
       "      <td>...</td>\n",
       "      <td>...</td>\n",
       "      <td>...</td>\n",
       "      <td>...</td>\n",
       "      <td>...</td>\n",
       "      <td>...</td>\n",
       "      <td>...</td>\n",
       "      <td>...</td>\n",
       "      <td>...</td>\n",
       "      <td>...</td>\n",
       "      <td>...</td>\n",
       "      <td>...</td>\n",
       "      <td>...</td>\n",
       "    </tr>\n",
       "    <tr>\n",
       "      <th>43686</th>\n",
       "      <td>-0.448198</td>\n",
       "      <td>-0.350041</td>\n",
       "      <td>-0.506754</td>\n",
       "      <td>-0.542378</td>\n",
       "      <td>-0.443520</td>\n",
       "      <td>-0.452528</td>\n",
       "      <td>-0.364299</td>\n",
       "      <td>turnetr01</td>\n",
       "      <td>-0.407728</td>\n",
       "      <td>-0.547344</td>\n",
       "      <td>0.027295</td>\n",
       "      <td>-0.478008</td>\n",
       "      <td>-0.390894</td>\n",
       "      <td>-0.427949</td>\n",
       "      <td>1.0</td>\n",
       "      <td>False</td>\n",
       "    </tr>\n",
       "    <tr>\n",
       "      <th>43687</th>\n",
       "      <td>0.781068</td>\n",
       "      <td>0.410928</td>\n",
       "      <td>0.186854</td>\n",
       "      <td>0.614127</td>\n",
       "      <td>0.573732</td>\n",
       "      <td>0.309030</td>\n",
       "      <td>0.325219</td>\n",
       "      <td>urshegi01</td>\n",
       "      <td>0.382690</td>\n",
       "      <td>0.258928</td>\n",
       "      <td>-0.357982</td>\n",
       "      <td>0.058954</td>\n",
       "      <td>0.748672</td>\n",
       "      <td>0.186402</td>\n",
       "      <td>1.0</td>\n",
       "      <td>False</td>\n",
       "    </tr>\n",
       "    <tr>\n",
       "      <th>43688</th>\n",
       "      <td>-0.659393</td>\n",
       "      <td>-0.567460</td>\n",
       "      <td>-0.605841</td>\n",
       "      <td>-1.099213</td>\n",
       "      <td>-0.623035</td>\n",
       "      <td>-0.452528</td>\n",
       "      <td>-0.502202</td>\n",
       "      <td>waldrky02</td>\n",
       "      <td>-0.605333</td>\n",
       "      <td>-0.587657</td>\n",
       "      <td>-0.357982</td>\n",
       "      <td>-0.478008</td>\n",
       "      <td>-0.663400</td>\n",
       "      <td>-0.427949</td>\n",
       "      <td>1.0</td>\n",
       "      <td>False</td>\n",
       "    </tr>\n",
       "    <tr>\n",
       "      <th>43689</th>\n",
       "      <td>-0.551088</td>\n",
       "      <td>-0.513105</td>\n",
       "      <td>-0.308580</td>\n",
       "      <td>-0.949296</td>\n",
       "      <td>-0.503358</td>\n",
       "      <td>-0.452528</td>\n",
       "      <td>-0.364299</td>\n",
       "      <td>willima07</td>\n",
       "      <td>-0.486770</td>\n",
       "      <td>-0.466716</td>\n",
       "      <td>-0.357982</td>\n",
       "      <td>-0.478008</td>\n",
       "      <td>-0.613853</td>\n",
       "      <td>-0.427949</td>\n",
       "      <td>1.0</td>\n",
       "      <td>False</td>\n",
       "    </tr>\n",
       "    <tr>\n",
       "      <th>43690</th>\n",
       "      <td>-0.491520</td>\n",
       "      <td>-0.567460</td>\n",
       "      <td>-0.605841</td>\n",
       "      <td>-0.906462</td>\n",
       "      <td>-0.483412</td>\n",
       "      <td>-0.071749</td>\n",
       "      <td>-0.502202</td>\n",
       "      <td>willima08</td>\n",
       "      <td>-0.526291</td>\n",
       "      <td>-0.547344</td>\n",
       "      <td>-0.357982</td>\n",
       "      <td>-0.478008</td>\n",
       "      <td>-0.489987</td>\n",
       "      <td>0.186402</td>\n",
       "      <td>1.0</td>\n",
       "      <td>False</td>\n",
       "    </tr>\n",
       "  </tbody>\n",
       "</table>\n",
       "<p>43691 rows × 16 columns</p>\n",
       "</div>"
      ],
      "text/plain": [
       "             ab        bb    double         g         h       hbp        hr  \\\n",
       "0     -0.661588 -0.438871 -0.640879 -0.705525 -0.583966 -0.539028 -0.388342   \n",
       "1     -1.145500 -0.634319 -1.124076 -1.026475 -1.017650 -1.125153 -0.813317   \n",
       "2     -1.161406 -0.031041 -1.378979 -0.693510 -1.160762 -0.056680 -1.235447   \n",
       "3     -1.954610 -0.615781 -2.052017 -1.647343 -1.893377 -0.604941 -1.638442   \n",
       "4     -1.744661 -0.229190 -2.314481 -1.438181 -1.531243 -1.148788 -2.011442   \n",
       "...         ...       ...       ...       ...       ...       ...       ...   \n",
       "43686 -0.448198 -0.350041 -0.506754 -0.542378 -0.443520 -0.452528 -0.364299   \n",
       "43687  0.781068  0.410928  0.186854  0.614127  0.573732  0.309030  0.325219   \n",
       "43688 -0.659393 -0.567460 -0.605841 -1.099213 -0.623035 -0.452528 -0.502202   \n",
       "43689 -0.551088 -0.513105 -0.308580 -0.949296 -0.503358 -0.452528 -0.364299   \n",
       "43690 -0.491520 -0.567460 -0.605841 -0.906462 -0.483412 -0.071749 -0.502202   \n",
       "\n",
       "       player_id         r       rbi        sb        sh        so    triple  \\\n",
       "0      acostme01 -0.539369 -0.609924 -0.335788 -0.665060 -0.794309 -0.310270   \n",
       "1      acostme01 -0.903027 -1.153566 -0.636014 -1.424980 -0.892177 -0.404662   \n",
       "2      acostme01 -0.879855 -1.079926 -0.389503 -1.058649 -1.112142 -0.762685   \n",
       "3      acostme01 -1.575987 -1.775687 -0.956969 -1.764229 -2.108656 -1.364642   \n",
       "4      acostme01 -1.190280 -1.700775 -0.966303 -1.027140 -2.202136 -0.952990   \n",
       "...          ...       ...       ...       ...       ...       ...       ...   \n",
       "43686  turnetr01 -0.407728 -0.547344  0.027295 -0.478008 -0.390894 -0.427949   \n",
       "43687  urshegi01  0.382690  0.258928 -0.357982  0.058954  0.748672  0.186402   \n",
       "43688  waldrky02 -0.605333 -0.587657 -0.357982 -0.478008 -0.663400 -0.427949   \n",
       "43689  willima07 -0.486770 -0.466716 -0.357982 -0.478008 -0.613853 -0.427949   \n",
       "43690  willima08 -0.526291 -0.547344 -0.357982 -0.478008 -0.489987  0.186402   \n",
       "\n",
       "       years_played    hof  \n",
       "0               1.0  False  \n",
       "1               2.0  False  \n",
       "2               3.0  False  \n",
       "3               4.0  False  \n",
       "4               5.0  False  \n",
       "...             ...    ...  \n",
       "43686           1.0  False  \n",
       "43687           1.0  False  \n",
       "43688           1.0  False  \n",
       "43689           1.0  False  \n",
       "43690           1.0  False  \n",
       "\n",
       "[43691 rows x 16 columns]"
      ]
     },
     "execution_count": 3,
     "metadata": {},
     "output_type": "execute_result"
    }
   ],
   "source": [
    "agg_df.drop(columns=['Unnamed: 0', 'Unnamed: 0.1'])"
   ]
  },
  {
   "cell_type": "code",
   "execution_count": 4,
   "metadata": {},
   "outputs": [],
   "source": [
    "career_length = agg_df.groupby('player_id')['years_played'].max()\n",
    "players_5yrs = career_length[career_length > 5]"
   ]
  },
  {
   "cell_type": "markdown",
   "metadata": {},
   "source": [
    "# Classifying the time series samples"
   ]
  },
  {
   "cell_type": "markdown",
   "metadata": {},
   "source": [
    "### Approaches:\n",
    "* Zero pad, and throw into one time series classifier  \n",
    "* Train one time series classifier for each length (1-year careers, 2-year careers, etc.)\n",
    "\n"
   ]
  },
  {
   "cell_type": "code",
   "execution_count": 11,
   "metadata": {},
   "outputs": [],
   "source": [
    "X_all = np.load('../data_ready/ts/X_all.npy')\n",
    "y_all = np.load('../data_ready/y_all.npy')\n",
    "years_played_all = np.load('../data_ready/years_played_all.npy')\n",
    "player_ids_all = np.load('../data_ready/player_ids_all.npy', allow_pickle=True)"
   ]
  },
  {
   "cell_type": "markdown",
   "metadata": {},
   "source": [
    "### train / test split by HOF / non-hof players"
   ]
  },
  {
   "cell_type": "code",
   "execution_count": 12,
   "metadata": {},
   "outputs": [],
   "source": [
    "hof_players = agg_df[agg_df['hof']]['player_id'].unique()\n",
    "non_hof_players = agg_df[~agg_df['hof']]['player_id'].unique()\n",
    "np.random.seed(1)\n",
    "np.random.shuffle(hof_players), np.random.shuffle(non_hof_players);"
   ]
  },
  {
   "cell_type": "code",
   "execution_count": 13,
   "metadata": {},
   "outputs": [],
   "source": [
    "train_ratio = 0.7\n",
    "zeros_ratio = 1\n",
    "n_hof, n_non = len(hof_players), len(non_hof_players)\n",
    "\n",
    "train_hof, test_hof = hof_players[:int(n_hof*train_ratio)], hof_players[int(n_hof*train_ratio):]\n",
    "train_non, test_non = non_hof_players[:int(n_non*train_ratio)], non_hof_players[int(n_non*train_ratio):]\n",
    "\n",
    "train_non_sample = train_non[:int(len(train_non)*zeros_ratio)]\n",
    "\n",
    "train_players, test_players = set(np.concatenate((train_hof, train_non_sample))), set(np.concatenate((test_hof, test_non)))\n",
    "train_idxs = np.array([i for i in range(len(player_ids_all)) if player_ids_all[i] in train_players])\n",
    "test_idxs = np.array([i for i in range(len(player_ids_all)) if player_ids_all[i] in test_players])"
   ]
  },
  {
   "cell_type": "code",
   "execution_count": 14,
   "metadata": {},
   "outputs": [
    {
     "data": {
      "text/plain": [
       "array(['brownwi02', 'gehrich01', 'snidedu01', 'camparo01', 'sislege01',\n",
       "       'guerrvl01', 'gosligo01', 'perezto01', 'riceji01', 'winfida01',\n",
       "       'smithoz01', 'benchjo01', 'bankser01', 'martied01', 'bottoji01',\n",
       "       'lazzeto01', 'cronijo01', 'ripkeca01', 'traynpi01', 'morgajo02',\n",
       "       'manushe01', 'molitpa01', 'wilsoha01', 'reesepe01', 'simmoal01',\n",
       "       'ricesa01', 'gwynnto01', 'killeha01', 'robinfr02', 'heilmha01',\n",
       "       'jackstr01', 'irvinmo01', 'willibi01', 'kellyge01', 'mazerbi01',\n",
       "       'friscfr01', 'beltrad01', 'clemero01', 'applilu01'], dtype=object)"
      ]
     },
     "execution_count": 14,
     "metadata": {},
     "output_type": "execute_result"
    }
   ],
   "source": [
    "test_hof"
   ]
  },
  {
   "cell_type": "code",
   "execution_count": 15,
   "metadata": {},
   "outputs": [],
   "source": [
    "X_train, X_test = X_all[train_idxs], X_all[test_idxs]\n",
    "y_train, y_test = y_all[train_idxs], y_all[test_idxs]\n",
    "train_years_played, test_years_played = years_played_all[train_idxs], years_played_all[test_idxs]\n",
    "train_player_ids, test_player_ids = player_ids_all[train_idxs], player_ids_all[test_idxs]"
   ]
  },
  {
   "cell_type": "markdown",
   "metadata": {},
   "source": [
    "## Undo zero-padding + group idxs by # of samples"
   ]
  },
  {
   "cell_type": "code",
   "execution_count": 199,
   "metadata": {},
   "outputs": [],
   "source": [
    "X_train_unpad, X_test_unpad = [], []\n",
    "idx_train_by_year, idx_test_by_year = [[] for _ in range(26)], [[] for _ in range(26)]\n",
    "for i in range(X_train.shape[0]):\n",
    "    yrs_played = int(train_years_played[i])\n",
    "    idx_train_by_year[yrs_played].append(i)\n",
    "    X_train_unpad.append(X_train[i][:yrs_played])\n",
    "for i in range(X_test.shape[0]):\n",
    "    yrs_played = int(test_years_played[i])\n",
    "    idx_test_by_year[yrs_played].append(i)\n",
    "    X_test_unpad.append(X_test[i][:yrs_played])"
   ]
  },
  {
   "cell_type": "markdown",
   "metadata": {},
   "source": [
    "### % of HOFers + # of samples for each career length"
   ]
  },
  {
   "cell_type": "code",
   "execution_count": 170,
   "metadata": {},
   "outputs": [
    {
     "name": "stdout",
     "output_type": "stream",
     "text": [
      "training data\n"
     ]
    },
    {
     "data": {
      "text/plain": [
       "[(0.04365079365079365, 2016),\n",
       " (0.05648267008985879, 1558),\n",
       " (0.0682699767261443, 1289),\n",
       " (0.08014571948998178, 1098),\n",
       " (0.09292502639915523, 947),\n",
       " (0.10438908659549229, 843),\n",
       " (0.11780455153949129, 747),\n",
       " (0.13273001508295626, 663),\n",
       " (0.1543859649122807, 570),\n",
       " (0.1825726141078838, 482),\n",
       " (0.2119700748129676, 401),\n",
       " (0.24561403508771928, 342),\n",
       " (0.31297709923664124, 262),\n",
       " (0.34101382488479265, 217),\n",
       " (0.39325842696629215, 178),\n",
       " (0.4701492537313433, 134),\n",
       " (0.5263157894736842, 114),\n",
       " (0.6710526315789473, 76),\n",
       " (0.7543859649122807, 57),\n",
       " (0.9166666666666666, 36),\n",
       " (0.9615384615384616, 26),\n",
       " (1.0, 18),\n",
       " (1.0, 8),\n",
       " (1.0, 3),\n",
       " (1.0, 1)]"
      ]
     },
     "metadata": {},
     "output_type": "display_data"
    },
    {
     "name": "stdout",
     "output_type": "stream",
     "text": [
      "test data\n"
     ]
    },
    {
     "name": "stderr",
     "output_type": "stream",
     "text": [
      "<ipython-input-170-ff41d8fec79c>:5: RuntimeWarning: invalid value encountered in long_scalars\n",
      "  test_hist = [(np.sum(y_test[idx_test_by_year[i]]) / len(idx_test_by_year[i]), len(idx_test_by_year[i])) for i in range(1, 26)]\n"
     ]
    },
    {
     "data": {
      "text/plain": [
       "[(0.018095238095238095, 2100),\n",
       " (0.023125, 1600),\n",
       " (0.028136882129277566, 1315),\n",
       " (0.03268551236749117, 1132),\n",
       " (0.03707414829659319, 998),\n",
       " (0.041666666666666664, 888),\n",
       " (0.04798962386511025, 771),\n",
       " (0.0549777117384844, 673),\n",
       " (0.060810810810810814, 592),\n",
       " (0.0728744939271255, 494),\n",
       " (0.08333333333333333, 420),\n",
       " (0.10174418604651163, 344),\n",
       " (0.12546125461254612, 271),\n",
       " (0.1588785046728972, 214),\n",
       " (0.19642857142857142, 168),\n",
       " (0.22962962962962963, 135),\n",
       " (0.25742574257425743, 101),\n",
       " (0.30434782608695654, 69),\n",
       " (0.37209302325581395, 43),\n",
       " (0.4444444444444444, 27),\n",
       " (0.5384615384615384, 13),\n",
       " (0.4, 10),\n",
       " (0.3333333333333333, 3),\n",
       " (0.0, 1),\n",
       " (nan, 0)]"
      ]
     },
     "execution_count": 170,
     "metadata": {},
     "output_type": "execute_result"
    }
   ],
   "source": [
    "print('training data')\n",
    "train_hist = [(np.sum(y_train[idx_train_by_year[i]]) / len(idx_train_by_year[i]), len(idx_train_by_year[i])) for i in range(1, 26)]\n",
    "display(train_hist)\n",
    "print('test data')\n",
    "test_hist = [(np.sum(y_test[idx_test_by_year[i]]) / len(idx_test_by_year[i]), len(idx_test_by_year[i])) for i in range(1, 26)]\n",
    "test_hist"
   ]
  },
  {
   "cell_type": "markdown",
   "metadata": {},
   "source": [
    "## Random HOF and non-HOF samples:\n"
   ]
  },
  {
   "cell_type": "code",
   "execution_count": 171,
   "metadata": {},
   "outputs": [],
   "source": [
    "np.random.seed(1)\n",
    "hof_rand, non_hof_rand = np.random.choice(np.where(y_train == 1)[0]), np.random.choice(np.where(y_train == 0)[0])"
   ]
  },
  {
   "cell_type": "code",
   "execution_count": 172,
   "metadata": {},
   "outputs": [
    {
     "data": {
      "text/plain": [
       "array([[ 1.1397146 ,  2.02168166,  1.67783737,  1.08165126,  0.79330746,\n",
       "         0.4307195 ,  1.43247401,  1.64431773,  0.89903381,  3.21099742,\n",
       "         0.01175137,  2.02244887,  0.97868075],\n",
       "       [ 1.83910241,  1.49446174,  2.36819163,  1.85646077,  1.6838071 ,\n",
       "         0.92022933,  2.13481438,  2.35548097,  1.15177433,  2.77268543,\n",
       "        -0.66056693,  1.58710637,  3.81924303]])"
      ]
     },
     "metadata": {},
     "output_type": "display_data"
    },
    {
     "data": {
      "text/plain": [
       "2.0"
      ]
     },
     "metadata": {},
     "output_type": "display_data"
    },
    {
     "data": {
      "text/plain": [
       "'bondsba01'"
      ]
     },
     "metadata": {},
     "output_type": "display_data"
    },
    {
     "data": {
      "text/plain": [
       "array([[-0.74951754, -0.66633881, -0.60523593, -0.95311561, -0.67348963,\n",
       "        -0.56572792, -0.42212953, -0.69881213, -0.68285082, -0.57575304,\n",
       "        -0.75457976, -1.0194754 , -0.35802334]])"
      ]
     },
     "metadata": {},
     "output_type": "display_data"
    },
    {
     "data": {
      "text/plain": [
       "1.0"
      ]
     },
     "metadata": {},
     "output_type": "display_data"
    },
    {
     "data": {
      "text/plain": [
       "'kolseka01'"
      ]
     },
     "metadata": {},
     "output_type": "display_data"
    }
   ],
   "source": [
    "for i in (hof_rand, non_hof_rand):\n",
    "    display(X_train_unpad[i], train_years_played[i], train_player_ids[i])"
   ]
  },
  {
   "cell_type": "markdown",
   "metadata": {},
   "source": [
    "# Models"
   ]
  },
  {
   "cell_type": "markdown",
   "metadata": {},
   "source": [
    "### ROCKET \n",
    "hinge: train in 70 sec, 90 epochs  \n",
    "log: train in 150 sec, 101 epochs\n",
    "\n",
    "\n",
    "\n",
    "\n",
    "\n",
    "Trying 70/30 splits because 80/20 gives too few 'full career' test samples of HOFers"
   ]
  },
  {
   "cell_type": "code",
   "execution_count": 523,
   "metadata": {},
   "outputs": [],
   "source": [
    "import numpy as np\n",
    "from sklearn.linear_model import SGDClassifier, LogisticRegression, LogisticRegressionCV\n",
    "from sklearn.pipeline import make_pipeline\n",
    "from sklearn.svm import SVC\n",
    "from sklearn.gaussian_process import GaussianProcessClassifier\n",
    "\n",
    "from sktime.transformers.series_as_features.rocket import Rocket"
   ]
  },
  {
   "cell_type": "code",
   "execution_count": 524,
   "metadata": {},
   "outputs": [],
   "source": [
    "def eval_rocket(rocket_pipeline, X_test, y_test):\n",
    "    ones_preds, zeros_preds, ones_score, zeros_score = None, None, None, None\n",
    "    n_ones = np.sum(y_test)\n",
    "    n_zeros = np.sum(1-y_test)\n",
    "    try:\n",
    "#         print('ones ({})'.format(np.sum(y_test)))\n",
    "        ones_preds = rocket_pipeline.predict(X_test[y_test == 1])\n",
    "        ones_score = np.sum(ones_preds) / len(ones_preds)\n",
    "#         print(ones_score)\n",
    "    except:\n",
    "        pass\n",
    "    try:\n",
    "#         print('zeros ({})'.format(np.sum(1-y_test)))\n",
    "        zeros_preds = rocket_pipeline.predict(X_test[y_test == 0])\n",
    "        zeros_score = np.sum(1-zeros_preds) / len(zeros_preds)\n",
    "#         print(zeros_score)\n",
    "    except:\n",
    "        pass\n",
    "    \n",
    "    return ones_preds, zeros_preds, (ones_score, n_ones), (zeros_score, n_zeros)"
   ]
  },
  {
   "cell_type": "code",
   "execution_count": 536,
   "metadata": {},
   "outputs": [],
   "source": [
    "def eval_rocket_by_year(rocket_pipeline, X_test, y_test, agg_df, test_player_ids, test_years_played, test_zeros_ratio=1, years_before_end=-1):\n",
    "    \n",
    "    if years_before_end != -1:\n",
    "        player_career_lengths = agg_df.groupby('player_id')['years_played'].max().to_dict()\n",
    "        test_idxs_full_careers = [i for i in range(len(X_test)) if player_career_lengths[test_player_ids[i]] - years_before_end == test_years_played[i]]\n",
    "\n",
    "        X_test_full_careers, y_test_full_careers = X_test[test_idxs_full_careers], y_test[test_idxs_full_careers]\n",
    "        \n",
    "        test_0s = np.where(y_test_full_careers==0)[0]\n",
    "        np.random.seed(1)\n",
    "        idxs_sample_0s = np.random.choice(test_0s, size=int(len(test_0s) * test_zeros_ratio), replace=False)\n",
    "        \n",
    "        idxs = np.concatenate((idxs_sample_0s, np.where(y_test_full_careers==1)[0]))\n",
    "        if years_before_end == 0:\n",
    "            print(classification_report(y_test_full_careers[idxs], rocket_pipeline.predict(X_test_full_careers[idxs])))\n",
    "            print(percent_fp_got_votes(y_test_full_careers[idxs], rocket_pipeline.predict(X_test_full_careers[idxs]), test_player_ids[test_idxs_full_careers][idxs]))\n",
    "        \n",
    "        return eval_rocket(rocket_pipeline, X_test_full_careers[idxs], y_test_full_careers[idxs])\n",
    "    else:\n",
    "        return eval_rocket(rocket_pipeline, X_test, y_test)\n",
    "        "
   ]
  },
  {
   "cell_type": "code",
   "execution_count": 538,
   "metadata": {},
   "outputs": [],
   "source": [
    "rocket_pipeline_sgd = make_pipeline(Rocket(), SGDClassifier(eta0=0.001, learning_rate='adaptive', verbose=1, class_weight={0:0.01, 1:1.0}))"
   ]
  },
  {
   "cell_type": "code",
   "execution_count": null,
   "metadata": {},
   "outputs": [],
   "source": [
    "rocket_pipeline_sgd.fit(X_train, y_train)"
   ]
  },
  {
   "cell_type": "code",
   "execution_count": 540,
   "metadata": {},
   "outputs": [
    {
     "name": "stdout",
     "output_type": "stream",
     "text": [
      "              precision    recall  f1-score   support\n",
      "\n",
      "           0       0.99      0.92      0.96      2062\n",
      "           1       0.10      0.45      0.16        38\n",
      "\n",
      "    accuracy                           0.92      2100\n",
      "   macro avg       0.54      0.69      0.56      2100\n",
      "weighted avg       0.97      0.92      0.94      2100\n",
      "\n",
      "0.05806451612903226\n"
     ]
    },
    {
     "data": {
      "text/plain": [
       "((0.4473684210526316, 38), (0.9248302618816683, 2062))"
      ]
     },
     "execution_count": 540,
     "metadata": {},
     "output_type": "execute_result"
    }
   ],
   "source": [
    "_, _, ones_score, zeros_score = eval_rocket_by_year(rocket_pipeline_sgd, X_test, y_test, agg_df, test_player_ids, test_years_played, years_before_end=0)\n",
    "ones_score, zeros_score"
   ]
  },
  {
   "cell_type": "code",
   "execution_count": 542,
   "metadata": {},
   "outputs": [
    {
     "name": "stdout",
     "output_type": "stream",
     "text": [
      "              precision    recall  f1-score   support\n",
      "\n",
      "           0       0.99      0.92      0.96      2062\n",
      "           1       0.10      0.45      0.16        38\n",
      "\n",
      "    accuracy                           0.92      2100\n",
      "   macro avg       0.54      0.69      0.56      2100\n",
      "weighted avg       0.97      0.92      0.94      2100\n",
      "\n",
      "0.05806451612903226\n"
     ]
    },
    {
     "data": {
      "text/plain": [
       "([(0.4473684210526316, 38),\n",
       "  (0.3783783783783784, 37),\n",
       "  (0.32432432432432434, 37),\n",
       "  (0.32432432432432434, 37),\n",
       "  (0.32432432432432434, 37),\n",
       "  (0.2972972972972973, 37),\n",
       "  (0.1891891891891892, 37),\n",
       "  (0.13513513513513514, 37),\n",
       "  (0.19444444444444445, 36),\n",
       "  (0.1111111111111111, 36),\n",
       "  (0.11428571428571428, 35),\n",
       "  (0.11428571428571428, 35),\n",
       "  (0.08823529411764706, 34),\n",
       "  (0.14705882352941177, 34),\n",
       "  (0.15151515151515152, 33),\n",
       "  (0.06451612903225806, 31),\n",
       "  (0.07692307692307693, 26),\n",
       "  (0.19047619047619047, 21),\n",
       "  (0.1875, 16),\n",
       "  (0.08333333333333333, 12),\n",
       "  (0.42857142857142855, 7),\n",
       "  (0.0, 4),\n",
       "  (0.0, 1),\n",
       "  (None, 0),\n",
       "  (None, 0),\n",
       "  (None, 0)],\n",
       " [(0.9248302618816683, 2062),\n",
       "  (0.9520153550863724, 1563),\n",
       "  (0.9491392801251957, 1278),\n",
       "  (0.9452054794520548, 1095),\n",
       "  (0.9531737773152965, 961),\n",
       "  (0.9435957696827262, 851),\n",
       "  (0.9564032697547684, 734),\n",
       "  (0.940251572327044, 636),\n",
       "  (0.935251798561151, 556),\n",
       "  (0.9192139737991266, 458),\n",
       "  (0.9246753246753247, 385),\n",
       "  (0.9061488673139159, 309),\n",
       "  (0.890295358649789, 237),\n",
       "  (0.9111111111111111, 180),\n",
       "  (0.9407407407407408, 135),\n",
       "  (0.8846153846153846, 104),\n",
       "  (0.84, 75),\n",
       "  (0.8125, 48),\n",
       "  (0.8518518518518519, 27),\n",
       "  (0.9333333333333333, 15),\n",
       "  (0.8333333333333334, 6),\n",
       "  (0.8333333333333334, 6),\n",
       "  (1.0, 2),\n",
       "  (1.0, 1),\n",
       "  (None, 0),\n",
       "  (None, 0)])"
      ]
     },
     "execution_count": 542,
     "metadata": {},
     "output_type": "execute_result"
    }
   ],
   "source": [
    "ones_preds, zeros_preds, ones_scores, zeros_scores = [], [], [], []\n",
    "for i in range(26):\n",
    "    ones_pred, zeros_pred, ones_score, zeros_score = eval_rocket_by_year(rocket_pipeline_sgd, X_test, y_test, agg_df, test_player_ids, test_years_played, years_before_end=i)\n",
    "    ones_scores.append(ones_score), zeros_scores.append(zeros_score)\n",
    "    ones_preds.append(ones_pred), zeros_preds.append(zeros_pred)\n",
    "ones_scores, zeros_scores"
   ]
  },
  {
   "cell_type": "code",
   "execution_count": 315,
   "metadata": {},
   "outputs": [
    {
     "ename": "AxisError",
     "evalue": "axis 1 is out of bounds for array of dimension 1",
     "output_type": "error",
     "traceback": [
      "\u001b[0;31m---------------------------------------------------------------------------\u001b[0m",
      "\u001b[0;31mAxisError\u001b[0m                                 Traceback (most recent call last)",
      "\u001b[0;32m<ipython-input-315-920fad30d491>\u001b[0m in \u001b[0;36m<module>\u001b[0;34m\u001b[0m\n\u001b[0;32m----> 1\u001b[0;31m \u001b[0;34m[\u001b[0m\u001b[0mx\u001b[0m\u001b[0;34m.\u001b[0m\u001b[0mmax\u001b[0m\u001b[0;34m(\u001b[0m\u001b[0maxis\u001b[0m\u001b[0;34m=\u001b[0m\u001b[0;36m1\u001b[0m\u001b[0;34m)\u001b[0m\u001b[0;34m.\u001b[0m\u001b[0mmean\u001b[0m\u001b[0;34m(\u001b[0m\u001b[0maxis\u001b[0m\u001b[0;34m=\u001b[0m\u001b[0;36m0\u001b[0m\u001b[0;34m)\u001b[0m \u001b[0;32mfor\u001b[0m \u001b[0mx\u001b[0m \u001b[0;32min\u001b[0m \u001b[0mones_preds\u001b[0m \u001b[0;32mif\u001b[0m \u001b[0mx\u001b[0m \u001b[0;32mis\u001b[0m \u001b[0;32mnot\u001b[0m \u001b[0;32mNone\u001b[0m\u001b[0;34m]\u001b[0m\u001b[0;34m\u001b[0m\u001b[0;34m\u001b[0m\u001b[0m\n\u001b[0m",
      "\u001b[0;32m<ipython-input-315-920fad30d491>\u001b[0m in \u001b[0;36m<listcomp>\u001b[0;34m(.0)\u001b[0m\n\u001b[0;32m----> 1\u001b[0;31m \u001b[0;34m[\u001b[0m\u001b[0mx\u001b[0m\u001b[0;34m.\u001b[0m\u001b[0mmax\u001b[0m\u001b[0;34m(\u001b[0m\u001b[0maxis\u001b[0m\u001b[0;34m=\u001b[0m\u001b[0;36m1\u001b[0m\u001b[0;34m)\u001b[0m\u001b[0;34m.\u001b[0m\u001b[0mmean\u001b[0m\u001b[0;34m(\u001b[0m\u001b[0maxis\u001b[0m\u001b[0;34m=\u001b[0m\u001b[0;36m0\u001b[0m\u001b[0;34m)\u001b[0m \u001b[0;32mfor\u001b[0m \u001b[0mx\u001b[0m \u001b[0;32min\u001b[0m \u001b[0mones_preds\u001b[0m \u001b[0;32mif\u001b[0m \u001b[0mx\u001b[0m \u001b[0;32mis\u001b[0m \u001b[0;32mnot\u001b[0m \u001b[0;32mNone\u001b[0m\u001b[0;34m]\u001b[0m\u001b[0;34m\u001b[0m\u001b[0;34m\u001b[0m\u001b[0m\n\u001b[0m",
      "\u001b[0;32m~/anaconda3/lib/python3.8/site-packages/numpy/core/_methods.py\u001b[0m in \u001b[0;36m_amax\u001b[0;34m(a, axis, out, keepdims, initial, where)\u001b[0m\n\u001b[1;32m     28\u001b[0m def _amax(a, axis=None, out=None, keepdims=False,\n\u001b[1;32m     29\u001b[0m           initial=_NoValue, where=True):\n\u001b[0;32m---> 30\u001b[0;31m     \u001b[0;32mreturn\u001b[0m \u001b[0mumr_maximum\u001b[0m\u001b[0;34m(\u001b[0m\u001b[0ma\u001b[0m\u001b[0;34m,\u001b[0m \u001b[0maxis\u001b[0m\u001b[0;34m,\u001b[0m \u001b[0;32mNone\u001b[0m\u001b[0;34m,\u001b[0m \u001b[0mout\u001b[0m\u001b[0;34m,\u001b[0m \u001b[0mkeepdims\u001b[0m\u001b[0;34m,\u001b[0m \u001b[0minitial\u001b[0m\u001b[0;34m,\u001b[0m \u001b[0mwhere\u001b[0m\u001b[0;34m)\u001b[0m\u001b[0;34m\u001b[0m\u001b[0;34m\u001b[0m\u001b[0m\n\u001b[0m\u001b[1;32m     31\u001b[0m \u001b[0;34m\u001b[0m\u001b[0m\n\u001b[1;32m     32\u001b[0m def _amin(a, axis=None, out=None, keepdims=False,\n",
      "\u001b[0;31mAxisError\u001b[0m: axis 1 is out of bounds for array of dimension 1"
     ]
    }
   ],
   "source": [
    "[x.max(axis=1).mean(axis=0) for x in ones_preds if x is not None]"
   ]
  },
  {
   "cell_type": "code",
   "execution_count": 553,
   "metadata": {},
   "outputs": [],
   "source": [
    "rocket_pipeline_lr = make_pipeline(Rocket(), LogisticRegression(verbose=1, class_weight={0:0.1, 1:1}))"
   ]
  },
  {
   "cell_type": "code",
   "execution_count": 554,
   "metadata": {},
   "outputs": [
    {
     "name": "stderr",
     "output_type": "stream",
     "text": [
      "[Parallel(n_jobs=1)]: Using backend SequentialBackend with 1 concurrent workers.\n",
      "/home/nick/anaconda3/lib/python3.8/site-packages/sklearn/linear_model/_logistic.py:762: ConvergenceWarning: lbfgs failed to converge (status=1):\n",
      "STOP: TOTAL NO. of ITERATIONS REACHED LIMIT.\n",
      "\n",
      "Increase the number of iterations (max_iter) or scale the data as shown in:\n",
      "    https://scikit-learn.org/stable/modules/preprocessing.html\n",
      "Please also refer to the documentation for alternative solver options:\n",
      "    https://scikit-learn.org/stable/modules/linear_model.html#logistic-regression\n",
      "  n_iter_i = _check_optimize_result(\n",
      "[Parallel(n_jobs=1)]: Done   1 out of   1 | elapsed:   37.3s finished\n"
     ]
    },
    {
     "data": {
      "text/plain": [
       "Pipeline(steps=[('rocket', Rocket()),\n",
       "                ('logisticregression',\n",
       "                 LogisticRegression(class_weight={0: 0.01, 1: 1}, verbose=1))])"
      ]
     },
     "execution_count": 554,
     "metadata": {},
     "output_type": "execute_result"
    }
   ],
   "source": [
    "rocket_pipeline_lr.fit(X_train, y_train)"
   ]
  },
  {
   "cell_type": "code",
   "execution_count": 555,
   "metadata": {},
   "outputs": [
    {
     "name": "stdout",
     "output_type": "stream",
     "text": [
      "              precision    recall  f1-score   support\n",
      "\n",
      "           0       0.99      0.91      0.94      2062\n",
      "           1       0.06      0.32      0.10        38\n",
      "\n",
      "    accuracy                           0.90      2100\n",
      "   macro avg       0.52      0.61      0.52      2100\n",
      "weighted avg       0.97      0.90      0.93      2100\n",
      "\n",
      "0.061855670103092786\n"
     ]
    }
   ],
   "source": [
    "ones_preds_lr, zeros_preds_lr, ones_scores_lr, zeros_scores_lr = [], [], [], []\n",
    "for i in range(26):\n",
    "    ones_pred, zeros_pred, ones_score, zeros_score = eval_rocket_by_year(rocket_pipeline_lr, X_test, y_test, agg_df, test_player_ids, test_years_played, years_before_end=i)\n",
    "    ones_scores_lr.append(ones_score), zeros_scores_lr.append(zeros_score)\n",
    "    ones_preds_lr.append(ones_pred), zeros_preds_lr.append(zeros_pred)"
   ]
  },
  {
   "cell_type": "code",
   "execution_count": null,
   "metadata": {},
   "outputs": [],
   "source": [
    "[x.max(axis=1).mean(axis=0) for x in ones_preds_lr if x is not None]"
   ]
  },
  {
   "cell_type": "code",
   "execution_count": 556,
   "metadata": {},
   "outputs": [
    {
     "data": {
      "text/plain": [
       "([(0.3157894736842105, 38),\n",
       "  (0.24324324324324326, 37),\n",
       "  (0.2702702702702703, 37),\n",
       "  (0.21621621621621623, 37),\n",
       "  (0.1891891891891892, 37),\n",
       "  (0.13513513513513514, 37),\n",
       "  (0.10810810810810811, 37),\n",
       "  (0.1891891891891892, 37),\n",
       "  (0.19444444444444445, 36),\n",
       "  (0.16666666666666666, 36),\n",
       "  (0.17142857142857143, 35),\n",
       "  (0.17142857142857143, 35),\n",
       "  (0.14705882352941177, 34),\n",
       "  (0.11764705882352941, 34),\n",
       "  (0.24242424242424243, 33),\n",
       "  (0.12903225806451613, 31),\n",
       "  (0.15384615384615385, 26),\n",
       "  (0.19047619047619047, 21),\n",
       "  (0.1875, 16),\n",
       "  (0.25, 12),\n",
       "  (0.2857142857142857, 7),\n",
       "  (0.25, 4),\n",
       "  (0.0, 1),\n",
       "  (None, 0),\n",
       "  (None, 0),\n",
       "  (None, 0)],\n",
       " [(0.9059165858389913, 2062),\n",
       "  (0.9315419065898912, 1563),\n",
       "  (0.9280125195618153, 1278),\n",
       "  (0.9324200913242009, 1095),\n",
       "  (0.9406867845993756, 961),\n",
       "  (0.918918918918919, 851),\n",
       "  (0.9182561307901907, 734),\n",
       "  (0.9025157232704403, 636),\n",
       "  (0.9046762589928058, 556),\n",
       "  (0.8799126637554585, 458),\n",
       "  (0.8727272727272727, 385),\n",
       "  (0.8576051779935275, 309),\n",
       "  (0.869198312236287, 237),\n",
       "  (0.8888888888888888, 180),\n",
       "  (0.8814814814814815, 135),\n",
       "  (0.8653846153846154, 104),\n",
       "  (0.7733333333333333, 75),\n",
       "  (0.7708333333333334, 48),\n",
       "  (0.8148148148148148, 27),\n",
       "  (1.0, 15),\n",
       "  (0.8333333333333334, 6),\n",
       "  (1.0, 6),\n",
       "  (1.0, 2),\n",
       "  (1.0, 1),\n",
       "  (None, 0),\n",
       "  (None, 0)])"
      ]
     },
     "execution_count": 556,
     "metadata": {},
     "output_type": "execute_result"
    }
   ],
   "source": [
    "ones_scores_lr, zeros_scores_lr"
   ]
  },
  {
   "cell_type": "markdown",
   "metadata": {},
   "source": [
    "### LSTM\n",
    "\n",
    "#### best settings: all 0s, class weight 0.05, 50 epochs, LSTM 20, Dense 50"
   ]
  },
  {
   "cell_type": "code",
   "execution_count": null,
   "metadata": {},
   "outputs": [],
   "source": [
    "pip install tensorflow"
   ]
  },
  {
   "cell_type": "code",
   "execution_count": 7,
   "metadata": {},
   "outputs": [],
   "source": [
    "from keras.models import Sequential, load_model\n",
    "from keras.layers import Dense\n",
    "from keras.layers import Flatten\n",
    "from keras.layers import Dropout\n",
    "from keras.layers import LSTM\n",
    "from keras.utils import to_categorical\n",
    "from sklearn.metrics import classification_report"
   ]
  },
  {
   "cell_type": "code",
   "execution_count": 8,
   "metadata": {},
   "outputs": [],
   "source": [
    "def train_model(trainX, trainy):\n",
    "    verbose, epochs, batch_size = 1, 50, 64\n",
    "    n_timesteps, n_features, n_outputs = trainX.shape[1], trainX.shape[2], trainy.shape[1]\n",
    "    model = Sequential()\n",
    "    model.add(LSTM(20, input_shape=(n_timesteps,n_features)))\n",
    "#     model.add(LSTM(100))    , return_sequences=True\n",
    "#     model.add(Dropout(0.5))\n",
    "    model.add(Dense(50, activation='relu'))\n",
    "    model.add(Dense(n_outputs, activation='softmax'))\n",
    "    model.compile(loss='categorical_crossentropy', optimizer='adam', metrics=['accuracy'])\n",
    "    # fit network\n",
    "    model.fit(trainX, trainy, epochs=epochs, batch_size=batch_size, verbose=verbose, class_weight={0:0.05, 1:1.0})\n",
    "    return model"
   ]
  },
  {
   "cell_type": "code",
   "execution_count": 9,
   "metadata": {},
   "outputs": [],
   "source": [
    "def eval_lstm(lstm, X_test, y_test):\n",
    "    ones_preds, zeros_preds, ones_score, zeros_score = None, None, None, None\n",
    "    n_ones = np.sum(y_test)\n",
    "    n_zeros = np.sum(1-y_test)\n",
    "    try:\n",
    "#         print('ones ({})'.format(np.sum(y_test)))\n",
    "        ones_preds = lstm.predict(X_test[y_test == 1], batch_size=64, verbose=0)\n",
    "\n",
    "        ones_score = np.sum(np.argmax(ones_preds, axis=1)) / len(ones_preds)\n",
    "#         print(ones_score)\n",
    "    except:\n",
    "        pass\n",
    "    try:\n",
    "#         print('zeros ({})'.format(np.sum(1-y_test)))\n",
    "        zeros_preds = lstm.predict(X_test[y_test == 0], batch_size=64, verbose=0)\n",
    "        zeros_score = np.sum(1-np.argmax(zeros_preds, axis=1)) / len(zeros_preds)\n",
    "#         print(zeros_score)\n",
    "    except:\n",
    "        pass\n",
    "    \n",
    "    return ones_preds, zeros_preds, (ones_score, n_ones), (zeros_score, n_zeros)"
   ]
  },
  {
   "cell_type": "code",
   "execution_count": 10,
   "metadata": {},
   "outputs": [],
   "source": [
    "def eval_lstm_by_year(lstm, X_test, y_test, agg_df, test_player_ids, test_years_played, test_zeros_ratio=1, years_before_end=-1):\n",
    "    \n",
    "    if years_before_end != -1:\n",
    "        player_career_lengths = agg_df.groupby('player_id')['years_played'].max().to_dict()\n",
    "        test_idxs_full_careers = [i for i in range(len(X_test)) if player_career_lengths[test_player_ids[i]] - years_before_end == test_years_played[i]]\n",
    "\n",
    "        X_test_full_careers, y_test_full_careers = X_test[test_idxs_full_careers], y_test[test_idxs_full_careers]\n",
    "        \n",
    "        test_0s = np.where(y_test_full_careers==0)[0]\n",
    "        np.random.seed(1)\n",
    "        idxs_sample_0s = np.random.choice(test_0s, size=int(len(test_0s) * test_zeros_ratio), replace=False)\n",
    "        \n",
    "        idxs = np.concatenate((idxs_sample_0s, np.where(y_test_full_careers==1)[0]))\n",
    "        if years_before_end == 0:\n",
    "            print(classification_report(y_test_full_careers[idxs], np.argmax(lstm.predict(X_test_full_careers[idxs]), axis=1)))\n",
    "            print(percent_fp_got_votes(y_test_full_careers[idxs], np.argmax(lstm.predict(X_test_full_careers[idxs]), axis=1), test_player_ids[test_idxs_full_careers][idxs]))\n",
    "        return eval_lstm(lstm, X_test_full_careers[idxs], y_test_full_careers[idxs])\n",
    "    else:\n",
    "        return eval_rocket(lstm, X_test, y_test)"
   ]
  },
  {
   "cell_type": "code",
   "execution_count": 16,
   "metadata": {},
   "outputs": [
    {
     "data": {
      "text/plain": [
       "0.05647294302666381"
      ]
     },
     "execution_count": 16,
     "metadata": {},
     "output_type": "execute_result"
    }
   ],
   "source": [
    "sum(y_train) / len(y_train)"
   ]
  },
  {
   "cell_type": "code",
   "execution_count": 398,
   "metadata": {},
   "outputs": [
    {
     "data": {
      "text/plain": [
       "((0.9459459459459459, 37), (0.889955214331414, 1563))"
      ]
     },
     "execution_count": 398,
     "metadata": {},
     "output_type": "execute_result"
    }
   ],
   "source": [
    "eval_lstm_by_year(good_lstm, X_test, y_test, agg_df, test_player_ids, test_years_played, years_before_end=1)[-2:]"
   ]
  },
  {
   "cell_type": "code",
   "execution_count": 606,
   "metadata": {},
   "outputs": [
    {
     "name": "stdout",
     "output_type": "stream",
     "text": [
      "Epoch 1/50\n",
      "438/438 [==============================] - 3s 6ms/step - loss: 0.0306 - accuracy: 0.6612\n",
      "Epoch 2/50\n",
      "438/438 [==============================] - 3s 6ms/step - loss: 0.0244 - accuracy: 0.7547\n",
      "Epoch 3/50\n",
      "438/438 [==============================] - 3s 6ms/step - loss: 0.0225 - accuracy: 0.7888\n",
      "Epoch 4/50\n",
      "438/438 [==============================] - 3s 6ms/step - loss: 0.0211 - accuracy: 0.7949\n",
      "Epoch 5/50\n",
      "438/438 [==============================] - 3s 6ms/step - loss: 0.0204 - accuracy: 0.8088\n",
      "Epoch 6/50\n",
      "438/438 [==============================] - 3s 6ms/step - loss: 0.0200 - accuracy: 0.8177\n",
      "Epoch 7/50\n",
      "438/438 [==============================] - 3s 6ms/step - loss: 0.0190 - accuracy: 0.8233\n",
      "Epoch 8/50\n",
      "438/438 [==============================] - 3s 6ms/step - loss: 0.0182 - accuracy: 0.8415\n",
      "Epoch 9/50\n",
      "438/438 [==============================] - 3s 6ms/step - loss: 0.0176 - accuracy: 0.8459\n",
      "Epoch 10/50\n",
      "438/438 [==============================] - 3s 6ms/step - loss: 0.0176 - accuracy: 0.8518\n",
      "Epoch 11/50\n",
      "438/438 [==============================] - 3s 6ms/step - loss: 0.0171 - accuracy: 0.8570\n",
      "Epoch 12/50\n",
      "438/438 [==============================] - 3s 6ms/step - loss: 0.0172 - accuracy: 0.8576\n",
      "Epoch 13/50\n",
      "438/438 [==============================] - 3s 6ms/step - loss: 0.0161 - accuracy: 0.8685\n",
      "Epoch 14/50\n",
      "438/438 [==============================] - 3s 6ms/step - loss: 0.0159 - accuracy: 0.8732\n",
      "Epoch 15/50\n",
      "438/438 [==============================] - 3s 6ms/step - loss: 0.0169 - accuracy: 0.8595\n",
      "Epoch 16/50\n",
      "438/438 [==============================] - 3s 6ms/step - loss: 0.0188 - accuracy: 0.8379\n",
      "Epoch 17/50\n",
      "438/438 [==============================] - 3s 6ms/step - loss: 0.0153 - accuracy: 0.8792\n",
      "Epoch 18/50\n",
      "438/438 [==============================] - 3s 6ms/step - loss: 0.0152 - accuracy: 0.8800\n",
      "Epoch 19/50\n",
      "438/438 [==============================] - 3s 6ms/step - loss: 0.0139 - accuracy: 0.8982\n",
      "Epoch 20/50\n",
      "438/438 [==============================] - 3s 6ms/step - loss: 0.0137 - accuracy: 0.8973\n",
      "Epoch 21/50\n",
      "438/438 [==============================] - 3s 6ms/step - loss: 0.0157 - accuracy: 0.8810\n",
      "Epoch 22/50\n",
      "438/438 [==============================] - 3s 6ms/step - loss: 0.0144 - accuracy: 0.8957\n",
      "Epoch 23/50\n",
      "438/438 [==============================] - 3s 6ms/step - loss: 0.0151 - accuracy: 0.8870\n",
      "Epoch 24/50\n",
      "438/438 [==============================] - 3s 6ms/step - loss: 0.0133 - accuracy: 0.9019\n",
      "Epoch 25/50\n",
      "438/438 [==============================] - 3s 6ms/step - loss: 0.0129 - accuracy: 0.9108\n",
      "Epoch 26/50\n",
      "438/438 [==============================] - 3s 6ms/step - loss: 0.0129 - accuracy: 0.9052\n",
      "Epoch 27/50\n",
      "438/438 [==============================] - 3s 6ms/step - loss: 0.0139 - accuracy: 0.9008\n",
      "Epoch 28/50\n",
      "438/438 [==============================] - 3s 6ms/step - loss: 0.0126 - accuracy: 0.9050\n",
      "Epoch 29/50\n",
      "438/438 [==============================] - 3s 6ms/step - loss: 0.0125 - accuracy: 0.9149\n",
      "Epoch 30/50\n",
      "438/438 [==============================] - 3s 6ms/step - loss: 0.0131 - accuracy: 0.9075\n",
      "Epoch 31/50\n",
      "438/438 [==============================] - 3s 6ms/step - loss: 0.0131 - accuracy: 0.8927\n",
      "Epoch 32/50\n",
      "438/438 [==============================] - 3s 6ms/step - loss: 0.0122 - accuracy: 0.9173\n",
      "Epoch 33/50\n",
      "438/438 [==============================] - 3s 6ms/step - loss: 0.0147 - accuracy: 0.8805\n",
      "Epoch 34/50\n",
      "438/438 [==============================] - 3s 6ms/step - loss: 0.0129 - accuracy: 0.9065\n",
      "Epoch 35/50\n",
      "438/438 [==============================] - 3s 6ms/step - loss: 0.0130 - accuracy: 0.9107\n",
      "Epoch 36/50\n",
      "438/438 [==============================] - 3s 6ms/step - loss: 0.0130 - accuracy: 0.9094\n",
      "Epoch 37/50\n",
      "438/438 [==============================] - 3s 6ms/step - loss: 0.0116 - accuracy: 0.9114\n",
      "Epoch 38/50\n",
      "438/438 [==============================] - 3s 6ms/step - loss: 0.0123 - accuracy: 0.9138\n",
      "Epoch 39/50\n",
      "438/438 [==============================] - 3s 6ms/step - loss: 0.0118 - accuracy: 0.9180\n",
      "Epoch 40/50\n",
      "438/438 [==============================] - 3s 6ms/step - loss: 0.0122 - accuracy: 0.9149\n",
      "Epoch 41/50\n",
      "438/438 [==============================] - 3s 6ms/step - loss: 0.0133 - accuracy: 0.8962\n",
      "Epoch 42/50\n",
      "438/438 [==============================] - 3s 6ms/step - loss: 0.0115 - accuracy: 0.9137\n",
      "Epoch 43/50\n",
      "438/438 [==============================] - 3s 6ms/step - loss: 0.0113 - accuracy: 0.9151\n",
      "Epoch 44/50\n",
      "438/438 [==============================] - 3s 6ms/step - loss: 0.0116 - accuracy: 0.9076\n",
      "Epoch 45/50\n",
      "438/438 [==============================] - 3s 6ms/step - loss: 0.0112 - accuracy: 0.9219\n",
      "Epoch 46/50\n",
      "438/438 [==============================] - 3s 6ms/step - loss: 0.0105 - accuracy: 0.9352\n",
      "Epoch 47/50\n",
      "438/438 [==============================] - 3s 6ms/step - loss: 0.0098 - accuracy: 0.9328\n",
      "Epoch 48/50\n",
      "438/438 [==============================] - 3s 6ms/step - loss: 0.0099 - accuracy: 0.9344\n",
      "Epoch 49/50\n",
      "438/438 [==============================] - 3s 6ms/step - loss: 0.0113 - accuracy: 0.9251\n",
      "Epoch 50/50\n",
      "438/438 [==============================] - 3s 6ms/step - loss: 0.0099 - accuracy: 0.9337\n"
     ]
    }
   ],
   "source": [
    "lstm = train_model(X_train, to_categorical(y_train))"
   ]
  },
  {
   "cell_type": "code",
   "execution_count": 613,
   "metadata": {},
   "outputs": [
    {
     "name": "stdout",
     "output_type": "stream",
     "text": [
      "              precision    recall  f1-score   support\n",
      "\n",
      "           0       0.98      0.88      0.93      2138\n",
      "           1       0.29      0.72      0.42       144\n",
      "\n",
      "    accuracy                           0.87      2282\n",
      "   macro avg       0.64      0.80      0.67      2282\n",
      "weighted avg       0.94      0.87      0.90      2282\n",
      "\n",
      "0.13545816733067728\n"
     ]
    },
    {
     "data": {
      "text/plain": [
       "((0.7222222222222222, 144), (0.882600561272217, 2138))"
      ]
     },
     "execution_count": 613,
     "metadata": {},
     "output_type": "execute_result"
    }
   ],
   "source": [
    "_, _, o, z = eval_lstm_by_year(lstm, X_test, y_test, agg_df, train_player_ids, train_years_played, years_before_end=0)\n",
    "o, z"
   ]
  },
  {
   "cell_type": "code",
   "execution_count": 17,
   "metadata": {},
   "outputs": [],
   "source": [
    "lstm = load_model('better_lstm/')"
   ]
  },
  {
   "cell_type": "code",
   "execution_count": 19,
   "metadata": {},
   "outputs": [],
   "source": [
    "def percent_fp_got_votes(y_true, y_preds, idx_player_ids): # about half\n",
    "    fp_idxs = np.where((y_true == 0) & (y_preds == 1))[0]\n",
    "    fp_players = idx_player_ids[fp_idxs]\n",
    "    hof = pd.read_csv('../data_normalized/hall_of_fame.csv')\n",
    "    return np.mean(np.isin(fp_players, hof['player_id']))"
   ]
  },
  {
   "cell_type": "code",
   "execution_count": 20,
   "metadata": {},
   "outputs": [
    {
     "name": "stdout",
     "output_type": "stream",
     "text": [
      "              precision    recall  f1-score   support\n",
      "\n",
      "           0       1.00      0.96      0.98      2062\n",
      "           1       0.27      0.79      0.41        38\n",
      "\n",
      "    accuracy                           0.96      2100\n",
      "   macro avg       0.63      0.88      0.69      2100\n",
      "weighted avg       0.98      0.96      0.97      2100\n",
      "\n",
      "0.475\n"
     ]
    },
    {
     "data": {
      "text/plain": [
       "([(0.7894736842105263, 38),\n",
       "  (0.8378378378378378, 37),\n",
       "  (0.8108108108108109, 37),\n",
       "  (0.8108108108108109, 37),\n",
       "  (0.8378378378378378, 37),\n",
       "  (0.8378378378378378, 37),\n",
       "  (0.8648648648648649, 37),\n",
       "  (0.7567567567567568, 37),\n",
       "  (0.75, 36),\n",
       "  (0.7222222222222222, 36),\n",
       "  (0.7428571428571429, 35),\n",
       "  (0.6857142857142857, 35),\n",
       "  (0.6470588235294118, 34),\n",
       "  (0.7352941176470589, 34),\n",
       "  (0.6060606060606061, 33),\n",
       "  (0.5806451612903226, 31),\n",
       "  (0.4230769230769231, 26),\n",
       "  (0.47619047619047616, 21),\n",
       "  (0.5, 16),\n",
       "  (0.5, 12),\n",
       "  (0.2857142857142857, 7),\n",
       "  (0.25, 4),\n",
       "  (0.0, 1),\n",
       "  (None, 0),\n",
       "  (None, 0),\n",
       "  (None, 0)],\n",
       " [(0.9612027158098934, 2062),\n",
       "  (0.9321817018554063, 1563),\n",
       "  (0.9100156494522692, 1278),\n",
       "  (0.8849315068493151, 1095),\n",
       "  (0.8626430801248699, 961),\n",
       "  (0.8401880141010576, 851),\n",
       "  (0.8501362397820164, 734),\n",
       "  (0.8380503144654088, 636),\n",
       "  (0.8165467625899281, 556),\n",
       "  (0.8013100436681223, 458),\n",
       "  (0.787012987012987, 385),\n",
       "  (0.7928802588996764, 309),\n",
       "  (0.7890295358649789, 237),\n",
       "  (0.8111111111111111, 180),\n",
       "  (0.7851851851851852, 135),\n",
       "  (0.7788461538461539, 104),\n",
       "  (0.84, 75),\n",
       "  (0.8333333333333334, 48),\n",
       "  (0.8518518518518519, 27),\n",
       "  (0.9333333333333333, 15),\n",
       "  (0.8333333333333334, 6),\n",
       "  (1.0, 6),\n",
       "  (0.5, 2),\n",
       "  (1.0, 1),\n",
       "  (None, 0),\n",
       "  (None, 0)])"
      ]
     },
     "execution_count": 20,
     "metadata": {},
     "output_type": "execute_result"
    }
   ],
   "source": [
    "ones_preds_lstm, zeros_preds_lstm, ones_scores_lstm, zeros_scores_lstm = [], [], [], []\n",
    "for i in range(26):\n",
    "    ones_pred, zeros_pred, ones_score, zeros_score = eval_lstm_by_year(lstm, X_test, y_test, agg_df, test_player_ids, test_years_played, years_before_end=i)\n",
    "    ones_scores_lstm.append(ones_score), zeros_scores_lstm.append(zeros_score)\n",
    "    ones_preds_lstm.append(ones_pred), zeros_preds_lstm.append(zeros_pred)\n",
    "ones_scores_lstm, zeros_scores_lstm"
   ]
  },
  {
   "cell_type": "markdown",
   "metadata": {},
   "source": [
    "\n",
    "                   precision    recall  f1-score   support\n",
    "\n",
    "               0       1.00      0.96      0.98      2062\n",
    "               1       0.27      0.79      0.41        38\n",
    "\n",
    "        accuracy                           0.96      2100\n",
    "       macro avg       0.63      0.88      0.69      2100\n",
    "    weighted avg       0.98      0.96      0.97      2100\n",
    "good_lstm ^"
   ]
  },
  {
   "cell_type": "markdown",
   "metadata": {},
   "source": [
    "\n",
    "                  precision    recall  f1-score   support\n",
    "\n",
    "               0       1.00      0.93      0.97      2062\n",
    "               1       0.20      0.92      0.33        38\n",
    "\n",
    "        accuracy                           0.93      2100\n",
    "       macro avg       0.60      0.93      0.65      2100\n",
    "    weighted avg       0.98      0.93      0.95      2100\n",
    "    \n",
    "better_lstm ^"
   ]
  },
  {
   "cell_type": "code",
   "execution_count": 370,
   "metadata": {},
   "outputs": [
    {
     "data": {
      "text/plain": [
       "([(0.9210526315789473, 38),\n",
       "  (0.9459459459459459, 37),\n",
       "  (0.9459459459459459, 37),\n",
       "  (0.9459459459459459, 37),\n",
       "  (0.9459459459459459, 37),\n",
       "  (0.8918918918918919, 37),\n",
       "  (0.918918918918919, 37),\n",
       "  (0.8378378378378378, 37),\n",
       "  (0.8333333333333334, 36),\n",
       "  (0.8055555555555556, 36),\n",
       "  (0.8, 35),\n",
       "  (0.7428571428571429, 35),\n",
       "  (0.7058823529411765, 34),\n",
       "  (0.7352941176470589, 34),\n",
       "  (0.5454545454545454, 33),\n",
       "  (0.5483870967741935, 31),\n",
       "  (0.38461538461538464, 26),\n",
       "  (0.42857142857142855, 21),\n",
       "  (0.4375, 16),\n",
       "  (0.5, 12),\n",
       "  (0.42857142857142855, 7),\n",
       "  (0.0, 4),\n",
       "  (0.0, 1),\n",
       "  (None, 0),\n",
       "  (None, 0),\n",
       "  (None, 0)],\n",
       " [(0.9340446168768186, 2062),\n",
       "  (0.889955214331414, 1563),\n",
       "  (0.8544600938967136, 1278),\n",
       "  (0.8356164383561644, 1095),\n",
       "  (0.7960457856399584, 961),\n",
       "  (0.7861339600470035, 851),\n",
       "  (0.7806539509536785, 734),\n",
       "  (0.7625786163522013, 636),\n",
       "  (0.7661870503597122, 556),\n",
       "  (0.7663755458515283, 458),\n",
       "  (0.7688311688311689, 385),\n",
       "  (0.7346278317152104, 309),\n",
       "  (0.7426160337552743, 237),\n",
       "  (0.7777777777777778, 180),\n",
       "  (0.7703703703703704, 135),\n",
       "  (0.7884615384615384, 104),\n",
       "  (0.8133333333333334, 75),\n",
       "  (0.8125, 48),\n",
       "  (0.8148148148148148, 27),\n",
       "  (0.8666666666666667, 15),\n",
       "  (0.8333333333333334, 6),\n",
       "  (1.0, 6),\n",
       "  (0.5, 2),\n",
       "  (1.0, 1),\n",
       "  (None, 0),\n",
       "  (None, 0)])"
      ]
     },
     "execution_count": 370,
     "metadata": {},
     "output_type": "execute_result"
    }
   ],
   "source": [
    "ones_scores_lstm, zeros_scores_lstm # lstm25, dense50, 50 epoch, .05 0s weight"
   ]
  },
  {
   "cell_type": "code",
   "execution_count": 381,
   "metadata": {},
   "outputs": [
    {
     "data": {
      "text/plain": [
       "array([[6.5569341e-01, 3.4430656e-01],\n",
       "       [8.2225472e-01, 1.7774528e-01],\n",
       "       [1.4185956e-01, 8.5814047e-01],\n",
       "       [9.7852433e-03, 9.9021471e-01],\n",
       "       [6.7260936e-03, 9.9327385e-01],\n",
       "       [4.9038115e-03, 9.9509615e-01],\n",
       "       [3.9083729e-03, 9.9609166e-01],\n",
       "       [2.8881221e-03, 9.9711180e-01],\n",
       "       [1.7733071e-03, 9.9822670e-01],\n",
       "       [1.0424535e-03, 9.9895751e-01],\n",
       "       [5.5245234e-04, 9.9944752e-01],\n",
       "       [3.1591905e-04, 9.9968410e-01],\n",
       "       [1.3631680e-04, 9.9986362e-01],\n",
       "       [4.3392138e-05, 9.9995661e-01],\n",
       "       [1.5405252e-05, 9.9998462e-01],\n",
       "       [8.4139618e-05, 9.9991584e-01],\n",
       "       [3.4838930e-02, 9.6516109e-01]], dtype=float32)"
      ]
     },
     "execution_count": 381,
     "metadata": {},
     "output_type": "execute_result"
    }
   ],
   "source": [
    "X_player = X_all[np.where(player_ids_all == 'gehrilo01')]\n",
    "lstm.predict(X_player)"
   ]
  },
  {
   "cell_type": "markdown",
   "metadata": {},
   "source": [
    "### DTW + KNN"
   ]
  },
  {
   "cell_type": "code",
   "execution_count": 326,
   "metadata": {},
   "outputs": [],
   "source": [
    "from tslearn.utils import to_time_series_dataset\n",
    "from tslearn.neighbors import KNeighborsTimeSeriesClassifier "
   ]
  },
  {
   "cell_type": "code",
   "execution_count": 327,
   "metadata": {},
   "outputs": [],
   "source": [
    "def eval_knn(knn, X_test, y_test):\n",
    "    ones_preds, zeros_preds = None, None\n",
    "    try:\n",
    "        ones_preds = knn.predict([X_test[i] for i in np.where(y_test == 1)[0]])\n",
    "        print(np.sum(ones_preds) / len(ones_preds))\n",
    "    except:\n",
    "        pass\n",
    "    try:\n",
    "        zeros_preds = knn.predict([X_test[i] for i in np.where(y_test == 0)[0]])\n",
    "        print(np.sum(1-zeros_preds) / len(zeros_preds))\n",
    "    except:\n",
    "        pass\n",
    "    \n",
    "    return ones_preds, zeros_preds"
   ]
  },
  {
   "cell_type": "markdown",
   "metadata": {},
   "source": [
    "### 1 big knn (0-padded)"
   ]
  },
  {
   "cell_type": "markdown",
   "metadata": {},
   "source": [
    "#### eval on players at end of career"
   ]
  },
  {
   "cell_type": "code",
   "execution_count": 619,
   "metadata": {},
   "outputs": [],
   "source": [
    "def eval_end_career_knn(X_train, y_train, X_test, y_test, agg_df, train_player_ids, test_player_ids, train_years_played, test_years_played, train_zeros_ratio=1, test_zeros_ratio=1, end_careers=True):\n",
    "    if train_zeros_ratio != 1:\n",
    "        np.random.seed(1)\n",
    "        idxs_train_0s = np.where(y_train == 0)[0]\n",
    "        idxs_train_1s = np.where(y_train == 1)[0]\n",
    "        ratio_0s = np.random.choice(idxs_train_0s, size=int(len(idxs_train_0s) * train_zeros_ratio), replace=False)\n",
    "        X_train_ratio_0s = [X_train[i] for i in ratio_0s] + [X_train[i] for i in idxs_train_1s]\n",
    "        y_train_ratio_0s = [y_train[i] for i in ratio_0s] + [y_train[i] for i in idxs_train_1s]\n",
    "    else:\n",
    "        X_train_ratio_0s = X_train\n",
    "        y_train_ratio_0s = y_train\n",
    "\n",
    "    knn_all = KNeighborsTimeSeriesClassifier(n_neighbors=1)\n",
    "    knn_all.fit(X_train_ratio_0s, y_train_ratio_0s)\n",
    "    \n",
    "    if end_careers:\n",
    "        player_career_lengths = agg_df.groupby('player_id')['years_played'].max().to_dict()\n",
    "        test_idxs_full_careers = [i for i in range(len(X_test)) if player_career_lengths[test_player_ids[i]] == test_years_played[i]]\n",
    "        display(len(test_idxs_full_careers) / len(X_test))\n",
    "\n",
    "        X_test_full_careers, y_test_full_careers = X_test[test_idxs_full_careers], y_test[test_idxs_full_careers]\n",
    "        \n",
    "        \n",
    "        \n",
    "        test_0s = np.where(y_test_full_careers==0)[0]\n",
    "        np.random.seed(1)\n",
    "        idxs_sample_0s = np.random.choice(test_0s, size=int(len(test_0s) * test_zeros_ratio))\n",
    "        \n",
    "        idxs = np.concatenate((idxs_sample_0s, np.where(y_test_full_careers==1)[0]))\n",
    "#         print(idxs_sample_0s)\n",
    "        print(idxs)\n",
    "        eval_knn(knn_all, X_test_full_careers[idxs], y_test_full_careers[idxs])\n",
    "    else:\n",
    "        eval_knn(knn_all, X_test, y_test)"
   ]
  },
  {
   "cell_type": "code",
   "execution_count": 620,
   "metadata": {},
   "outputs": [
    {
     "data": {
      "text/plain": [
       "0.16960103375868196"
      ]
     },
     "metadata": {},
     "output_type": "display_data"
    },
    {
     "name": "stdout",
     "output_type": "stream",
     "text": [
      "[1093  246 1129  933  988  148  132 1237 1335 1313  371  265  690  579\n",
      "  778 1562 1925 1144 2063 1061  333 1372 1957  330 1323  752  445  652\n",
      "  557 1128 1446 1513 1372  530  512 1647 1881 1395  911 1356   15   25\n",
      " 1530 1964 1341 1675 1078 1838 1184 1338  159  327  668 1347 1715  254\n",
      " 1407 1249  956 1789 1209  719 1380 1428 1906 1832 1312  476 1835  582\n",
      "  484 1513 1573 1647  739 1133 1099  547 1607  899 1836  993   99  282\n",
      " 1964  917  156 1775  625  504  156  911  893 1793 1927  279 1925 1911\n",
      "  341 1625 1460   20 2005   49   85   92  144  163  185  196  213  225\n",
      "  233  239  259  262  312  451  567  576  580  599  657  673  684  713\n",
      "  716  753  820  833  873  990 1006 1063 1068 1122 1130 1226 1706 1725\n",
      " 2024]\n",
      "0.2894736842105263\n",
      "0.9029126213592233\n"
     ]
    }
   ],
   "source": [
    "eval_end_career_knn(X_train, y_train, X_test, y_test, agg_df, train_player_ids, test_player_ids, train_years_played, test_years_played, train_zeros_ratio=0.1, test_zeros_ratio=0.05, end_careers=True)"
   ]
  },
  {
   "cell_type": "markdown",
   "metadata": {},
   "source": [
    "## knn on specific year of careers"
   ]
  },
  {
   "cell_type": "code",
   "execution_count": 615,
   "metadata": {},
   "outputs": [],
   "source": [
    "def eval_year_knn(yr, X_train, y_train, X_test, y_test, idx_train_by_year, idx_test_by_year, zeros_ratio=1):\n",
    "    idxs_train_yr, idxs_test_yr = np.array(idx_train_by_year[yr]), np.array(idx_test_by_year[yr])\n",
    "    \n",
    "    X_train_yr = [X_train_unpad[i] for i in idx_train_by_year[yr]]\n",
    "    y_train_yr = y_train[idx_train_by_year[yr]]\n",
    "    X_test_yr = [X_test_unpad[i] for i in idx_test_by_year[yr]]\n",
    "    y_test_yr = y_test[idx_test_by_year[yr]]\n",
    "    \n",
    "    if zeros_ratio != 1:\n",
    "        np.random.seed(1)\n",
    "        idxs_yr_train_0s = np.where(y_train_yr == 0)[0]\n",
    "        idxs_yr_train_1s = np.where(y_train_yr == 1)[0]\n",
    "        ratio_0s = np.random.choice(idxs_yr_train_0s, size=int(len(idxs_yr_train_0s) * zeros_ratio), replace=False)\n",
    "        X_train_yr_ratio_0s = [X_train_yr[i] for i in ratio_0s] + [X_train_yr[i] for i in idxs_yr_train_1s]\n",
    "        y_train_yr_ratio_0s = [y_train_yr[i] for i in ratio_0s] + [y_train_yr[i] for i in idxs_yr_train_1s]\n",
    "    else:\n",
    "        X_train_yr_ratio_0s = X_train_yr\n",
    "        y_train_yr_ratio_0s = y_train_yr\n",
    "    \n",
    "    display(np.where(y_test_yr == 1)[0])\n",
    "    \n",
    "    knn_yr = KNeighborsTimeSeriesClassifier(n_neighbors=1, metric='dtw')\n",
    "    knn_yr.fit(X_train_yr_ratio_0s, y_train_yr_ratio_0s)\n",
    "    \n",
    "    eval_knn(knn_yr, X_test_yr, y_test_yr)"
   ]
  },
  {
   "cell_type": "code",
   "execution_count": 616,
   "metadata": {},
   "outputs": [
    {
     "data": {
      "text/plain": [
       "array([  4,   5,   7,   9,  11,  13,  14,  15,  16,  17,  19,  22,  34,\n",
       "        39,  41,  44,  45,  49,  57,  62,  82,  88,  90,  93,  94, 136,\n",
       "       137, 142, 145, 148, 156, 162, 167])"
      ]
     },
     "metadata": {},
     "output_type": "display_data"
    },
    {
     "name": "stdout",
     "output_type": "stream",
     "text": [
      "0.36363636363636365\n",
      "0.8296296296296296\n"
     ]
    }
   ],
   "source": [
    "eval_year_knn(15, X_train, y_train, X_test, y_test, idx_train_by_year, idx_test_by_year, zeros_ratio=0.5)"
   ]
  }
 ],
 "metadata": {
  "kernelspec": {
   "display_name": "Python 3",
   "language": "python",
   "name": "python3"
  },
  "language_info": {
   "codemirror_mode": {
    "name": "ipython",
    "version": 3
   },
   "file_extension": ".py",
   "mimetype": "text/x-python",
   "name": "python",
   "nbconvert_exporter": "python",
   "pygments_lexer": "ipython3",
   "version": "3.8.3"
  }
 },
 "nbformat": 4,
 "nbformat_minor": 4
}
