{
 "cells": [
  {
   "cell_type": "markdown",
   "metadata": {},
   "source": [
    "## notes\n",
    "\n",
    "1. accuracy for 0s and 1s respectively, on players at end of career; theoretically, this should be pretty good, but bad for KNN / Rocket so drop those\n",
    "* knn takes very long to eval (0.18421052631578946, 0.9320388349514563)\n",
    "2. choose good models to do more advanced comparisons on\n",
    "3. plots and shit; remember % false positives that got votes (50%)\n",
    "4. (TODO) probabilities of players making the hall\n",
    "\n",
    "\n",
    "## powerpoint flow:\n",
    "1. problem overview\n",
    "2. data preprocessing + formatting methods (agg and ts)\n",
    "3. hypotheses\n",
    "4. models used + basic parameter descriptions + predictions\n",
    "5. basic accuracy -> zeros / ones -> full career accuracies\n",
    "6. more advanced accuracy metrics: f1, ROC AUC, mean metric *** time series drops off less for less data\n",
    "7. conclusion: of players who played for all of 2015 - 2020, give some probabilities based on the ensemble model\n",
    "8. who did what: Artun did agg, Nick did ts"
   ]
  },
  {
   "cell_type": "code",
   "execution_count": 27,
   "metadata": {},
   "outputs": [],
   "source": [
    "import numpy as np\n",
    "import pandas as pd\n",
    "from scipy.special import softmax\n",
    "import matplotlib.pyplot as plt\n",
    "from sklearn.metrics import f1_score, roc_auc_score, average_precision_score, roc_curve, roc_auc_score, plot_roc_curve, precision_recall_curve, jaccard_score, brier_score_loss, classification_report"
   ]
  },
  {
   "cell_type": "code",
   "execution_count": 20,
   "metadata": {},
   "outputs": [],
   "source": [
    "batting_df = pd.read_csv('../data_normalized/batting_norm_batters_only.csv')"
   ]
  },
  {
   "cell_type": "code",
   "execution_count": 90,
   "metadata": {},
   "outputs": [
    {
     "data": {
      "text/html": [
       "<div>\n",
       "<style scoped>\n",
       "    .dataframe tbody tr th:only-of-type {\n",
       "        vertical-align: middle;\n",
       "    }\n",
       "\n",
       "    .dataframe tbody tr th {\n",
       "        vertical-align: top;\n",
       "    }\n",
       "\n",
       "    .dataframe thead th {\n",
       "        text-align: right;\n",
       "    }\n",
       "</style>\n",
       "<table border=\"1\" class=\"dataframe\">\n",
       "  <thead>\n",
       "    <tr style=\"text-align: right;\">\n",
       "      <th></th>\n",
       "      <th>player_id</th>\n",
       "      <th>year</th>\n",
       "      <th>ab</th>\n",
       "      <th>bb</th>\n",
       "      <th>double</th>\n",
       "      <th>g</th>\n",
       "      <th>h</th>\n",
       "      <th>hbp</th>\n",
       "      <th>hr</th>\n",
       "      <th>r</th>\n",
       "      <th>rbi</th>\n",
       "      <th>sb</th>\n",
       "      <th>sh</th>\n",
       "      <th>so</th>\n",
       "      <th>triple</th>\n",
       "    </tr>\n",
       "  </thead>\n",
       "  <tbody>\n",
       "    <tr>\n",
       "      <th>290</th>\n",
       "      <td>ruthba01</td>\n",
       "      <td>1914</td>\n",
       "      <td>-0.821803</td>\n",
       "      <td>-0.725235</td>\n",
       "      <td>-0.596890</td>\n",
       "      <td>-0.990914</td>\n",
       "      <td>-0.753313</td>\n",
       "      <td>-0.586126</td>\n",
       "      <td>-0.424975</td>\n",
       "      <td>-0.703345</td>\n",
       "      <td>-0.630494</td>\n",
       "      <td>-0.583482</td>\n",
       "      <td>-0.759920</td>\n",
       "      <td>-0.803441</td>\n",
       "      <td>-0.633776</td>\n",
       "    </tr>\n",
       "    <tr>\n",
       "      <th>505</th>\n",
       "      <td>ruthba01</td>\n",
       "      <td>1915</td>\n",
       "      <td>-0.387952</td>\n",
       "      <td>-0.290156</td>\n",
       "      <td>0.445762</td>\n",
       "      <td>-0.251617</td>\n",
       "      <td>-0.237822</td>\n",
       "      <td>-0.565728</td>\n",
       "      <td>1.526979</td>\n",
       "      <td>-0.128824</td>\n",
       "      <td>0.207138</td>\n",
       "      <td>-0.575753</td>\n",
       "      <td>-0.505489</td>\n",
       "      <td>0.206440</td>\n",
       "      <td>-0.358023</td>\n",
       "    </tr>\n",
       "    <tr>\n",
       "      <th>699</th>\n",
       "      <td>ruthba01</td>\n",
       "      <td>1916</td>\n",
       "      <td>-0.104638</td>\n",
       "      <td>-0.175364</td>\n",
       "      <td>-0.080899</td>\n",
       "      <td>0.287476</td>\n",
       "      <td>-0.029144</td>\n",
       "      <td>-0.548261</td>\n",
       "      <td>1.260544</td>\n",
       "      <td>0.046753</td>\n",
       "      <td>0.035815</td>\n",
       "      <td>-0.567466</td>\n",
       "      <td>-0.179824</td>\n",
       "      <td>0.270399</td>\n",
       "      <td>0.232131</td>\n",
       "    </tr>\n",
       "    <tr>\n",
       "      <th>884</th>\n",
       "      <td>ruthba01</td>\n",
       "      <td>1917</td>\n",
       "      <td>-0.233537</td>\n",
       "      <td>-0.110487</td>\n",
       "      <td>0.007586</td>\n",
       "      <td>-0.064928</td>\n",
       "      <td>-0.030505</td>\n",
       "      <td>-0.554721</td>\n",
       "      <td>0.834751</td>\n",
       "      <td>-0.171862</td>\n",
       "      <td>-0.161685</td>\n",
       "      <td>-0.577313</td>\n",
       "      <td>0.083542</td>\n",
       "      <td>0.016855</td>\n",
       "      <td>0.182731</td>\n",
       "    </tr>\n",
       "    <tr>\n",
       "      <th>1052</th>\n",
       "      <td>ruthba01</td>\n",
       "      <td>1918</td>\n",
       "      <td>1.129302</td>\n",
       "      <td>2.863403</td>\n",
       "      <td>3.186052</td>\n",
       "      <td>1.240359</td>\n",
       "      <td>1.354196</td>\n",
       "      <td>0.609910</td>\n",
       "      <td>8.164732</td>\n",
       "      <td>1.703299</td>\n",
       "      <td>3.023614</td>\n",
       "      <td>0.267293</td>\n",
       "      <td>-0.295258</td>\n",
       "      <td>3.841417</td>\n",
       "      <td>3.178635</td>\n",
       "    </tr>\n",
       "    <tr>\n",
       "      <th>1230</th>\n",
       "      <td>ruthba01</td>\n",
       "      <td>1919</td>\n",
       "      <td>1.543553</td>\n",
       "      <td>5.044375</td>\n",
       "      <td>3.244974</td>\n",
       "      <td>1.733362</td>\n",
       "      <td>1.889538</td>\n",
       "      <td>2.538812</td>\n",
       "      <td>12.224146</td>\n",
       "      <td>3.469763</td>\n",
       "      <td>4.611793</td>\n",
       "      <td>0.369140</td>\n",
       "      <td>-0.335581</td>\n",
       "      <td>3.218965</td>\n",
       "      <td>2.882419</td>\n",
       "    </tr>\n",
       "    <tr>\n",
       "      <th>1434</th>\n",
       "      <td>ruthba01</td>\n",
       "      <td>1920</td>\n",
       "      <td>1.424177</td>\n",
       "      <td>6.941732</td>\n",
       "      <td>2.723950</td>\n",
       "      <td>1.726378</td>\n",
       "      <td>2.040729</td>\n",
       "      <td>0.876766</td>\n",
       "      <td>14.788110</td>\n",
       "      <td>4.513261</td>\n",
       "      <td>4.400074</td>\n",
       "      <td>1.527932</td>\n",
       "      <td>-0.133413</td>\n",
       "      <td>4.197018</td>\n",
       "      <td>1.581165</td>\n",
       "    </tr>\n",
       "    <tr>\n",
       "      <th>1662</th>\n",
       "      <td>ruthba01</td>\n",
       "      <td>1921</td>\n",
       "      <td>1.796784</td>\n",
       "      <td>6.455148</td>\n",
       "      <td>3.217795</td>\n",
       "      <td>1.909160</td>\n",
       "      <td>2.388160</td>\n",
       "      <td>1.404748</td>\n",
       "      <td>12.434262</td>\n",
       "      <td>4.577671</td>\n",
       "      <td>4.951231</td>\n",
       "      <td>2.326007</td>\n",
       "      <td>-0.250812</td>\n",
       "      <td>4.356698</td>\n",
       "      <td>3.075533</td>\n",
       "    </tr>\n",
       "    <tr>\n",
       "      <th>1909</th>\n",
       "      <td>ruthba01</td>\n",
       "      <td>1922</td>\n",
       "      <td>1.157114</td>\n",
       "      <td>3.404631</td>\n",
       "      <td>1.475022</td>\n",
       "      <td>1.077687</td>\n",
       "      <td>1.235113</td>\n",
       "      <td>-0.096968</td>\n",
       "      <td>6.723052</td>\n",
       "      <td>2.123666</td>\n",
       "      <td>2.607721</td>\n",
       "      <td>-0.154615</td>\n",
       "      <td>-0.247030</td>\n",
       "      <td>4.481925</td>\n",
       "      <td>1.429960</td>\n",
       "    </tr>\n",
       "    <tr>\n",
       "      <th>2174</th>\n",
       "      <td>ruthba01</td>\n",
       "      <td>1923</td>\n",
       "      <td>1.797222</td>\n",
       "      <td>7.026003</td>\n",
       "      <td>3.447716</td>\n",
       "      <td>1.948379</td>\n",
       "      <td>2.567925</td>\n",
       "      <td>1.285386</td>\n",
       "      <td>8.884215</td>\n",
       "      <td>3.987618</td>\n",
       "      <td>3.785065</td>\n",
       "      <td>2.231241</td>\n",
       "      <td>-0.324481</td>\n",
       "      <td>5.246703</td>\n",
       "      <td>2.921778</td>\n",
       "    </tr>\n",
       "    <tr>\n",
       "      <th>2446</th>\n",
       "      <td>ruthba01</td>\n",
       "      <td>1924</td>\n",
       "      <td>1.935952</td>\n",
       "      <td>6.258238</td>\n",
       "      <td>2.912210</td>\n",
       "      <td>2.071175</td>\n",
       "      <td>2.601859</td>\n",
       "      <td>1.439989</td>\n",
       "      <td>10.802317</td>\n",
       "      <td>4.005429</td>\n",
       "      <td>3.540288</td>\n",
       "      <td>1.079603</td>\n",
       "      <td>0.128753</td>\n",
       "      <td>5.031756</td>\n",
       "      <td>1.311990</td>\n",
       "    </tr>\n",
       "    <tr>\n",
       "      <th>2728</th>\n",
       "      <td>ruthba01</td>\n",
       "      <td>1925</td>\n",
       "      <td>1.051152</td>\n",
       "      <td>2.145277</td>\n",
       "      <td>0.332437</td>\n",
       "      <td>0.939107</td>\n",
       "      <td>0.946278</td>\n",
       "      <td>0.569182</td>\n",
       "      <td>4.778432</td>\n",
       "      <td>1.157522</td>\n",
       "      <td>1.488005</td>\n",
       "      <td>-0.118501</td>\n",
       "      <td>0.179355</td>\n",
       "      <td>3.999132</td>\n",
       "      <td>-0.063169</td>\n",
       "    </tr>\n",
       "    <tr>\n",
       "      <th>3021</th>\n",
       "      <td>ruthba01</td>\n",
       "      <td>1926</td>\n",
       "      <td>1.721034</td>\n",
       "      <td>5.959062</td>\n",
       "      <td>1.904790</td>\n",
       "      <td>1.949919</td>\n",
       "      <td>2.346614</td>\n",
       "      <td>1.151019</td>\n",
       "      <td>11.387616</td>\n",
       "      <td>3.842233</td>\n",
       "      <td>4.598493</td>\n",
       "      <td>1.757541</td>\n",
       "      <td>0.459776</td>\n",
       "      <td>4.299699</td>\n",
       "      <td>0.704804</td>\n",
       "    </tr>\n",
       "    <tr>\n",
       "      <th>3304</th>\n",
       "      <td>ruthba01</td>\n",
       "      <td>1927</td>\n",
       "      <td>1.966791</td>\n",
       "      <td>5.996418</td>\n",
       "      <td>1.858886</td>\n",
       "      <td>1.977356</td>\n",
       "      <td>2.442298</td>\n",
       "      <td>-0.537379</td>\n",
       "      <td>11.750427</td>\n",
       "      <td>4.326152</td>\n",
       "      <td>4.821689</td>\n",
       "      <td>0.757687</td>\n",
       "      <td>1.046291</td>\n",
       "      <td>5.244295</td>\n",
       "      <td>1.625734</td>\n",
       "    </tr>\n",
       "    <tr>\n",
       "      <th>3600</th>\n",
       "      <td>ruthba01</td>\n",
       "      <td>1928</td>\n",
       "      <td>1.920577</td>\n",
       "      <td>5.629735</td>\n",
       "      <td>1.781861</td>\n",
       "      <td>2.029045</td>\n",
       "      <td>2.117921</td>\n",
       "      <td>1.318438</td>\n",
       "      <td>10.371509</td>\n",
       "      <td>4.467234</td>\n",
       "      <td>4.153613</td>\n",
       "      <td>0.308519</td>\n",
       "      <td>0.288025</td>\n",
       "      <td>4.965410</td>\n",
       "      <td>1.530246</td>\n",
       "    </tr>\n",
       "    <tr>\n",
       "      <th>3898</th>\n",
       "      <td>ruthba01</td>\n",
       "      <td>1929</td>\n",
       "      <td>1.660579</td>\n",
       "      <td>2.408672</td>\n",
       "      <td>1.374180</td>\n",
       "      <td>1.614287</td>\n",
       "      <td>1.929035</td>\n",
       "      <td>1.473810</td>\n",
       "      <td>6.694386</td>\n",
       "      <td>2.701516</td>\n",
       "      <td>3.889423</td>\n",
       "      <td>0.469210</td>\n",
       "      <td>1.129692</td>\n",
       "      <td>3.130506</td>\n",
       "      <td>0.973184</td>\n",
       "    </tr>\n",
       "    <tr>\n",
       "      <th>4192</th>\n",
       "      <td>ruthba01</td>\n",
       "      <td>1930</td>\n",
       "      <td>1.731835</td>\n",
       "      <td>5.529827</td>\n",
       "      <td>1.427013</td>\n",
       "      <td>1.796770</td>\n",
       "      <td>2.071147</td>\n",
       "      <td>0.110939</td>\n",
       "      <td>6.374451</td>\n",
       "      <td>3.278261</td>\n",
       "      <td>3.488400</td>\n",
       "      <td>1.843168</td>\n",
       "      <td>2.533297</td>\n",
       "      <td>2.706339</td>\n",
       "      <td>1.564308</td>\n",
       "    </tr>\n",
       "    <tr>\n",
       "      <th>4486</th>\n",
       "      <td>ruthba01</td>\n",
       "      <td>1931</td>\n",
       "      <td>1.822680</td>\n",
       "      <td>5.151698</td>\n",
       "      <td>1.768654</td>\n",
       "      <td>1.825794</td>\n",
       "      <td>2.480998</td>\n",
       "      <td>0.149515</td>\n",
       "      <td>8.295760</td>\n",
       "      <td>3.830599</td>\n",
       "      <td>4.524291</td>\n",
       "      <td>0.567636</td>\n",
       "      <td>-0.749418</td>\n",
       "      <td>2.097916</td>\n",
       "      <td>0.232543</td>\n",
       "    </tr>\n",
       "    <tr>\n",
       "      <th>4785</th>\n",
       "      <td>ruthba01</td>\n",
       "      <td>1932</td>\n",
       "      <td>1.375051</td>\n",
       "      <td>5.146455</td>\n",
       "      <td>0.291326</td>\n",
       "      <td>1.545796</td>\n",
       "      <td>1.724026</td>\n",
       "      <td>0.923858</td>\n",
       "      <td>6.060521</td>\n",
       "      <td>2.815015</td>\n",
       "      <td>3.529860</td>\n",
       "      <td>-0.003867</td>\n",
       "      <td>-0.718763</td>\n",
       "      <td>2.710020</td>\n",
       "      <td>0.817327</td>\n",
       "    </tr>\n",
       "    <tr>\n",
       "      <th>5064</th>\n",
       "      <td>ruthba01</td>\n",
       "      <td>1933</td>\n",
       "      <td>1.334929</td>\n",
       "      <td>4.493608</td>\n",
       "      <td>1.076925</td>\n",
       "      <td>1.536565</td>\n",
       "      <td>1.448637</td>\n",
       "      <td>0.832567</td>\n",
       "      <td>6.240288</td>\n",
       "      <td>2.360502</td>\n",
       "      <td>2.710261</td>\n",
       "      <td>0.570887</td>\n",
       "      <td>-0.789882</td>\n",
       "      <td>4.434670</td>\n",
       "      <td>0.263665</td>\n",
       "    </tr>\n",
       "    <tr>\n",
       "      <th>5346</th>\n",
       "      <td>ruthba01</td>\n",
       "      <td>1934</td>\n",
       "      <td>0.944025</td>\n",
       "      <td>3.859872</td>\n",
       "      <td>0.679410</td>\n",
       "      <td>1.391979</td>\n",
       "      <td>0.908514</td>\n",
       "      <td>1.017982</td>\n",
       "      <td>3.089483</td>\n",
       "      <td>1.619897</td>\n",
       "      <td>1.910027</td>\n",
       "      <td>-0.212804</td>\n",
       "      <td>-0.776226</td>\n",
       "      <td>2.499579</td>\n",
       "      <td>0.747574</td>\n",
       "    </tr>\n",
       "    <tr>\n",
       "      <th>5632</th>\n",
       "      <td>ruthba01</td>\n",
       "      <td>1935</td>\n",
       "      <td>-0.518185</td>\n",
       "      <td>0.165878</td>\n",
       "      <td>-0.733700</td>\n",
       "      <td>-0.568913</td>\n",
       "      <td>-0.589977</td>\n",
       "      <td>-0.526230</td>\n",
       "      <td>0.576610</td>\n",
       "      <td>-0.356751</td>\n",
       "      <td>-0.355198</td>\n",
       "      <td>-0.475101</td>\n",
       "      <td>-0.781439</td>\n",
       "      <td>0.401604</td>\n",
       "      <td>-0.595910</td>\n",
       "    </tr>\n",
       "  </tbody>\n",
       "</table>\n",
       "</div>"
      ],
      "text/plain": [
       "     player_id  year        ab        bb    double         g         h  \\\n",
       "290   ruthba01  1914 -0.821803 -0.725235 -0.596890 -0.990914 -0.753313   \n",
       "505   ruthba01  1915 -0.387952 -0.290156  0.445762 -0.251617 -0.237822   \n",
       "699   ruthba01  1916 -0.104638 -0.175364 -0.080899  0.287476 -0.029144   \n",
       "884   ruthba01  1917 -0.233537 -0.110487  0.007586 -0.064928 -0.030505   \n",
       "1052  ruthba01  1918  1.129302  2.863403  3.186052  1.240359  1.354196   \n",
       "1230  ruthba01  1919  1.543553  5.044375  3.244974  1.733362  1.889538   \n",
       "1434  ruthba01  1920  1.424177  6.941732  2.723950  1.726378  2.040729   \n",
       "1662  ruthba01  1921  1.796784  6.455148  3.217795  1.909160  2.388160   \n",
       "1909  ruthba01  1922  1.157114  3.404631  1.475022  1.077687  1.235113   \n",
       "2174  ruthba01  1923  1.797222  7.026003  3.447716  1.948379  2.567925   \n",
       "2446  ruthba01  1924  1.935952  6.258238  2.912210  2.071175  2.601859   \n",
       "2728  ruthba01  1925  1.051152  2.145277  0.332437  0.939107  0.946278   \n",
       "3021  ruthba01  1926  1.721034  5.959062  1.904790  1.949919  2.346614   \n",
       "3304  ruthba01  1927  1.966791  5.996418  1.858886  1.977356  2.442298   \n",
       "3600  ruthba01  1928  1.920577  5.629735  1.781861  2.029045  2.117921   \n",
       "3898  ruthba01  1929  1.660579  2.408672  1.374180  1.614287  1.929035   \n",
       "4192  ruthba01  1930  1.731835  5.529827  1.427013  1.796770  2.071147   \n",
       "4486  ruthba01  1931  1.822680  5.151698  1.768654  1.825794  2.480998   \n",
       "4785  ruthba01  1932  1.375051  5.146455  0.291326  1.545796  1.724026   \n",
       "5064  ruthba01  1933  1.334929  4.493608  1.076925  1.536565  1.448637   \n",
       "5346  ruthba01  1934  0.944025  3.859872  0.679410  1.391979  0.908514   \n",
       "5632  ruthba01  1935 -0.518185  0.165878 -0.733700 -0.568913 -0.589977   \n",
       "\n",
       "           hbp         hr         r       rbi        sb        sh        so  \\\n",
       "290  -0.586126  -0.424975 -0.703345 -0.630494 -0.583482 -0.759920 -0.803441   \n",
       "505  -0.565728   1.526979 -0.128824  0.207138 -0.575753 -0.505489  0.206440   \n",
       "699  -0.548261   1.260544  0.046753  0.035815 -0.567466 -0.179824  0.270399   \n",
       "884  -0.554721   0.834751 -0.171862 -0.161685 -0.577313  0.083542  0.016855   \n",
       "1052  0.609910   8.164732  1.703299  3.023614  0.267293 -0.295258  3.841417   \n",
       "1230  2.538812  12.224146  3.469763  4.611793  0.369140 -0.335581  3.218965   \n",
       "1434  0.876766  14.788110  4.513261  4.400074  1.527932 -0.133413  4.197018   \n",
       "1662  1.404748  12.434262  4.577671  4.951231  2.326007 -0.250812  4.356698   \n",
       "1909 -0.096968   6.723052  2.123666  2.607721 -0.154615 -0.247030  4.481925   \n",
       "2174  1.285386   8.884215  3.987618  3.785065  2.231241 -0.324481  5.246703   \n",
       "2446  1.439989  10.802317  4.005429  3.540288  1.079603  0.128753  5.031756   \n",
       "2728  0.569182   4.778432  1.157522  1.488005 -0.118501  0.179355  3.999132   \n",
       "3021  1.151019  11.387616  3.842233  4.598493  1.757541  0.459776  4.299699   \n",
       "3304 -0.537379  11.750427  4.326152  4.821689  0.757687  1.046291  5.244295   \n",
       "3600  1.318438  10.371509  4.467234  4.153613  0.308519  0.288025  4.965410   \n",
       "3898  1.473810   6.694386  2.701516  3.889423  0.469210  1.129692  3.130506   \n",
       "4192  0.110939   6.374451  3.278261  3.488400  1.843168  2.533297  2.706339   \n",
       "4486  0.149515   8.295760  3.830599  4.524291  0.567636 -0.749418  2.097916   \n",
       "4785  0.923858   6.060521  2.815015  3.529860 -0.003867 -0.718763  2.710020   \n",
       "5064  0.832567   6.240288  2.360502  2.710261  0.570887 -0.789882  4.434670   \n",
       "5346  1.017982   3.089483  1.619897  1.910027 -0.212804 -0.776226  2.499579   \n",
       "5632 -0.526230   0.576610 -0.356751 -0.355198 -0.475101 -0.781439  0.401604   \n",
       "\n",
       "        triple  \n",
       "290  -0.633776  \n",
       "505  -0.358023  \n",
       "699   0.232131  \n",
       "884   0.182731  \n",
       "1052  3.178635  \n",
       "1230  2.882419  \n",
       "1434  1.581165  \n",
       "1662  3.075533  \n",
       "1909  1.429960  \n",
       "2174  2.921778  \n",
       "2446  1.311990  \n",
       "2728 -0.063169  \n",
       "3021  0.704804  \n",
       "3304  1.625734  \n",
       "3600  1.530246  \n",
       "3898  0.973184  \n",
       "4192  1.564308  \n",
       "4486  0.232543  \n",
       "4785  0.817327  \n",
       "5064  0.263665  \n",
       "5346  0.747574  \n",
       "5632 -0.595910  "
      ]
     },
     "execution_count": 90,
     "metadata": {},
     "output_type": "execute_result"
    }
   ],
   "source": [
    "batting_br = batting_df[batting_df['player_id'] == 'ruthba01'].drop(columns=['Unnamed: 0', 'Unnamed: 0.1'])\n",
    "batting_br[['player_id', 'year'] + list(batting_br.columns[:7]) + list(batting_br.columns[8:-1])]"
   ]
  },
  {
   "cell_type": "code",
   "execution_count": 91,
   "metadata": {},
   "outputs": [
    {
     "data": {
      "text/html": [
       "<div>\n",
       "<style scoped>\n",
       "    .dataframe tbody tr th:only-of-type {\n",
       "        vertical-align: middle;\n",
       "    }\n",
       "\n",
       "    .dataframe tbody tr th {\n",
       "        vertical-align: top;\n",
       "    }\n",
       "\n",
       "    .dataframe thead th {\n",
       "        text-align: right;\n",
       "    }\n",
       "</style>\n",
       "<table border=\"1\" class=\"dataframe\">\n",
       "  <thead>\n",
       "    <tr style=\"text-align: right;\">\n",
       "      <th></th>\n",
       "      <th>player_id</th>\n",
       "      <th>ab</th>\n",
       "      <th>bb</th>\n",
       "      <th>double</th>\n",
       "      <th>g</th>\n",
       "      <th>h</th>\n",
       "      <th>hbp</th>\n",
       "      <th>hr</th>\n",
       "      <th>r</th>\n",
       "      <th>rbi</th>\n",
       "      <th>sb</th>\n",
       "      <th>sh</th>\n",
       "      <th>so</th>\n",
       "      <th>triple</th>\n",
       "      <th>years_played</th>\n",
       "      <th>hof</th>\n",
       "    </tr>\n",
       "  </thead>\n",
       "  <tbody>\n",
       "    <tr>\n",
       "      <th>871</th>\n",
       "      <td>ruthba01</td>\n",
       "      <td>-1.314393</td>\n",
       "      <td>-1.190755</td>\n",
       "      <td>-0.232028</td>\n",
       "      <td>-0.955056</td>\n",
       "      <td>-1.02028</td>\n",
       "      <td>-1.700115</td>\n",
       "      <td>2.362548</td>\n",
       "      <td>-0.785416</td>\n",
       "      <td>-0.38754</td>\n",
       "      <td>-1.726701</td>\n",
       "      <td>-1.445233</td>\n",
       "      <td>-0.326602</td>\n",
       "      <td>-0.759669</td>\n",
       "      <td>3.0</td>\n",
       "      <td>True</td>\n",
       "    </tr>\n",
       "  </tbody>\n",
       "</table>\n",
       "</div>"
      ],
      "text/plain": [
       "    player_id        ab        bb    double         g        h       hbp  \\\n",
       "871  ruthba01 -1.314393 -1.190755 -0.232028 -0.955056 -1.02028 -1.700115   \n",
       "\n",
       "           hr         r      rbi        sb        sh        so    triple  \\\n",
       "871  2.362548 -0.785416 -0.38754 -1.726701 -1.445233 -0.326602 -0.759669   \n",
       "\n",
       "     years_played   hof  \n",
       "871           3.0  True  "
      ]
     },
     "execution_count": 91,
     "metadata": {},
     "output_type": "execute_result"
    }
   ],
   "source": [
    "agg_df_br = agg_df[agg_df['player_id'] == 'ruthba01'].drop(columns=['Unnamed: 0', 'Unnamed: 0.1'])\n",
    "agg_df_br[['player_id'] + list(agg_df_br.columns[:7]) + list(agg_df_br.columns[8:])][2:3]"
   ]
  },
  {
   "cell_type": "code",
   "execution_count": 28,
   "metadata": {},
   "outputs": [],
   "source": [
    "y_test = np.load('../data_ready/y_test.npy')\n",
    "test_player_ids = np.load('../data_ready/test_player_ids.npy', allow_pickle=True)\n",
    "test_last_years_idxs = np.load('../data_ready/test_last_years_idxs.npy')\n",
    "\n",
    "preds_nn = np.load('agg_nn/preds.npy')\n",
    "preds_lstm = np.load('good_lstm/preds.npy')\n",
    "preds_rf = np.load('preds_rf.npy')\n",
    "preds_rocket = np.load('preds_rocket.npy')\n",
    "preds_svm = np.load('preds_svm.npy')\n",
    "preds_rf_ts = np.load('preds_rf_ts.npy')\n",
    "\n",
    "preds_all = [preds_nn, preds_lstm, preds_rf, preds_rocket, preds_svm, preds_rf_ts]\n",
    "\n",
    "probs_nn = np.load('agg_nn/probs.npy')[:, 1]\n",
    "probs_lstm = np.load('good_lstm/probs.npy')[:, 1]\n",
    "probs_rf = np.load('probs_rf.npy')\n",
    "probs_rocket = np.load('probs_rocket.npy')[:, 1]\n",
    "probs_svm = np.load('probs_svm.npy')\n",
    "probs_rf_ts = np.load('probs_rf_ts.npy')\n",
    "\n",
    "\n",
    "probs_all = [probs_nn, probs_lstm, probs_rf, probs_rocket, probs_svm, probs_rf_ts]\n",
    "probs_ensemble = np.mean(probs_all[0:2], axis=0)\n",
    "probs_all.append(probs_ensemble)\n",
    "\n",
    "preds_all.append(probs_ensemble >= 0.5)\n",
    "\n",
    "model_names = ['nn (agg)', 'lstm (ts)', 'rf (agg)', 'rocket (ts)', 'svm (agg)', 'rf (ts)', 'ensemble (nn + lstm)']\n",
    "\n",
    "\n",
    "test_player_ids = np.load('../data_ready/test_player_ids.npy', allow_pickle=True)\n",
    "test_years_played = np.load('../data_ready/test_years_played.npy')\n",
    "agg_df = pd.read_csv('../data_ready/agg/batting_norm_agg.csv')"
   ]
  },
  {
   "cell_type": "code",
   "execution_count": 29,
   "metadata": {},
   "outputs": [
    {
     "data": {
      "text/html": [
       "<div>\n",
       "<style scoped>\n",
       "    .dataframe tbody tr th:only-of-type {\n",
       "        vertical-align: middle;\n",
       "    }\n",
       "\n",
       "    .dataframe tbody tr th {\n",
       "        vertical-align: top;\n",
       "    }\n",
       "\n",
       "    .dataframe thead th {\n",
       "        text-align: right;\n",
       "    }\n",
       "</style>\n",
       "<table border=\"1\" class=\"dataframe\">\n",
       "  <thead>\n",
       "    <tr style=\"text-align: right;\">\n",
       "      <th></th>\n",
       "      <th>Unnamed: 0</th>\n",
       "      <th>Unnamed: 0.1</th>\n",
       "      <th>ab</th>\n",
       "      <th>bb</th>\n",
       "      <th>double</th>\n",
       "      <th>g</th>\n",
       "      <th>h</th>\n",
       "      <th>hbp</th>\n",
       "      <th>hr</th>\n",
       "      <th>player_id</th>\n",
       "      <th>r</th>\n",
       "      <th>rbi</th>\n",
       "      <th>sb</th>\n",
       "      <th>sh</th>\n",
       "      <th>so</th>\n",
       "      <th>triple</th>\n",
       "      <th>years_played</th>\n",
       "      <th>hof</th>\n",
       "    </tr>\n",
       "  </thead>\n",
       "  <tbody>\n",
       "    <tr>\n",
       "      <th>0</th>\n",
       "      <td>0</td>\n",
       "      <td>0</td>\n",
       "      <td>-0.661588</td>\n",
       "      <td>-0.438871</td>\n",
       "      <td>-0.640879</td>\n",
       "      <td>-0.705525</td>\n",
       "      <td>-0.583966</td>\n",
       "      <td>-0.539028</td>\n",
       "      <td>-0.388342</td>\n",
       "      <td>acostme01</td>\n",
       "      <td>-0.539369</td>\n",
       "      <td>-0.609924</td>\n",
       "      <td>-0.335788</td>\n",
       "      <td>-0.665060</td>\n",
       "      <td>-0.794309</td>\n",
       "      <td>-0.310270</td>\n",
       "      <td>1.0</td>\n",
       "      <td>False</td>\n",
       "    </tr>\n",
       "    <tr>\n",
       "      <th>1</th>\n",
       "      <td>1</td>\n",
       "      <td>1</td>\n",
       "      <td>-1.145500</td>\n",
       "      <td>-0.634319</td>\n",
       "      <td>-1.124076</td>\n",
       "      <td>-1.026475</td>\n",
       "      <td>-1.017650</td>\n",
       "      <td>-1.125153</td>\n",
       "      <td>-0.813317</td>\n",
       "      <td>acostme01</td>\n",
       "      <td>-0.903027</td>\n",
       "      <td>-1.153566</td>\n",
       "      <td>-0.636014</td>\n",
       "      <td>-1.424980</td>\n",
       "      <td>-0.892177</td>\n",
       "      <td>-0.404662</td>\n",
       "      <td>2.0</td>\n",
       "      <td>False</td>\n",
       "    </tr>\n",
       "    <tr>\n",
       "      <th>2</th>\n",
       "      <td>2</td>\n",
       "      <td>2</td>\n",
       "      <td>-1.161406</td>\n",
       "      <td>-0.031041</td>\n",
       "      <td>-1.378979</td>\n",
       "      <td>-0.693510</td>\n",
       "      <td>-1.160762</td>\n",
       "      <td>-0.056680</td>\n",
       "      <td>-1.235447</td>\n",
       "      <td>acostme01</td>\n",
       "      <td>-0.879855</td>\n",
       "      <td>-1.079926</td>\n",
       "      <td>-0.389503</td>\n",
       "      <td>-1.058649</td>\n",
       "      <td>-1.112142</td>\n",
       "      <td>-0.762685</td>\n",
       "      <td>3.0</td>\n",
       "      <td>False</td>\n",
       "    </tr>\n",
       "    <tr>\n",
       "      <th>3</th>\n",
       "      <td>3</td>\n",
       "      <td>3</td>\n",
       "      <td>-1.954610</td>\n",
       "      <td>-0.615781</td>\n",
       "      <td>-2.052017</td>\n",
       "      <td>-1.647343</td>\n",
       "      <td>-1.893377</td>\n",
       "      <td>-0.604941</td>\n",
       "      <td>-1.638442</td>\n",
       "      <td>acostme01</td>\n",
       "      <td>-1.575987</td>\n",
       "      <td>-1.775687</td>\n",
       "      <td>-0.956969</td>\n",
       "      <td>-1.764229</td>\n",
       "      <td>-2.108656</td>\n",
       "      <td>-1.364642</td>\n",
       "      <td>4.0</td>\n",
       "      <td>False</td>\n",
       "    </tr>\n",
       "    <tr>\n",
       "      <th>4</th>\n",
       "      <td>4</td>\n",
       "      <td>4</td>\n",
       "      <td>-1.744661</td>\n",
       "      <td>-0.229190</td>\n",
       "      <td>-2.314481</td>\n",
       "      <td>-1.438181</td>\n",
       "      <td>-1.531243</td>\n",
       "      <td>-1.148788</td>\n",
       "      <td>-2.011442</td>\n",
       "      <td>acostme01</td>\n",
       "      <td>-1.190280</td>\n",
       "      <td>-1.700775</td>\n",
       "      <td>-0.966303</td>\n",
       "      <td>-1.027140</td>\n",
       "      <td>-2.202136</td>\n",
       "      <td>-0.952990</td>\n",
       "      <td>5.0</td>\n",
       "      <td>False</td>\n",
       "    </tr>\n",
       "    <tr>\n",
       "      <th>...</th>\n",
       "      <td>...</td>\n",
       "      <td>...</td>\n",
       "      <td>...</td>\n",
       "      <td>...</td>\n",
       "      <td>...</td>\n",
       "      <td>...</td>\n",
       "      <td>...</td>\n",
       "      <td>...</td>\n",
       "      <td>...</td>\n",
       "      <td>...</td>\n",
       "      <td>...</td>\n",
       "      <td>...</td>\n",
       "      <td>...</td>\n",
       "      <td>...</td>\n",
       "      <td>...</td>\n",
       "      <td>...</td>\n",
       "      <td>...</td>\n",
       "      <td>...</td>\n",
       "    </tr>\n",
       "    <tr>\n",
       "      <th>43686</th>\n",
       "      <td>43686</td>\n",
       "      <td>44209</td>\n",
       "      <td>-0.448198</td>\n",
       "      <td>-0.350041</td>\n",
       "      <td>-0.506754</td>\n",
       "      <td>-0.542378</td>\n",
       "      <td>-0.443520</td>\n",
       "      <td>-0.452528</td>\n",
       "      <td>-0.364299</td>\n",
       "      <td>turnetr01</td>\n",
       "      <td>-0.407728</td>\n",
       "      <td>-0.547344</td>\n",
       "      <td>0.027295</td>\n",
       "      <td>-0.478008</td>\n",
       "      <td>-0.390894</td>\n",
       "      <td>-0.427949</td>\n",
       "      <td>1.0</td>\n",
       "      <td>False</td>\n",
       "    </tr>\n",
       "    <tr>\n",
       "      <th>43687</th>\n",
       "      <td>43687</td>\n",
       "      <td>44210</td>\n",
       "      <td>0.781068</td>\n",
       "      <td>0.410928</td>\n",
       "      <td>0.186854</td>\n",
       "      <td>0.614127</td>\n",
       "      <td>0.573732</td>\n",
       "      <td>0.309030</td>\n",
       "      <td>0.325219</td>\n",
       "      <td>urshegi01</td>\n",
       "      <td>0.382690</td>\n",
       "      <td>0.258928</td>\n",
       "      <td>-0.357982</td>\n",
       "      <td>0.058954</td>\n",
       "      <td>0.748672</td>\n",
       "      <td>0.186402</td>\n",
       "      <td>1.0</td>\n",
       "      <td>False</td>\n",
       "    </tr>\n",
       "    <tr>\n",
       "      <th>43688</th>\n",
       "      <td>43688</td>\n",
       "      <td>44211</td>\n",
       "      <td>-0.659393</td>\n",
       "      <td>-0.567460</td>\n",
       "      <td>-0.605841</td>\n",
       "      <td>-1.099213</td>\n",
       "      <td>-0.623035</td>\n",
       "      <td>-0.452528</td>\n",
       "      <td>-0.502202</td>\n",
       "      <td>waldrky02</td>\n",
       "      <td>-0.605333</td>\n",
       "      <td>-0.587657</td>\n",
       "      <td>-0.357982</td>\n",
       "      <td>-0.478008</td>\n",
       "      <td>-0.663400</td>\n",
       "      <td>-0.427949</td>\n",
       "      <td>1.0</td>\n",
       "      <td>False</td>\n",
       "    </tr>\n",
       "    <tr>\n",
       "      <th>43689</th>\n",
       "      <td>43689</td>\n",
       "      <td>44212</td>\n",
       "      <td>-0.551088</td>\n",
       "      <td>-0.513105</td>\n",
       "      <td>-0.308580</td>\n",
       "      <td>-0.949296</td>\n",
       "      <td>-0.503358</td>\n",
       "      <td>-0.452528</td>\n",
       "      <td>-0.364299</td>\n",
       "      <td>willima07</td>\n",
       "      <td>-0.486770</td>\n",
       "      <td>-0.466716</td>\n",
       "      <td>-0.357982</td>\n",
       "      <td>-0.478008</td>\n",
       "      <td>-0.613853</td>\n",
       "      <td>-0.427949</td>\n",
       "      <td>1.0</td>\n",
       "      <td>False</td>\n",
       "    </tr>\n",
       "    <tr>\n",
       "      <th>43690</th>\n",
       "      <td>43690</td>\n",
       "      <td>44213</td>\n",
       "      <td>-0.491520</td>\n",
       "      <td>-0.567460</td>\n",
       "      <td>-0.605841</td>\n",
       "      <td>-0.906462</td>\n",
       "      <td>-0.483412</td>\n",
       "      <td>-0.071749</td>\n",
       "      <td>-0.502202</td>\n",
       "      <td>willima08</td>\n",
       "      <td>-0.526291</td>\n",
       "      <td>-0.547344</td>\n",
       "      <td>-0.357982</td>\n",
       "      <td>-0.478008</td>\n",
       "      <td>-0.489987</td>\n",
       "      <td>0.186402</td>\n",
       "      <td>1.0</td>\n",
       "      <td>False</td>\n",
       "    </tr>\n",
       "  </tbody>\n",
       "</table>\n",
       "<p>43691 rows × 18 columns</p>\n",
       "</div>"
      ],
      "text/plain": [
       "       Unnamed: 0  Unnamed: 0.1        ab        bb    double         g  \\\n",
       "0               0             0 -0.661588 -0.438871 -0.640879 -0.705525   \n",
       "1               1             1 -1.145500 -0.634319 -1.124076 -1.026475   \n",
       "2               2             2 -1.161406 -0.031041 -1.378979 -0.693510   \n",
       "3               3             3 -1.954610 -0.615781 -2.052017 -1.647343   \n",
       "4               4             4 -1.744661 -0.229190 -2.314481 -1.438181   \n",
       "...           ...           ...       ...       ...       ...       ...   \n",
       "43686       43686         44209 -0.448198 -0.350041 -0.506754 -0.542378   \n",
       "43687       43687         44210  0.781068  0.410928  0.186854  0.614127   \n",
       "43688       43688         44211 -0.659393 -0.567460 -0.605841 -1.099213   \n",
       "43689       43689         44212 -0.551088 -0.513105 -0.308580 -0.949296   \n",
       "43690       43690         44213 -0.491520 -0.567460 -0.605841 -0.906462   \n",
       "\n",
       "              h       hbp        hr  player_id         r       rbi        sb  \\\n",
       "0     -0.583966 -0.539028 -0.388342  acostme01 -0.539369 -0.609924 -0.335788   \n",
       "1     -1.017650 -1.125153 -0.813317  acostme01 -0.903027 -1.153566 -0.636014   \n",
       "2     -1.160762 -0.056680 -1.235447  acostme01 -0.879855 -1.079926 -0.389503   \n",
       "3     -1.893377 -0.604941 -1.638442  acostme01 -1.575987 -1.775687 -0.956969   \n",
       "4     -1.531243 -1.148788 -2.011442  acostme01 -1.190280 -1.700775 -0.966303   \n",
       "...         ...       ...       ...        ...       ...       ...       ...   \n",
       "43686 -0.443520 -0.452528 -0.364299  turnetr01 -0.407728 -0.547344  0.027295   \n",
       "43687  0.573732  0.309030  0.325219  urshegi01  0.382690  0.258928 -0.357982   \n",
       "43688 -0.623035 -0.452528 -0.502202  waldrky02 -0.605333 -0.587657 -0.357982   \n",
       "43689 -0.503358 -0.452528 -0.364299  willima07 -0.486770 -0.466716 -0.357982   \n",
       "43690 -0.483412 -0.071749 -0.502202  willima08 -0.526291 -0.547344 -0.357982   \n",
       "\n",
       "             sh        so    triple  years_played    hof  \n",
       "0     -0.665060 -0.794309 -0.310270           1.0  False  \n",
       "1     -1.424980 -0.892177 -0.404662           2.0  False  \n",
       "2     -1.058649 -1.112142 -0.762685           3.0  False  \n",
       "3     -1.764229 -2.108656 -1.364642           4.0  False  \n",
       "4     -1.027140 -2.202136 -0.952990           5.0  False  \n",
       "...         ...       ...       ...           ...    ...  \n",
       "43686 -0.478008 -0.390894 -0.427949           1.0  False  \n",
       "43687  0.058954  0.748672  0.186402           1.0  False  \n",
       "43688 -0.478008 -0.663400 -0.427949           1.0  False  \n",
       "43689 -0.478008 -0.613853 -0.427949           1.0  False  \n",
       "43690 -0.478008 -0.489987  0.186402           1.0  False  \n",
       "\n",
       "[43691 rows x 18 columns]"
      ]
     },
     "execution_count": 29,
     "metadata": {},
     "output_type": "execute_result"
    }
   ],
   "source": [
    "agg_df"
   ]
  },
  {
   "cell_type": "code",
   "execution_count": 77,
   "metadata": {},
   "outputs": [],
   "source": [
    "y_test_full, preds_ens_full = y_test[test_last_n_years_idxs(1)], preds_all[-1][test_last_n_years_idxs(1)]"
   ]
  },
  {
   "cell_type": "code",
   "execution_count": 81,
   "metadata": {},
   "outputs": [],
   "source": [
    "tp = np.sum((y_test_full == 1) & (preds_ens_full == 1))\n",
    "tn = np.sum((y_test_full == 0) & (preds_ens_full == 0))\n",
    "fp = np.sum((y_test_full == 0) & (preds_ens_full == 1))\n",
    "fn = np.sum((y_test_full == 1) & (preds_ens_full == 0))"
   ]
  },
  {
   "cell_type": "code",
   "execution_count": 82,
   "metadata": {},
   "outputs": [
    {
     "data": {
      "text/plain": [
       "(0.9210526315789473, 0.07894736842105263, 0.041707080504364696)"
      ]
     },
     "execution_count": 82,
     "metadata": {},
     "output_type": "execute_result"
    }
   ],
   "source": [
    "tp / (tp + fn), fn / (fn + tp), fp / (fp + tn)"
   ]
  },
  {
   "cell_type": "code",
   "execution_count": 30,
   "metadata": {},
   "outputs": [],
   "source": [
    "def basic_accs(preds_all):\n",
    "    player_career_lengths = agg_df.groupby('player_id')['years_played'].max().to_dict()\n",
    "    full_idxs_ones = [i for i in range(len(y_test)) if player_career_lengths[test_player_ids[i]] == test_years_played[i] and y_test[i] == 1]\n",
    "    full_idxs_zeros = [i for i in range(len(y_test)) if player_career_lengths[test_player_ids[i]] == test_years_played[i] and y_test[i] == 0]\n",
    "    \n",
    "    # overall\n",
    "    overalls = [np.mean(preds == y_test) for preds in preds_all]\n",
    "    # zeros\n",
    "    zeros = [np.mean(preds[y_test == 0] == y_test[y_test == 0]) for preds in preds_all]\n",
    "    # ones\n",
    "    ones = [np.mean(preds[y_test == 1] == y_test[y_test == 1]) for preds in preds_all]\n",
    "    # full career zeros \n",
    "    full_zeros = [np.mean(preds[full_idxs_zeros] == y_test[full_idxs_zeros]) for preds in preds_all]\n",
    "    # full career ones\n",
    "    full_ones = [np.mean(preds[full_idxs_ones] == y_test[full_idxs_ones]) for preds in preds_all]\n",
    "    \n",
    "    return overalls, zeros, ones, full_zeros, full_ones"
   ]
  },
  {
   "cell_type": "code",
   "execution_count": 31,
   "metadata": {},
   "outputs": [
    {
     "data": {
      "text/plain": [
       "'nn (agg)'"
      ]
     },
     "metadata": {},
     "output_type": "display_data"
    },
    {
     "data": {
      "text/plain": [
       "[0.94, 0.97, 0.54, 0.98, 0.79]"
      ]
     },
     "metadata": {},
     "output_type": "display_data"
    },
    {
     "data": {
      "text/plain": [
       "'lstm (ts)'"
      ]
     },
     "metadata": {},
     "output_type": "display_data"
    },
    {
     "data": {
      "text/plain": [
       "[0.83, 0.83, 0.77, 0.93, 0.92]"
      ]
     },
     "metadata": {},
     "output_type": "display_data"
    },
    {
     "data": {
      "text/plain": [
       "'rf (agg)'"
      ]
     },
     "metadata": {},
     "output_type": "display_data"
    },
    {
     "data": {
      "text/plain": [
       "[0.96, 0.99, 0.31, 0.99, 0.68]"
      ]
     },
     "metadata": {},
     "output_type": "display_data"
    },
    {
     "data": {
      "text/plain": [
       "'rocket (ts)'"
      ]
     },
     "metadata": {},
     "output_type": "display_data"
    },
    {
     "data": {
      "text/plain": [
       "[0.93, 0.97, 0.14, 0.97, 0.26]"
      ]
     },
     "metadata": {},
     "output_type": "display_data"
    },
    {
     "data": {
      "text/plain": [
       "'svm (agg)'"
      ]
     },
     "metadata": {},
     "output_type": "display_data"
    },
    {
     "data": {
      "text/plain": [
       "[0.94, 0.99, 0.21, 1.0, 0.11]"
      ]
     },
     "metadata": {},
     "output_type": "display_data"
    },
    {
     "data": {
      "text/plain": [
       "'rf (ts)'"
      ]
     },
     "metadata": {},
     "output_type": "display_data"
    },
    {
     "data": {
      "text/plain": [
       "[0.95, 1.0, 0.12, 1.0, 0.18]"
      ]
     },
     "metadata": {},
     "output_type": "display_data"
    },
    {
     "data": {
      "text/plain": [
       "'ensemble (nn + lstm)'"
      ]
     },
     "metadata": {},
     "output_type": "display_data"
    },
    {
     "data": {
      "text/plain": [
       "[0.89, 0.9, 0.71, 0.96, 0.92]"
      ]
     },
     "metadata": {},
     "output_type": "display_data"
    }
   ],
   "source": [
    "for i in range(len(preds_all)):\n",
    "    display(model_names[i], [np.round(x[i], 2) for x in basic_accs(preds_all)])"
   ]
  },
  {
   "cell_type": "code",
   "execution_count": 32,
   "metadata": {},
   "outputs": [],
   "source": [
    "colors = ['blue', 'orange', 'green', 'red', 'purple', 'brown', 'pink']"
   ]
  },
  {
   "cell_type": "code",
   "execution_count": 33,
   "metadata": {},
   "outputs": [],
   "source": [
    "sample_weight = np.zeros(y_test.shape)\n",
    "sample_weight[y_test == 0] = 0.05\n",
    "sample_weight[y_test == 1] = 1"
   ]
  },
  {
   "cell_type": "code",
   "execution_count": 34,
   "metadata": {},
   "outputs": [],
   "source": [
    "def test_last_n_years_idxs(n):\n",
    "    player_career_lengths = agg_df.groupby('player_id')['years_played'].max().to_dict()\n",
    "    return [i for i in range(len(y_test)) if player_career_lengths[test_player_ids[i]] - n < test_years_played[i]]"
   ]
  },
  {
   "cell_type": "code",
   "execution_count": 35,
   "metadata": {},
   "outputs": [],
   "source": [
    "def plot_prcs(y_test, probs_all, colors=colors):\n",
    "    plt.figure()\n",
    "    lw = 2\n",
    "    \n",
    "    for i, probs in enumerate(probs_all):\n",
    "        p, r, _ = precision_recall_curve(y_test, probs, sample_weight=sample_weight)\n",
    "        plt.plot(p, r, color=colors[i],\n",
    "                 lw=lw, label=model_names[i] + ' (area = %0.2f)' % roc_auc_score(y_test, probs, sample_weight=sample_weight))\n",
    "\n",
    "    plt.xlim([0.0, 1.0])\n",
    "    plt.ylim([0.0, 1.05])\n",
    "    plt.xlabel('Precision')\n",
    "    plt.ylabel('Recall')\n",
    "    plt.title('Precision / recall curve')\n",
    "    plt.legend(loc=\"lower left\")\n",
    "    plt.show()"
   ]
  },
  {
   "cell_type": "code",
   "execution_count": 36,
   "metadata": {},
   "outputs": [
    {
     "data": {
      "image/png": "[encoded data removed]",
      "text/plain": [
       "<Figure size 432x288 with 1 Axes>"
      ]
     },
     "metadata": {
      "needs_background": "light"
     },
     "output_type": "display_data"
    }
   ],
   "source": [
    "plot_prcs(y_test, probs_all)"
   ]
  },
  {
   "cell_type": "code",
   "execution_count": 37,
   "metadata": {},
   "outputs": [],
   "source": [
    "def plot_rocs(y_test, probs_all, sample_weight, colors=colors, title='ROC curve over all samples'):\n",
    "    plt.figure()\n",
    "    lw = 2\n",
    "    \n",
    "    for i, probs in enumerate(probs_all):\n",
    "        fpr, tpr, _ = roc_curve(y_test, probs, sample_weight=sample_weight)\n",
    "        plt.plot(fpr, tpr, color=colors[i],\n",
    "                 lw=lw, label=model_names[i] + ' (area = %0.2f)' % roc_auc_score(y_test, probs, sample_weight=sample_weight))\n",
    "        plt.plot([0, 1], [0, 1], color='navy', lw=lw, linestyle='--')\n",
    "    plt.xlim([0.0, 1.0])\n",
    "    plt.ylim([0.0, 1.05])\n",
    "    plt.xlabel('False Positive Rate')\n",
    "    plt.ylabel('True Positive Rate')\n",
    "    plt.title(title)\n",
    "    plt.legend(loc=\"lower right\")\n",
    "    plt.show()"
   ]
  },
  {
   "cell_type": "code",
   "execution_count": 38,
   "metadata": {},
   "outputs": [
    {
     "data": {
      "image/png": "[encoded data removed]",
      "text/plain": [
       "<Figure size 432x288 with 1 Axes>"
      ]
     },
     "metadata": {
      "needs_background": "light"
     },
     "output_type": "display_data"
    },
    {
     "data": {
      "image/png": "[encoded data removed]",
      "text/plain": [
       "<Figure size 432x288 with 1 Axes>"
      ]
     },
     "metadata": {
      "needs_background": "light"
     },
     "output_type": "display_data"
    }
   ],
   "source": [
    "plot_rocs(y_test, probs_all, sample_weight)\n",
    "plot_rocs(y_test[test_last_n_years_idxs(1)], [x[test_last_n_years_idxs(1)] for x in probs_all], sample_weight[test_last_n_years_idxs(1)], title='ROC curve over full careers')"
   ]
  },
  {
   "cell_type": "code",
   "execution_count": 58,
   "metadata": {},
   "outputs": [],
   "source": [
    "def plot_metric(metric, metric_name='', ylabel='Model score'):\n",
    "    scores = []\n",
    "    for n in range(1, 26):\n",
    "        idxs = test_last_n_years_idxs(n)\n",
    "        scores.append([metric(y_test[idxs], preds[idxs], sample_weight=sample_weight[idxs]) for preds in preds_all])\n",
    "    plt.plot(scores)\n",
    "    plt.legend(model_names, loc=(1.05, 0))\n",
    "    plt.title(metric_name + ' Score Throughout Careers')\n",
    "    plt.xlabel('Years before end of career')\n",
    "    plt.ylabel(ylabel)\n",
    "    plt.xlim(25, 0)\n",
    "    return scores"
   ]
  },
  {
   "cell_type": "code",
   "execution_count": 59,
   "metadata": {},
   "outputs": [],
   "source": [
    "mean_metric = lambda a,b,sample_weight: np.mean([metric(a,b,sample_weight=sample_weight) for metric in (one_minus_brier, roc_auc_score, f1_score, jaccard_score)], axis=0)"
   ]
  },
  {
   "cell_type": "code",
   "execution_count": 60,
   "metadata": {},
   "outputs": [
    {
     "data": {
      "image/png": "[encoded data removed]",
      "text/plain": [
       "<Figure size 432x288 with 1 Axes>"
      ]
     },
     "metadata": {
      "needs_background": "light"
     },
     "output_type": "display_data"
    }
   ],
   "source": [
    "plot_metric(mean_metric, 'Mean Metric');"
   ]
  },
  {
   "cell_type": "code",
   "execution_count": 61,
   "metadata": {},
   "outputs": [
    {
     "data": {
      "image/png": "[encoded data removed]",
      "text/plain": [
       "<Figure size 432x288 with 1 Axes>"
      ]
     },
     "metadata": {
      "needs_background": "light"
     },
     "output_type": "display_data"
    }
   ],
   "source": [
    "one_minus_brier = lambda a,b,sample_weight: 1-brier_score_loss(a,b,sample_weight=sample_weight)\n",
    "plot_metric(one_minus_brier, '1 - Brier');"
   ]
  },
  {
   "cell_type": "code",
   "execution_count": 62,
   "metadata": {},
   "outputs": [
    {
     "data": {
      "image/png": "[encoded data removed]",
      "text/plain": [
       "<Figure size 432x288 with 1 Axes>"
      ]
     },
     "metadata": {
      "needs_background": "light"
     },
     "output_type": "display_data"
    }
   ],
   "source": [
    "plot_metric(roc_auc_score, 'ROC AUC');"
   ]
  },
  {
   "cell_type": "code",
   "execution_count": 63,
   "metadata": {},
   "outputs": [
    {
     "data": {
      "image/png": "[encoded data removed]",
      "text/plain": [
       "<Figure size 432x288 with 1 Axes>"
      ]
     },
     "metadata": {
      "needs_background": "light"
     },
     "output_type": "display_data"
    }
   ],
   "source": [
    "plot_metric(f1_score, 'F1');"
   ]
  },
  {
   "cell_type": "code",
   "execution_count": 64,
   "metadata": {},
   "outputs": [
    {
     "data": {
      "image/png": "[encoded data removed]",
      "text/plain": [
       "<Figure size 432x288 with 1 Axes>"
      ]
     },
     "metadata": {
      "needs_background": "light"
     },
     "output_type": "display_data"
    }
   ],
   "source": [
    "plot_metric(jaccard_score, 'Jaccard');"
   ]
  },
  {
   "cell_type": "code",
   "execution_count": 65,
   "metadata": {},
   "outputs": [
    {
     "data": {
      "image/png": "[encoded data removed]",
      "text/plain": [
       "<Figure size 432x288 with 1 Axes>"
      ]
     },
     "metadata": {
      "needs_background": "light"
     },
     "output_type": "display_data"
    }
   ],
   "source": [
    "plot_metric(average_precision_score, 'Average Precision');"
   ]
  },
  {
   "cell_type": "code",
   "execution_count": 66,
   "metadata": {},
   "outputs": [
    {
     "ename": "NameError",
     "evalue": "name 'percent_fp_got_votes' is not defined",
     "output_type": "error",
     "traceback": [
      "\u001b[0;31m---------------------------------------------------------------------------\u001b[0m",
      "\u001b[0;31mNameError\u001b[0m                                 Traceback (most recent call last)",
      "\u001b[0;32m<ipython-input-66-e5b511e6103c>\u001b[0m in \u001b[0;36m<module>\u001b[0;34m\u001b[0m\n\u001b[0;32m----> 1\u001b[0;31m \u001b[0;34m[\u001b[0m\u001b[0mpercent_fp_got_votes\u001b[0m\u001b[0;34m(\u001b[0m\u001b[0my_test\u001b[0m\u001b[0;34m,\u001b[0m \u001b[0mpreds\u001b[0m\u001b[0;34m,\u001b[0m \u001b[0mtest_player_ids\u001b[0m\u001b[0;34m)\u001b[0m \u001b[0;32mfor\u001b[0m \u001b[0mpreds\u001b[0m \u001b[0;32min\u001b[0m \u001b[0mpreds_all\u001b[0m\u001b[0;34m]\u001b[0m\u001b[0;34m\u001b[0m\u001b[0;34m\u001b[0m\u001b[0m\n\u001b[0m",
      "\u001b[0;32m<ipython-input-66-e5b511e6103c>\u001b[0m in \u001b[0;36m<listcomp>\u001b[0;34m(.0)\u001b[0m\n\u001b[0;32m----> 1\u001b[0;31m \u001b[0;34m[\u001b[0m\u001b[0mpercent_fp_got_votes\u001b[0m\u001b[0;34m(\u001b[0m\u001b[0my_test\u001b[0m\u001b[0;34m,\u001b[0m \u001b[0mpreds\u001b[0m\u001b[0;34m,\u001b[0m \u001b[0mtest_player_ids\u001b[0m\u001b[0;34m)\u001b[0m \u001b[0;32mfor\u001b[0m \u001b[0mpreds\u001b[0m \u001b[0;32min\u001b[0m \u001b[0mpreds_all\u001b[0m\u001b[0;34m]\u001b[0m\u001b[0;34m\u001b[0m\u001b[0;34m\u001b[0m\u001b[0m\n\u001b[0m",
      "\u001b[0;31mNameError\u001b[0m: name 'percent_fp_got_votes' is not defined"
     ]
    }
   ],
   "source": [
    "[percent_fp_got_votes(y_test, preds, test_player_ids) for preds in preds_all]"
   ]
  },
  {
   "cell_type": "code",
   "execution_count": 734,
   "metadata": {},
   "outputs": [
    {
     "name": "stdout",
     "output_type": "stream",
     "text": [
      "0.06476190476190476\n",
      "[0.97936076 0.77020293 0.9570627  0.967045   0.56891614 0.9625748\n",
      " 0.9864833  0.85147446 0.8560256  0.94358784 0.93942595 0.8560232\n",
      " 0.91652    0.62365854 0.89121777 0.9656313  0.81629133 0.7939839\n",
      " 0.9210973  0.93017226 0.985926   0.68818873 0.80555683 0.9003807\n",
      " 0.94713086 0.7920221  0.55593276 0.93598264 0.98640543 0.89463544\n",
      " 0.7538654  0.5724353  0.97672564 0.6789024  0.78502256 0.9456579\n",
      " 0.99281836 0.97475296 0.8126814  0.6518836  0.96271724 0.7717667\n",
      " 0.5101131  0.9739589  0.959085   0.9660136  0.79754865 0.7327379\n",
      " 0.8362175  0.9344926  0.92449784 0.87618643 0.86917144 0.86221224\n",
      " 0.9073073  0.892525   0.9968792  0.95865464 0.9000656  0.9679128\n",
      " 0.9831965  0.52699906 0.9724688  0.99697936 0.6641973  0.7921444\n",
      " 0.8472128  0.935038   0.54210824 0.8808099  0.9252101  0.9655108\n",
      " 0.9955462  0.89740825 0.99781466 0.9714352  0.8074364  0.99432725\n",
      " 0.9816095  0.9762744  0.746616   0.9896847  0.9857546  0.8272706\n",
      " 0.9998927  0.9900511  0.9175897  0.93233514 0.9987595  0.9774368\n",
      " 0.6057968  0.93577665 0.675868   0.99848086 0.9412914  0.5646508\n",
      " 0.8794877  0.8846112  0.9843406  0.90242124 0.99601775 0.9007668\n",
      " 0.51510584 0.9661491  0.8643617  0.51711446 0.53912395 0.9060375\n",
      " 0.8527348  0.94221383 0.51119363 0.93908376 0.7932358  0.8774075\n",
      " 0.91342777 0.5335149  0.5155147  0.596984   0.9615804  0.51111525\n",
      " 0.92660195 0.89837694 0.95097464 0.61952776 0.67879313 0.9682496\n",
      " 0.97522825 0.9073334  0.91106427 0.9972101  0.8097961  0.547834\n",
      " 0.9957106  0.8980284  0.9474518  0.6984364 ]\n",
      "['adcocjo01' 'aloufe01' 'bailebo01' 'batisto01' 'baylodo01' 'beckegl01'\n",
      " 'belleal01' 'bellgu01' 'belliro01' 'bergaau01' 'betanyu01' 'blairbu01'\n",
      " 'blairfo01' 'blaloha01' 'bondsbo01' 'bonilbo01' 'boonebr01' 'brownji03'\n",
      " 'brunato01' 'bufordo01' 'burksel01' 'cardele01' 'cartejo01' 'charled01'\n",
      " 'clarkgr01' 'conigbi01' 'conigto01' 'coopewa01' 'critzhu01' 'cruzde01'\n",
      " 'darkal01' 'deshide01' 'downibr01' 'durazer01' 'dykesji01' 'edmonji01'\n",
      " 'erstada01' 'etherbo01' 'falkbi01' 'farreke01' 'felizpe01' 'felscha01'\n",
      " 'finlest01' 'floodcu01' 'fostege01' 'fullmbr01' 'gaettga01' 'garcino01'\n",
      " 'garvest01' 'gilesma01' 'gomezma01' 'gonzalu01' 'goodmbi01' 'gracema01'\n",
      " 'greenji02' 'groatdi01' 'grudzma01' 'harrijo03' 'hassebu01' 'hausejo01'\n",
      " 'henlebo01' 'higgipi01' 'highan01' 'hodgegi01' 'howarel01' 'huntro01'\n",
      " 'judgejo01' 'knickbi01' 'kubekto01' 'kuheljo01' 'larkeno01' 'loftoke01'\n",
      " 'lollash01' 'lopesda01' 'lopezhe01' 'maddoga01' 'marshma01' 'marshwi01'\n",
      " 'matsuhi01' 'maypi01' 'mcauldi01' 'mccorfr01' 'mcdougi01' 'mcmanma01'\n",
      " 'mcraeha01' 'meusebo01' 'meuseir01' 'milleha01' 'mondari01' 'mondera01'\n",
      " 'morame01' 'munsoth01' 'murphda05' 'nichobi01' 'oconnda02' 'oliveal01'\n",
      " 'overbly01' 'parkewe01' 'petrori01' 'piersji01' 'pippwa01' 'polonlu01'\n",
      " 'portedi01' 'powervi01' 'puhlte01' 'ramirma02' 'renteed01' 'riceha01'\n",
      " 'roccomi01' 'rolensc01' 'saboch01' 'scheeal01' 'scottev01' 'sheffga01'\n",
      " 'sierrru01' 'simpsha01' 'smithre06' 'stallge02' 'staubru01' 'stennre01'\n",
      " 'stewash01' 'suhrgu01' 'suliker01' 'surhobj01' 'tayloto02' 'teahema01'\n",
      " 'tejadmi01' 'todtph01' 'unserde01' 'valenjo02' 'watkige01' 'wertzvi01'\n",
      " 'whitalo01' 'wilkebr01' 'willibe02' 'wrighta01'] sheffga01\n"
     ]
    },
    {
     "data": {
      "text/plain": [
       "0.4852941176470588"
      ]
     },
     "execution_count": 734,
     "metadata": {},
     "output_type": "execute_result"
    }
   ],
   "source": [
    "percent_fp_got_votes(y_test[last_years_idxs], probs_lstm[last_years_idxs], test_player_ids[last_years_idxs])"
   ]
  },
  {
   "cell_type": "code",
   "execution_count": 67,
   "metadata": {},
   "outputs": [],
   "source": [
    "def percent_fp_got_votes(y_true, y_probs, idx_player_ids): # about half\n",
    "    fp_idxs = np.where((y_true == 0) & (y_probs >= 0.5))[0]\n",
    "    print(len(fp_idxs) / len(y_true))\n",
    "    fp_players = np.unique(idx_player_ids[fp_idxs])\n",
    "    print(y_probs[fp_idxs])\n",
    "    print(fp_players, idx_player_ids[fp_idxs][np.argmax(y_probs[fp_idxs])])\n",
    "    hof = pd.read_csv('../data_normalized/hall_of_fame.csv')\n",
    "    return np.mean(np.isin(fp_players, hof['player_id']))"
   ]
  },
  {
   "cell_type": "code",
   "execution_count": 68,
   "metadata": {},
   "outputs": [
    {
     "name": "stdout",
     "output_type": "stream",
     "text": [
      "0.15813277338071394\n",
      "[1 1 1 ... 1 1 1]\n",
      "['adcocjo01' 'aloufe01' 'anderha02' 'baergca01' 'bailebo01' 'batisto01'\n",
      " 'baylodo01' 'beckegl01' 'belleal01' 'bellgu01' 'belliro01' 'benarma01'\n",
      " 'bergaau01' 'betanyu01' 'bigbeca01' 'blairbu01' 'blairfo01' 'blaloha01'\n",
      " 'blausje01' 'bluelu01' 'boleyjo01' 'bondsbo01' 'bondwa01' 'bonilbo01'\n",
      " 'boonebr01' 'bouched01' 'bowensa01' 'brookto01' 'browned02' 'brownji03'\n",
      " 'brownmi02' 'brumlmi01' 'brunato01' 'bucktr01' 'bufordo01' 'bumbral01'\n",
      " 'burksel01' 'candaca01' 'cantujo01' 'cardele01' 'careyto02' 'carlyro01'\n",
      " 'cartejo01' 'carusmi01' 'cavarph01' 'cervbo01' 'charled01' 'clarkal01'\n",
      " 'clarkda04' 'clarkgr01' 'clarkja01' 'clarkto02' 'clinege01' 'clintlo01'\n",
      " 'coangi01' 'colbena01' 'conigbi01' 'conigto01' 'coopewa01' 'cordoma01'\n",
      " 'courtcl01' 'crawfgl01' 'critzhu01' 'cromawa01' 'crowege01' 'cruiswa01'\n",
      " 'cruzde01' 'darkal01' 'daubabr01' 'davisjo02' 'davissp01' 'derryru01'\n",
      " 'deshide01' 'dimagvi01' 'downibr01' 'dressch01' 'durazer01' 'dykesji01'\n",
      " 'edmonji01' 'edwarha01' 'engliwo01' 'erstada01' 'esaskni01' 'etherbo01'\n",
      " 'eversho01' 'fainfe01' 'falkbi01' 'farreke01' 'felizpe01' 'felscha01'\n",
      " 'finlest01' 'fitzped01' 'flemile01' 'floodcu01' 'floydcl01' 'fostege01'\n",
      " 'foyjo01' 'freehbi01' 'fukudko01' 'fullmbr01' 'funkli01' 'gaettga01'\n",
      " 'garcino01' 'garcipe01' 'garvest01' 'gatesbr01' 'gedmari01' 'gelbech01'\n",
      " 'gerutjo01' 'gilbela01' 'gilesma01' 'gindlca01' 'glaustr01' 'gomezma01'\n",
      " 'gonzaal02' 'gonzalu01' 'goodmbi01' 'goodwpe01' 'gosgeji01' 'gracema01'\n",
      " 'grammal01' 'greenji02' 'griffbe01' 'griffdo01' 'griffto01' 'grissma02'\n",
      " 'groatdi01' 'grossgr01' 'grudzma01' 'guilloz01' 'hallir01' 'hallji02'\n",
      " 'hallme01' 'harrijo03' 'harrine01' 'hassebu01' 'hatchmi01' 'hattogr01'\n",
      " 'hausejo01' 'helmsto01' 'hendest01' 'hendrel01' 'henlebo01' 'hidalri01'\n",
      " 'higgibo02' 'higgipi01' 'highan01' 'hinsker01' 'hislela01' 'hodgegi01'\n",
      " 'howarel01' 'huntebi03' 'huntro01' 'ibanera01' 'incavpe01' 'iwamuak01'\n",
      " 'jacksra01' 'jamesdi01' 'jeffcha01' 'jeffegr01' 'johnsbi03' 'judgejo01'\n",
      " 'kaplega01' 'kerrbu01' 'kingji01' 'knickbi01' 'knoopbo01' 'kotchca01'\n",
      " 'koyer01' 'kozaral01' 'kressre01' 'kubekto01' 'kuheljo01' 'landiji01'\n",
      " 'laneja01' 'larkeno01' 'lawru01' 'lawtoma02' 'leeha01' 'lenhado01'\n",
      " 'lezcasi01' 'libkeal01' 'lindca01' 'liponjo01' 'listapa01' 'lockdo01'\n",
      " 'loftoke01' 'lohrkja01' 'lollash01' 'longte01' 'lopesda01' 'lopezhe01'\n",
      " 'lopezjo01' 'loretma01' 'lowrepe01' 'lumpeje01' 'lupieto01' 'luzingr01'\n",
      " 'lynchje01' 'maddoga01' 'mancugu01' 'marioma01' 'marshma01' 'marshwi01'\n",
      " 'martich01' 'mateoru01' 'matsuhi01' 'matsuka01' 'matthga01' 'maypi01'\n",
      " 'mcauldi01' 'mcbriba01' 'mccorfr01' 'mcdougi01' 'mcmanma01' 'mcraeha01'\n",
      " 'mejiaro01' 'meltobi01' 'metkoca01' 'meusebo01' 'meuseir01' 'meyerbe01'\n",
      " 'milleha01' 'milnejo01' 'mondari01' 'mondera01' 'montawi01' 'moorete01'\n",
      " 'moraan01' 'morame01' 'morynwa01' 'mullipa01' 'munsoth01' 'murphda05'\n",
      " 'murtoma01' 'nichobi01' 'niemabo01' 'oberkke01' 'oconnda02' 'oleartr01'\n",
      " 'oliveal01' 'oliveto01' 'orsinjo01' 'overbly01' 'pafkoan01' 'paglimi01'\n",
      " 'parkewe01' 'parrila01' 'partrja01' 'pasquda01' 'pearsal02' 'petrori01'\n",
      " 'piersji01' 'pillbr01' 'pippwa01' 'polonlu01' 'portedi01' 'powelho01'\n",
      " 'powervi01' 'puhlte01' 'quentca01' 'ramirma02' 'ramirra01' 'randabo01'\n",
      " 'rawlijo01' 'rayjo01' 'redusga01' 'renteed01' 'repozro01' 'retteme01'\n",
      " 'reyesna01' 'riceha01' 'richach01' 'riggsle01' 'robinfl01' 'roccomi01'\n",
      " 'rolensc01' 'roomero01' 'rowelba01' 'russeri01' 'saboch01' 'salasma01'\n",
      " 'santafp01' 'scheeal01' 'schemmi01' 'schulfr02' 'scottev01' 'scottlu01'\n",
      " 'selkige01' 'sernapa01' 'sexsori01' 'sheelea01' 'sheffga01' 'sierrru01'\n",
      " 'simpsha01' 'sisledi01' 'skizalo01' 'sledgte01' 'smithre06' 'soltemo01'\n",
      " 'speakbo01' 'spierbi01' 'spiezsc01' 'stallge02' 'stallvi01' 'stanked01'\n",
      " 'staubru01' 'stennre01' 'steveed01' 'stewash01' 'strinlo01' 'suhrgu01'\n",
      " 'suliker01' 'sullico01' 'surhobj01' 'taittdo01' 'taltoti01' 'tayloto02'\n",
      " 'teahema01' 'tejadmi01' 'terwiwa01' 'teufeti01' 'thomava01' 'tiernco01'\n",
      " 'tillmbo01' 'todtph01' 'umphlto01' 'unserde01' 'valenjo02' 'valoel01'\n",
      " 'venturo01' 'verbaem01' 'vicieda01' 'vinafe01' 'vizquom01' 'wagnele01'\n",
      " 'walkegr01' 'watkige01' 'welshji01' 'wertzvi01' 'whitalo01' 'whitema01'\n",
      " 'wicklal01' 'wilkebr01' 'willibe02' 'wilsoji01' 'wilsomo01' 'wockejo01'\n",
      " 'woodja01' 'wrighta01' 'youngba01' 'zarilal01' 'zernigu01'] griffto01\n"
     ]
    },
    {
     "data": {
      "text/plain": [
       "0.311614730878187"
      ]
     },
     "execution_count": 68,
     "metadata": {},
     "output_type": "execute_result"
    }
   ],
   "source": [
    "percent_fp_got_votes(y_test, preds_lstm, test_player_ids)"
   ]
  },
  {
   "cell_type": "code",
   "execution_count": 69,
   "metadata": {},
   "outputs": [],
   "source": [
    "def eval_preds(preds, y_test):\n",
    "    ones_preds, zeros_preds, ones_score, zeros_score = None, None, None, None\n",
    "    n_ones = np.sum(y_test)\n",
    "    n_zeros = np.sum(1-y_test)\n",
    "    try:\n",
    "        ones_preds = preds[y_test == 1]\n",
    "        ones_score = np.sum(ones_preds) / len(ones_preds)\n",
    "    except:\n",
    "        pass\n",
    "    try:\n",
    "        zeros_preds = preds[y_test == 0]\n",
    "        zeros_score = np.sum(1-zeros_preds) / len(zeros_preds)\n",
    "    except:\n",
    "        pass\n",
    "    \n",
    "    return ones_preds, zeros_preds, (ones_score, n_ones), (zeros_score, n_zeros), f1_score(y_test, preds, pos_label=0), f1_score(y_test, preds, pos_label=1)"
   ]
  },
  {
   "cell_type": "code",
   "execution_count": 70,
   "metadata": {},
   "outputs": [],
   "source": [
    "def eval_by_year(preds, y_test, agg_df, test_player_ids, test_years_played, test_zeros_ratio=1, years_before_end=-1):\n",
    "    \n",
    "    if years_before_end != -1:\n",
    "        player_career_lengths = agg_df.groupby('player_id')['years_played'].max().to_dict()\n",
    "        test_idxs_this_year = [i for i in range(len(y_test)) if player_career_lengths[test_player_ids[i]] - years_before_end == test_years_played[i]]\n",
    "\n",
    "        preds_this_year, y_test_this_year = preds[test_idxs_this_year], y_test[test_idxs_this_year]\n",
    "        \n",
    "        test_0s = np.where(y_test_this_year==0)[0]\n",
    "        np.random.seed(1)\n",
    "        idxs_sample_0s = np.random.choice(test_0s, size=int(len(test_0s) * test_zeros_ratio), replace=False)\n",
    "        \n",
    "        idxs = np.concatenate((idxs_sample_0s, np.where(y_test_this_year==1)[0]))\n",
    "#         print(preds_this_year[idxs].shape, y_test_this_year[idxs].shape, eval_nn(preds_this_year[idxs], y_test_this_year[idxs]))\n",
    "        if years_before_end == 0:\n",
    "            print(classification_report(y_test_this_year[idxs], preds_this_year[idxs]))\n",
    "            print(percent_fp_got_votes(y_test_this_year[idxs], preds_this_year[idxs], test_player_ids[test_idxs_this_year][idxs]))\n",
    "        return eval_preds(preds_this_year[idxs],  y_test_this_year[idxs])\n",
    "    else:\n",
    "        return eval_preds(preds, y_test)"
   ]
  },
  {
   "cell_type": "code",
   "execution_count": 71,
   "metadata": {},
   "outputs": [],
   "source": [
    "def eval_all_years(preds):\n",
    "    years = []\n",
    "    for i in range(26):\n",
    "        res = eval_by_year(preds, y_test, agg_df, test_player_ids, test_years_played, years_before_end=i)\n",
    "        years.append(res[2:])\n",
    "    return years"
   ]
  },
  {
   "cell_type": "code",
   "execution_count": 138,
   "metadata": {},
   "outputs": [
    {
     "data": {
      "text/plain": [
       "(((0.7894736842105263, 38),\n",
       "  (0.9825412221144519, 2062),\n",
       "  0.9892578125,\n",
       "  0.5769230769230769),\n",
       " ((0.9210526315789473, 38),\n",
       "  (0.9340446168768186, 2062),\n",
       "  0.9651716361814082,\n",
       "  0.33492822966507174),\n",
       " ((0.6842105263157895, 38),\n",
       "  (0.991270611057226, 2062),\n",
       "  0.9927149101505586,\n",
       "  0.6341463414634148),\n",
       " ((0.18421052631578946, 38),\n",
       "  (0.998545101842871, 2062),\n",
       "  0.991811175337187,\n",
       "  0.29166666666666663))"
      ]
     },
     "execution_count": 138,
     "metadata": {},
     "output_type": "execute_result"
    }
   ],
   "source": [
    "nn_res[0], lstm_res[0], rf_res[0], rf_ts_res[0]"
   ]
  },
  {
   "cell_type": "code",
   "execution_count": 73,
   "metadata": {},
   "outputs": [
    {
     "name": "stdout",
     "output_type": "stream",
     "text": [
      "              precision    recall  f1-score   support\n",
      "\n",
      "           0       1.00      0.96      0.98      2062\n",
      "           1       0.29      0.92      0.44        38\n",
      "\n",
      "    accuracy                           0.96      2100\n",
      "   macro avg       0.64      0.94      0.71      2100\n",
      "weighted avg       0.99      0.96      0.97      2100\n",
      "\n",
      "0.040952380952380955\n",
      "[ True  True  True  True  True  True  True  True  True  True  True  True\n",
      "  True  True  True  True  True  True  True  True  True  True  True  True\n",
      "  True  True  True  True  True  True  True  True  True  True  True  True\n",
      "  True  True  True  True  True  True  True  True  True  True  True  True\n",
      "  True  True  True  True  True  True  True  True  True  True  True  True\n",
      "  True  True  True  True  True  True  True  True  True  True  True  True\n",
      "  True  True  True  True  True  True  True  True  True  True  True  True\n",
      "  True  True]\n",
      "['adcocjo01' 'aloufe01' 'baylodo01' 'beckegl01' 'belleal01' 'bellgu01'\n",
      " 'belliro01' 'betanyu01' 'bondsbo01' 'bonilbo01' 'brownji03' 'brunato01'\n",
      " 'bufordo01' 'burksel01' 'cartejo01' 'charled01' 'conigto01' 'coopewa01'\n",
      " 'cruzde01' 'darkal01' 'deshide01' 'downibr01' 'edmonji01' 'falkbi01'\n",
      " 'felscha01' 'finlest01' 'floodcu01' 'fostege01' 'garcino01' 'garvest01'\n",
      " 'gilesma01' 'gonzalu01' 'gracema01' 'groatdi01' 'harrijo03' 'hassebu01'\n",
      " 'hausejo01' 'higgipi01' 'highan01' 'hodgegi01' 'howarel01' 'huntro01'\n",
      " 'judgejo01' 'kuheljo01' 'loftoke01' 'lopesda01' 'lopezhe01' 'marshwi01'\n",
      " 'maypi01' 'mcauldi01' 'mccorfr01' 'mcdougi01' 'mcmanma01' 'mcraeha01'\n",
      " 'meusebo01' 'meuseir01' 'mondera01' 'morame01' 'munsoth01' 'murphda05'\n",
      " 'nichobi01' 'oliveal01' 'parkewe01' 'petrori01' 'pippwa01' 'portedi01'\n",
      " 'powervi01' 'ramirma02' 'renteed01' 'roccomi01' 'rolensc01' 'saboch01'\n",
      " 'sheffga01' 'sierrru01' 'smithre06' 'staubru01' 'suhrgu01' 'surhobj01'\n",
      " 'tejadmi01' 'todtph01' 'valenjo02' 'wertzvi01' 'whitalo01' 'wilkebr01'\n",
      " 'willibe02' 'wrighta01'] higgipi01\n",
      "0.5930232558139535\n"
     ]
    },
    {
     "name": "stderr",
     "output_type": "stream",
     "text": [
      "<ipython-input-69-7b7c4518be3c>:7: RuntimeWarning: invalid value encountered in long_scalars\n",
      "  ones_score = np.sum(ones_preds) / len(ones_preds)\n",
      "/home/nick/anaconda3/lib/python3.8/site-packages/sklearn/metrics/_classification.py:1464: UndefinedMetricWarning: F-score is ill-defined and being set to 0.0 due to no true nor predicted samples. Use `zero_division` parameter to control this behavior.\n",
      "  _warn_prf(\n",
      "<ipython-input-69-7b7c4518be3c>:12: RuntimeWarning: invalid value encountered in long_scalars\n",
      "  zeros_score = np.sum(1-zeros_preds) / len(zeros_preds)\n"
     ]
    },
    {
     "data": {
      "text/plain": [
       "[((0.9210526315789473, 38),\n",
       "  (0.9582929194956353, 2062),\n",
       "  0.9779757485770849,\n",
       "  0.440251572327044),\n",
       " ((0.9459459459459459, 37),\n",
       "  (0.9321817018554063, 1563),\n",
       "  0.9642620780939775,\n",
       "  0.39325842696629215),\n",
       " ((0.9459459459459459, 37),\n",
       "  (0.906885758998435, 1278),\n",
       "  0.950389503895039,\n",
       "  0.3664921465968587),\n",
       " ((0.9459459459459459, 37),\n",
       "  (0.8885844748858448, 1095),\n",
       "  0.9400966183574879,\n",
       "  0.36082474226804123),\n",
       " ((0.918918918918919, 37),\n",
       "  (0.8751300728407908, 961),\n",
       "  0.9318559556786703,\n",
       "  0.35602094240837695),\n",
       " ((0.8918918918918919, 37),\n",
       "  (0.8730904817861339, 851),\n",
       "  0.9299123904881101,\n",
       "  0.3707865168539326),\n",
       " ((0.8648648648648649, 37),\n",
       "  (0.8651226158038147, 734),\n",
       "  0.9243085880640466,\n",
       "  0.380952380952381),\n",
       " ((0.8378378378378378, 37),\n",
       "  (0.8663522012578616, 636),\n",
       "  0.9237217099748533,\n",
       "  0.4052287581699346),\n",
       " ((0.8055555555555556, 36),\n",
       "  (0.8651079136690647, 556),\n",
       "  0.921455938697318,\n",
       "  0.41428571428571426),\n",
       " ((0.7777777777777778, 36),\n",
       "  (0.8668122270742358, 458),\n",
       "  0.9200463499420626,\n",
       "  0.44799999999999995),\n",
       " ((0.7714285714285715, 35),\n",
       "  (0.8753246753246753, 385),\n",
       "  0.9232876712328767,\n",
       "  0.49090909090909085),\n",
       " ((0.6857142857142857, 35),\n",
       "  (0.8867313915857605, 309),\n",
       "  0.9225589225589225,\n",
       "  0.5106382978723405),\n",
       " ((0.6176470588235294, 34),\n",
       "  (0.8945147679324894, 237),\n",
       "  0.9177489177489176,\n",
       "  0.5249999999999999),\n",
       " ((0.5882352941176471, 34),\n",
       "  (0.8833333333333333, 180),\n",
       "  0.9008498583569405,\n",
       "  0.5333333333333332),\n",
       " ((0.45454545454545453, 33),\n",
       "  (0.9185185185185185, 135),\n",
       "  0.8953068592057762,\n",
       "  0.5084745762711863),\n",
       " ((0.25806451612903225, 31),\n",
       "  (0.9519230769230769, 104),\n",
       "  0.8761061946902655,\n",
       "  0.36363636363636365),\n",
       " ((0.34615384615384615, 26),\n",
       "  (0.9333333333333333, 75),\n",
       "  0.8641975308641976,\n",
       "  0.45),\n",
       " ((0.2857142857142857, 21), (0.9375, 48), 0.8333333333333334, 0.4),\n",
       " ((0.375, 16), (0.9259259259259259, 27), 0.8064516129032259, 0.5),\n",
       " ((0.16666666666666666, 12),\n",
       "  (1.0, 15),\n",
       "  0.7499999999999999,\n",
       "  0.2857142857142857),\n",
       " ((0.14285714285714285, 7), (1.0, 6), 0.6666666666666666, 0.25),\n",
       " ((0.0, 4), (1.0, 6), 0.7499999999999999, 0.0),\n",
       " ((0.0, 1), (1.0, 2), 0.8, 0.0),\n",
       " ((nan, 0), (1.0, 1), 1.0, 0.0),\n",
       " ((nan, 0), (nan, 0), 0.0, 0.0),\n",
       " ((nan, 0), (nan, 0), 0.0, 0.0)]"
      ]
     },
     "execution_count": 73,
     "metadata": {},
     "output_type": "execute_result"
    }
   ],
   "source": [
    "eval_all_years(preds_all[-1])"
   ]
  },
  {
   "cell_type": "code",
   "execution_count": 133,
   "metadata": {},
   "outputs": [
    {
     "name": "stdout",
     "output_type": "stream",
     "text": [
      "              precision    recall  f1-score   support\n",
      "\n",
      "           0       1.00      0.98      0.99      2062\n",
      "           1       0.45      0.79      0.58        38\n",
      "\n",
      "    accuracy                           0.98      2100\n",
      "   macro avg       0.73      0.89      0.78      2100\n",
      "weighted avg       0.99      0.98      0.98      2100\n",
      "\n",
      "0.017142857142857144\n",
      "[1 1 1 1 1 1 1 1 1 1 1 1 1 1 1 1 1 1 1 1 1 1 1 1 1 1 1 1 1 1 1 1 1 1 1 1]\n",
      "['aloufe01' 'baylodo01' 'belleal01' 'bellgu01' 'bondsbo01' 'bonilbo01'\n",
      " 'burksel01' 'cartejo01' 'darkal01' 'felscha01' 'finlest01' 'garcino01'\n",
      " 'gonzalu01' 'gracema01' 'groatdi01' 'jenseja01' 'judgejo01' 'loftoke01'\n",
      " 'marshwi01' 'mccorfr01' 'mcraeha01' 'meusebo01' 'meuseir01' 'oliveal01'\n",
      " 'pafkoan01' 'pierrju01' 'pippwa01' 'powervi01' 'ramirma02' 'rolensc01'\n",
      " 'sheffga01' 'smithre06' 'staubru01' 'tejadmi01' 'whitalo01' 'willibe02'] darkal01\n",
      "0.7777777777777778\n"
     ]
    },
    {
     "name": "stderr",
     "output_type": "stream",
     "text": [
      "<ipython-input-105-7b7c4518be3c>:7: RuntimeWarning: invalid value encountered in long_scalars\n",
      "  ones_score = np.sum(ones_preds) / len(ones_preds)\n",
      "/home/nick/anaconda3/lib/python3.8/site-packages/sklearn/metrics/_classification.py:1464: UndefinedMetricWarning: F-score is ill-defined and being set to 0.0 due to no true nor predicted samples. Use `zero_division` parameter to control this behavior.\n",
      "  _warn_prf(\n",
      "<ipython-input-105-7b7c4518be3c>:12: RuntimeWarning: invalid value encountered in long_scalars\n",
      "  zeros_score = np.sum(1-zeros_preds) / len(zeros_preds)\n"
     ]
    },
    {
     "name": "stdout",
     "output_type": "stream",
     "text": [
      "              precision    recall  f1-score   support\n",
      "\n",
      "           0       1.00      0.93      0.97      2062\n",
      "           1       0.20      0.92      0.33        38\n",
      "\n",
      "    accuracy                           0.93      2100\n",
      "   macro avg       0.60      0.93      0.65      2100\n",
      "weighted avg       0.98      0.93      0.95      2100\n",
      "\n",
      "0.06476190476190476\n",
      "[1 1 1 1 1 1 1 1 1 1 1 1 1 1 1 1 1 1 1 1 1 1 1 1 1 1 1 1 1 1 1 1 1 1 1 1 1\n",
      " 1 1 1 1 1 1 1 1 1 1 1 1 1 1 1 1 1 1 1 1 1 1 1 1 1 1 1 1 1 1 1 1 1 1 1 1 1\n",
      " 1 1 1 1 1 1 1 1 1 1 1 1 1 1 1 1 1 1 1 1 1 1 1 1 1 1 1 1 1 1 1 1 1 1 1 1 1\n",
      " 1 1 1 1 1 1 1 1 1 1 1 1 1 1 1 1 1 1 1 1 1 1 1 1 1]\n",
      "['adcocjo01' 'aloufe01' 'bailebo01' 'batisto01' 'baylodo01' 'beckegl01'\n",
      " 'belleal01' 'bellgu01' 'belliro01' 'bergaau01' 'betanyu01' 'blairbu01'\n",
      " 'blairfo01' 'blaloha01' 'bondsbo01' 'bonilbo01' 'boonebr01' 'brownji03'\n",
      " 'brunato01' 'bufordo01' 'burksel01' 'cardele01' 'cartejo01' 'charled01'\n",
      " 'clarkgr01' 'conigbi01' 'conigto01' 'coopewa01' 'critzhu01' 'cruzde01'\n",
      " 'darkal01' 'deshide01' 'downibr01' 'durazer01' 'dykesji01' 'edmonji01'\n",
      " 'erstada01' 'etherbo01' 'falkbi01' 'farreke01' 'felizpe01' 'felscha01'\n",
      " 'finlest01' 'floodcu01' 'fostege01' 'fullmbr01' 'gaettga01' 'garcino01'\n",
      " 'garvest01' 'gilesma01' 'gomezma01' 'gonzalu01' 'goodmbi01' 'gracema01'\n",
      " 'greenji02' 'groatdi01' 'grudzma01' 'harrijo03' 'hassebu01' 'hausejo01'\n",
      " 'henlebo01' 'higgipi01' 'highan01' 'hodgegi01' 'howarel01' 'huntro01'\n",
      " 'judgejo01' 'knickbi01' 'kubekto01' 'kuheljo01' 'larkeno01' 'loftoke01'\n",
      " 'lollash01' 'lopesda01' 'lopezhe01' 'maddoga01' 'marshma01' 'marshwi01'\n",
      " 'matsuhi01' 'maypi01' 'mcauldi01' 'mccorfr01' 'mcdougi01' 'mcmanma01'\n",
      " 'mcraeha01' 'meusebo01' 'meuseir01' 'milleha01' 'mondari01' 'mondera01'\n",
      " 'morame01' 'munsoth01' 'murphda05' 'nichobi01' 'oconnda02' 'oliveal01'\n",
      " 'overbly01' 'parkewe01' 'petrori01' 'piersji01' 'pippwa01' 'polonlu01'\n",
      " 'portedi01' 'powervi01' 'puhlte01' 'ramirma02' 'renteed01' 'riceha01'\n",
      " 'roccomi01' 'rolensc01' 'saboch01' 'scheeal01' 'scottev01' 'sheffga01'\n",
      " 'sierrru01' 'simpsha01' 'smithre06' 'stallge02' 'staubru01' 'stennre01'\n",
      " 'stewash01' 'suhrgu01' 'suliker01' 'surhobj01' 'tayloto02' 'teahema01'\n",
      " 'tejadmi01' 'todtph01' 'unserde01' 'valenjo02' 'watkige01' 'wertzvi01'\n",
      " 'whitalo01' 'wilkebr01' 'willibe02' 'wrighta01'] higgipi01\n",
      "0.4852941176470588\n",
      "              precision    recall  f1-score   support\n",
      "\n",
      "           0       0.99      0.99      0.99      2062\n",
      "           1       0.59      0.68      0.63        38\n",
      "\n",
      "    accuracy                           0.99      2100\n",
      "   macro avg       0.79      0.84      0.81      2100\n",
      "weighted avg       0.99      0.99      0.99      2100\n",
      "\n",
      "0.008571428571428572\n",
      "[1 1 1 1 1 1 1 1 1 1 1 1 1 1 1 1 1 1]\n",
      "['aloufe01' 'bondsbo01' 'cartejo01' 'darkal01' 'finlest01' 'gonzalu01'\n",
      " 'gracema01' 'groatdi01' 'loftoke01' 'oliveal01' 'ramirma02' 'renteed01'\n",
      " 'sheffga01' 'staubru01' 'tejadmi01' 'vizquom01' 'whitalo01' 'willibe02'] darkal01\n",
      "0.7777777777777778\n",
      "              precision    recall  f1-score   support\n",
      "\n",
      "           0       0.99      1.00      0.99      2062\n",
      "           1       0.70      0.18      0.29        38\n",
      "\n",
      "    accuracy                           0.98      2100\n",
      "   macro avg       0.84      0.59      0.64      2100\n",
      "weighted avg       0.98      0.98      0.98      2100\n",
      "\n",
      "0.0014285714285714286\n",
      "[ True  True  True]\n",
      "['darkal01' 'rolensc01' 'willibe02'] darkal01\n",
      "0.6666666666666666\n"
     ]
    }
   ],
   "source": [
    "nn_res = eval_all_years(preds_nn)\n",
    "lstm_res = eval_all_years(preds_lstm)\n",
    "rf_res = eval_all_years(preds_rf)\n",
    "rf_ts_res = eval_all_years(preds_rf_ts)"
   ]
  },
  {
   "cell_type": "code",
   "execution_count": 119,
   "metadata": {},
   "outputs": [],
   "source": [
    "nn_f1_1s = [x[3] for x in nn_res]\n",
    "lstm_f1_1s = [x[3] for x in lstm_res]\n",
    "rf_f1_1s = [x[3] for x in rf_res]\n",
    "rf_ts_f1_1s = [x[3] for x in rf_ts_res]\n",
    "\n",
    "\n",
    "nn_1s_acc = [x[0][0] for x in nn_res]\n",
    "lstm_1s_acc = [x[0][0] for x in lstm_res]\n",
    "rf_1s_acc = [x[0][0] for x in rf_res]\n",
    "rf_ts_1s_acc = [x[0][0] for x in rf_ts_res]\n",
    "\n",
    "\n",
    "\n",
    "nn_0s_acc = [x[1][0] for x in nn_res]\n",
    "lstm_0s_acc = [x[1][0] for x in lstm_res]\n",
    "rf_0s_acc = [x[1][0] for x in rf_res]\n",
    "rf_ts_0s_acc = [x[1][0] for x in rf_ts_res]"
   ]
  },
  {
   "cell_type": "code",
   "execution_count": 125,
   "metadata": {},
   "outputs": [
    {
     "data": {
      "text/plain": [
       "[<matplotlib.lines.Line2D at 0x7f2a2042b640>]"
      ]
     },
     "execution_count": 125,
     "metadata": {},
     "output_type": "execute_result"
    },
    {
     "data": {
      "image/png": "[encoded data removed]",
      "text/plain": [
       "<Figure size 432x288 with 1 Axes>"
      ]
     },
     "metadata": {
      "needs_background": "light"
     },
     "output_type": "display_data"
    }
   ],
   "source": [
    "plt.plot(nn_0s_acc)\n",
    "plt.plot(lstm_0s_acc)\n",
    "plt.plot(rf_0s_acc)\n",
    "plt.plot(rf_ts_0s_acc)"
   ]
  },
  {
   "cell_type": "code",
   "execution_count": 129,
   "metadata": {},
   "outputs": [
    {
     "data": {
      "text/plain": [
       "[<matplotlib.lines.Line2D at 0x7f2a1f439bb0>]"
      ]
     },
     "execution_count": 129,
     "metadata": {},
     "output_type": "execute_result"
    },
    {
     "data": {
      "image/png": "[encoded data removed]",
      "text/plain": [
       "<Figure size 432x288 with 1 Axes>"
      ]
     },
     "metadata": {
      "needs_background": "light"
     },
     "output_type": "display_data"
    }
   ],
   "source": [
    "plt.plot(nn_1s_acc)\n",
    "plt.plot(lstm_1s_acc)\n",
    "plt.plot(rf_1s_acc)\n",
    "plt.plot(rf_ts_1s_acc)"
   ]
  },
  {
   "cell_type": "code",
   "execution_count": 132,
   "metadata": {},
   "outputs": [
    {
     "data": {
      "text/plain": [
       "[<matplotlib.lines.Line2D at 0x7f2a1fcc48b0>]"
      ]
     },
     "execution_count": 132,
     "metadata": {},
     "output_type": "execute_result"
    },
    {
     "data": {
      "image/png": "[encoded data removed]",
      "text/plain": [
       "<Figure size 432x288 with 1 Axes>"
      ]
     },
     "metadata": {
      "needs_background": "light"
     },
     "output_type": "display_data"
    }
   ],
   "source": [
    "plt.plot(nn_f1_1s)\n",
    "plt.plot(lstm_f1_1s)\n",
    "plt.plot(rf_f1_1s)\n",
    "plt.plot(rf_ts_f1_1s)"
   ]
  },
  {
   "cell_type": "code",
   "execution_count": 180,
   "metadata": {},
   "outputs": [
    {
     "name": "stdout",
     "output_type": "stream",
     "text": [
      "              precision    recall  f1-score   support\n",
      "\n",
      "           0       1.00      0.93      0.97      2062\n",
      "           1       0.20      0.92      0.33        38\n",
      "\n",
      "    accuracy                           0.93      2100\n",
      "   macro avg       0.60      0.93      0.65      2100\n",
      "weighted avg       0.98      0.93      0.95      2100\n",
      "\n",
      "0.4852941176470588\n"
     ]
    },
    {
     "name": "stderr",
     "output_type": "stream",
     "text": [
      "<ipython-input-163-7b7c4518be3c>:7: RuntimeWarning: invalid value encountered in long_scalars\n",
      "  ones_score = np.sum(ones_preds) / len(ones_preds)\n",
      "<ipython-input-163-7b7c4518be3c>:12: RuntimeWarning: invalid value encountered in long_scalars\n",
      "  zeros_score = np.sum(1-zeros_preds) / len(zeros_preds)\n"
     ]
    }
   ],
   "source": [
    "good_lstm_res = eval_all_years(preds_good_lstm)"
   ]
  },
  {
   "cell_type": "code",
   "execution_count": 153,
   "metadata": {},
   "outputs": [],
   "source": [
    "from sklearn.ensemble import RandomForestClassifier"
   ]
  },
  {
   "cell_type": "code",
   "execution_count": 154,
   "metadata": {},
   "outputs": [],
   "source": [
    "X_train_agg = np.load('../data_ready/agg/X_train.npy')\n",
    "y_train_agg = np.load('../data_ready/y_train.npy')"
   ]
  },
  {
   "cell_type": "code",
   "execution_count": 155,
   "metadata": {},
   "outputs": [],
   "source": [
    "X_test_agg = np.load('../data_ready/agg/X_test.npy')"
   ]
  },
  {
   "cell_type": "code",
   "execution_count": 156,
   "metadata": {},
   "outputs": [
    {
     "data": {
      "text/plain": [
       "310"
      ]
     },
     "execution_count": 156,
     "metadata": {},
     "output_type": "execute_result"
    }
   ],
   "source": [
    "sum(preds_rf)"
   ]
  },
  {
   "cell_type": "code",
   "execution_count": 157,
   "metadata": {},
   "outputs": [
    {
     "data": {
      "text/plain": [
       "array([0, 0, 0, ..., 0, 0, 0])"
      ]
     },
     "execution_count": 157,
     "metadata": {},
     "output_type": "execute_result"
    }
   ],
   "source": [
    "preds_rf"
   ]
  },
  {
   "cell_type": "code",
   "execution_count": 269,
   "metadata": {},
   "outputs": [
    {
     "data": {
      "text/plain": [
       "(12382, 25, 13)"
      ]
     },
     "execution_count": 269,
     "metadata": {},
     "output_type": "execute_result"
    }
   ],
   "source": [
    "x.shape"
   ]
  },
  {
   "cell_type": "code",
   "execution_count": 172,
   "metadata": {},
   "outputs": [
    {
     "data": {
      "text/plain": [
       "[('hbp', 0.04863456814804448),\n",
       " ('sb', 0.04926617129793372),\n",
       " ('years_played', 0.05175234012447332),\n",
       " ('sh', 0.05227950645904248),\n",
       " ('bb', 0.05500461922536896),\n",
       " ('triple', 0.06101848283711172),\n",
       " ('g', 0.062065256994139784),\n",
       " ('ab', 0.06442823674788294),\n",
       " ('so', 0.07169406578355435),\n",
       " ('rbi', 0.08188617334489112),\n",
       " ('hr', 0.08949049471633498),\n",
       " ('double', 0.09202374377842927),\n",
       " ('h', 0.09243380260127836),\n",
       " ('r', 0.12802253794151464)]"
      ]
     },
     "execution_count": 172,
     "metadata": {},
     "output_type": "execute_result"
    }
   ],
   "source": [
    "sorted(list(zip(agg_df.drop(columns=['Unnamed: 0', 'Unnamed: 0.1', 'player_id', 'hof']).columns, rf.feature_importances_)), key = lambda x: x[1])"
   ]
  },
  {
   "cell_type": "code",
   "execution_count": 166,
   "metadata": {},
   "outputs": [
    {
     "data": {
      "text/html": [
       "<div>\n",
       "<style scoped>\n",
       "    .dataframe tbody tr th:only-of-type {\n",
       "        vertical-align: middle;\n",
       "    }\n",
       "\n",
       "    .dataframe tbody tr th {\n",
       "        vertical-align: top;\n",
       "    }\n",
       "\n",
       "    .dataframe thead th {\n",
       "        text-align: right;\n",
       "    }\n",
       "</style>\n",
       "<table border=\"1\" class=\"dataframe\">\n",
       "  <thead>\n",
       "    <tr style=\"text-align: right;\">\n",
       "      <th></th>\n",
       "      <th>ab</th>\n",
       "      <th>bb</th>\n",
       "      <th>double</th>\n",
       "      <th>g</th>\n",
       "      <th>h</th>\n",
       "      <th>hbp</th>\n",
       "      <th>hr</th>\n",
       "      <th>r</th>\n",
       "      <th>rbi</th>\n",
       "      <th>sb</th>\n",
       "      <th>sh</th>\n",
       "      <th>so</th>\n",
       "      <th>triple</th>\n",
       "      <th>years_played</th>\n",
       "    </tr>\n",
       "  </thead>\n",
       "  <tbody>\n",
       "    <tr>\n",
       "      <th>0</th>\n",
       "      <td>-0.661588</td>\n",
       "      <td>-0.438871</td>\n",
       "      <td>-0.640879</td>\n",
       "      <td>-0.705525</td>\n",
       "      <td>-0.583966</td>\n",
       "      <td>-0.539028</td>\n",
       "      <td>-0.388342</td>\n",
       "      <td>-0.539369</td>\n",
       "      <td>-0.609924</td>\n",
       "      <td>-0.335788</td>\n",
       "      <td>-0.665060</td>\n",
       "      <td>-0.794309</td>\n",
       "      <td>-0.310270</td>\n",
       "      <td>1.0</td>\n",
       "    </tr>\n",
       "    <tr>\n",
       "      <th>1</th>\n",
       "      <td>-1.145500</td>\n",
       "      <td>-0.634319</td>\n",
       "      <td>-1.124076</td>\n",
       "      <td>-1.026475</td>\n",
       "      <td>-1.017650</td>\n",
       "      <td>-1.125153</td>\n",
       "      <td>-0.813317</td>\n",
       "      <td>-0.903027</td>\n",
       "      <td>-1.153566</td>\n",
       "      <td>-0.636014</td>\n",
       "      <td>-1.424980</td>\n",
       "      <td>-0.892177</td>\n",
       "      <td>-0.404662</td>\n",
       "      <td>2.0</td>\n",
       "    </tr>\n",
       "    <tr>\n",
       "      <th>2</th>\n",
       "      <td>-1.161406</td>\n",
       "      <td>-0.031041</td>\n",
       "      <td>-1.378979</td>\n",
       "      <td>-0.693510</td>\n",
       "      <td>-1.160762</td>\n",
       "      <td>-0.056680</td>\n",
       "      <td>-1.235447</td>\n",
       "      <td>-0.879855</td>\n",
       "      <td>-1.079926</td>\n",
       "      <td>-0.389503</td>\n",
       "      <td>-1.058649</td>\n",
       "      <td>-1.112142</td>\n",
       "      <td>-0.762685</td>\n",
       "      <td>3.0</td>\n",
       "    </tr>\n",
       "    <tr>\n",
       "      <th>3</th>\n",
       "      <td>-1.954610</td>\n",
       "      <td>-0.615781</td>\n",
       "      <td>-2.052017</td>\n",
       "      <td>-1.647343</td>\n",
       "      <td>-1.893377</td>\n",
       "      <td>-0.604941</td>\n",
       "      <td>-1.638442</td>\n",
       "      <td>-1.575987</td>\n",
       "      <td>-1.775687</td>\n",
       "      <td>-0.956969</td>\n",
       "      <td>-1.764229</td>\n",
       "      <td>-2.108656</td>\n",
       "      <td>-1.364642</td>\n",
       "      <td>4.0</td>\n",
       "    </tr>\n",
       "    <tr>\n",
       "      <th>4</th>\n",
       "      <td>-1.744661</td>\n",
       "      <td>-0.229190</td>\n",
       "      <td>-2.314481</td>\n",
       "      <td>-1.438181</td>\n",
       "      <td>-1.531243</td>\n",
       "      <td>-1.148788</td>\n",
       "      <td>-2.011442</td>\n",
       "      <td>-1.190280</td>\n",
       "      <td>-1.700775</td>\n",
       "      <td>-0.966303</td>\n",
       "      <td>-1.027140</td>\n",
       "      <td>-2.202136</td>\n",
       "      <td>-0.952990</td>\n",
       "      <td>5.0</td>\n",
       "    </tr>\n",
       "    <tr>\n",
       "      <th>...</th>\n",
       "      <td>...</td>\n",
       "      <td>...</td>\n",
       "      <td>...</td>\n",
       "      <td>...</td>\n",
       "      <td>...</td>\n",
       "      <td>...</td>\n",
       "      <td>...</td>\n",
       "      <td>...</td>\n",
       "      <td>...</td>\n",
       "      <td>...</td>\n",
       "      <td>...</td>\n",
       "      <td>...</td>\n",
       "      <td>...</td>\n",
       "      <td>...</td>\n",
       "    </tr>\n",
       "    <tr>\n",
       "      <th>43686</th>\n",
       "      <td>-0.448198</td>\n",
       "      <td>-0.350041</td>\n",
       "      <td>-0.506754</td>\n",
       "      <td>-0.542378</td>\n",
       "      <td>-0.443520</td>\n",
       "      <td>-0.452528</td>\n",
       "      <td>-0.364299</td>\n",
       "      <td>-0.407728</td>\n",
       "      <td>-0.547344</td>\n",
       "      <td>0.027295</td>\n",
       "      <td>-0.478008</td>\n",
       "      <td>-0.390894</td>\n",
       "      <td>-0.427949</td>\n",
       "      <td>1.0</td>\n",
       "    </tr>\n",
       "    <tr>\n",
       "      <th>43687</th>\n",
       "      <td>0.781068</td>\n",
       "      <td>0.410928</td>\n",
       "      <td>0.186854</td>\n",
       "      <td>0.614127</td>\n",
       "      <td>0.573732</td>\n",
       "      <td>0.309030</td>\n",
       "      <td>0.325219</td>\n",
       "      <td>0.382690</td>\n",
       "      <td>0.258928</td>\n",
       "      <td>-0.357982</td>\n",
       "      <td>0.058954</td>\n",
       "      <td>0.748672</td>\n",
       "      <td>0.186402</td>\n",
       "      <td>1.0</td>\n",
       "    </tr>\n",
       "    <tr>\n",
       "      <th>43688</th>\n",
       "      <td>-0.659393</td>\n",
       "      <td>-0.567460</td>\n",
       "      <td>-0.605841</td>\n",
       "      <td>-1.099213</td>\n",
       "      <td>-0.623035</td>\n",
       "      <td>-0.452528</td>\n",
       "      <td>-0.502202</td>\n",
       "      <td>-0.605333</td>\n",
       "      <td>-0.587657</td>\n",
       "      <td>-0.357982</td>\n",
       "      <td>-0.478008</td>\n",
       "      <td>-0.663400</td>\n",
       "      <td>-0.427949</td>\n",
       "      <td>1.0</td>\n",
       "    </tr>\n",
       "    <tr>\n",
       "      <th>43689</th>\n",
       "      <td>-0.551088</td>\n",
       "      <td>-0.513105</td>\n",
       "      <td>-0.308580</td>\n",
       "      <td>-0.949296</td>\n",
       "      <td>-0.503358</td>\n",
       "      <td>-0.452528</td>\n",
       "      <td>-0.364299</td>\n",
       "      <td>-0.486770</td>\n",
       "      <td>-0.466716</td>\n",
       "      <td>-0.357982</td>\n",
       "      <td>-0.478008</td>\n",
       "      <td>-0.613853</td>\n",
       "      <td>-0.427949</td>\n",
       "      <td>1.0</td>\n",
       "    </tr>\n",
       "    <tr>\n",
       "      <th>43690</th>\n",
       "      <td>-0.491520</td>\n",
       "      <td>-0.567460</td>\n",
       "      <td>-0.605841</td>\n",
       "      <td>-0.906462</td>\n",
       "      <td>-0.483412</td>\n",
       "      <td>-0.071749</td>\n",
       "      <td>-0.502202</td>\n",
       "      <td>-0.526291</td>\n",
       "      <td>-0.547344</td>\n",
       "      <td>-0.357982</td>\n",
       "      <td>-0.478008</td>\n",
       "      <td>-0.489987</td>\n",
       "      <td>0.186402</td>\n",
       "      <td>1.0</td>\n",
       "    </tr>\n",
       "  </tbody>\n",
       "</table>\n",
       "<p>43691 rows × 14 columns</p>\n",
       "</div>"
      ],
      "text/plain": [
       "             ab        bb    double         g         h       hbp        hr  \\\n",
       "0     -0.661588 -0.438871 -0.640879 -0.705525 -0.583966 -0.539028 -0.388342   \n",
       "1     -1.145500 -0.634319 -1.124076 -1.026475 -1.017650 -1.125153 -0.813317   \n",
       "2     -1.161406 -0.031041 -1.378979 -0.693510 -1.160762 -0.056680 -1.235447   \n",
       "3     -1.954610 -0.615781 -2.052017 -1.647343 -1.893377 -0.604941 -1.638442   \n",
       "4     -1.744661 -0.229190 -2.314481 -1.438181 -1.531243 -1.148788 -2.011442   \n",
       "...         ...       ...       ...       ...       ...       ...       ...   \n",
       "43686 -0.448198 -0.350041 -0.506754 -0.542378 -0.443520 -0.452528 -0.364299   \n",
       "43687  0.781068  0.410928  0.186854  0.614127  0.573732  0.309030  0.325219   \n",
       "43688 -0.659393 -0.567460 -0.605841 -1.099213 -0.623035 -0.452528 -0.502202   \n",
       "43689 -0.551088 -0.513105 -0.308580 -0.949296 -0.503358 -0.452528 -0.364299   \n",
       "43690 -0.491520 -0.567460 -0.605841 -0.906462 -0.483412 -0.071749 -0.502202   \n",
       "\n",
       "              r       rbi        sb        sh        so    triple  \\\n",
       "0     -0.539369 -0.609924 -0.335788 -0.665060 -0.794309 -0.310270   \n",
       "1     -0.903027 -1.153566 -0.636014 -1.424980 -0.892177 -0.404662   \n",
       "2     -0.879855 -1.079926 -0.389503 -1.058649 -1.112142 -0.762685   \n",
       "3     -1.575987 -1.775687 -0.956969 -1.764229 -2.108656 -1.364642   \n",
       "4     -1.190280 -1.700775 -0.966303 -1.027140 -2.202136 -0.952990   \n",
       "...         ...       ...       ...       ...       ...       ...   \n",
       "43686 -0.407728 -0.547344  0.027295 -0.478008 -0.390894 -0.427949   \n",
       "43687  0.382690  0.258928 -0.357982  0.058954  0.748672  0.186402   \n",
       "43688 -0.605333 -0.587657 -0.357982 -0.478008 -0.663400 -0.427949   \n",
       "43689 -0.486770 -0.466716 -0.357982 -0.478008 -0.613853 -0.427949   \n",
       "43690 -0.526291 -0.547344 -0.357982 -0.478008 -0.489987  0.186402   \n",
       "\n",
       "       years_played  \n",
       "0               1.0  \n",
       "1               2.0  \n",
       "2               3.0  \n",
       "3               4.0  \n",
       "4               5.0  \n",
       "...             ...  \n",
       "43686           1.0  \n",
       "43687           1.0  \n",
       "43688           1.0  \n",
       "43689           1.0  \n",
       "43690           1.0  \n",
       "\n",
       "[43691 rows x 14 columns]"
      ]
     },
     "execution_count": 166,
     "metadata": {},
     "output_type": "execute_result"
    }
   ],
   "source": [
    "agg_df.drop(columns=['Unnamed: 0', 'Unnamed: 0.1', 'player_id', 'hof'])"
   ]
  },
  {
   "cell_type": "code",
   "execution_count": 160,
   "metadata": {},
   "outputs": [
    {
     "data": {
      "text/plain": [
       "array([0.06442824, 0.05500462, 0.09202374, 0.06206526, 0.0924338 ,\n",
       "       0.04863457, 0.08949049, 0.12802254, 0.08188617, 0.04926617,\n",
       "       0.05227951, 0.07169407, 0.06101848, 0.05175234])"
      ]
     },
     "execution_count": 160,
     "metadata": {},
     "output_type": "execute_result"
    }
   ],
   "source": [
    "rf.feature_importances_"
   ]
  },
  {
   "cell_type": "code",
   "execution_count": 158,
   "metadata": {},
   "outputs": [
    {
     "name": "stdout",
     "output_type": "stream",
     "text": [
      "              precision    recall  f1-score   support\n",
      "\n",
      "           0       0.99      0.99      0.99      2062\n",
      "           1       0.57      0.71      0.64        38\n",
      "\n",
      "    accuracy                           0.99      2100\n",
      "   macro avg       0.78      0.85      0.81      2100\n",
      "weighted avg       0.99      0.99      0.99      2100\n",
      "\n",
      "0.009523809523809525\n",
      "[1 1 1 1 1 1 1 1 1 1 1 1 1 1 1 1 1 1 1 1]\n",
      "['aloufe01' 'bondsbo01' 'bucknbi01' 'cartejo01' 'darkal01' 'finlest01'\n",
      " 'gonzalu01' 'gracema01' 'groatdi01' 'loftoke01' 'oliveal01' 'pierrju01'\n",
      " 'ramirma02' 'renteed01' 'sheffga01' 'staubru01' 'tejadmi01' 'vizquom01'\n",
      " 'whitalo01' 'willibe02'] darkal01\n",
      "0.75\n"
     ]
    },
    {
     "name": "stderr",
     "output_type": "stream",
     "text": [
      "<ipython-input-105-7b7c4518be3c>:7: RuntimeWarning: invalid value encountered in long_scalars\n",
      "  ones_score = np.sum(ones_preds) / len(ones_preds)\n",
      "/home/nick/anaconda3/lib/python3.8/site-packages/sklearn/metrics/_classification.py:1464: UndefinedMetricWarning: F-score is ill-defined and being set to 0.0 due to no true nor predicted samples. Use `zero_division` parameter to control this behavior.\n",
      "  _warn_prf(\n",
      "<ipython-input-105-7b7c4518be3c>:12: RuntimeWarning: invalid value encountered in long_scalars\n",
      "  zeros_score = np.sum(1-zeros_preds) / len(zeros_preds)\n"
     ]
    },
    {
     "data": {
      "text/plain": [
       "[((0.7105263157894737, 38),\n",
       "  (0.9903006789524733, 2062),\n",
       "  0.9924665856622115,\n",
       "  0.6352941176470589),\n",
       " ((0.7297297297297297, 37),\n",
       "  (0.9872040946896993, 1563),\n",
       "  0.990372272143774,\n",
       "  0.6428571428571429),\n",
       " ((0.6216216216216216, 37),\n",
       "  (0.9859154929577465, 1278),\n",
       "  0.987460815047022,\n",
       "  0.5897435897435899)]"
      ]
     },
     "execution_count": 158,
     "metadata": {},
     "output_type": "execute_result"
    }
   ],
   "source": [
    "rf = RandomForestClassifier(oob_score=True)\n",
    "rf.fit(X_train_agg, y_train_agg)\n",
    "probs_rf = rf.predict_proba(X_test_agg)[:, 1]\n",
    "preds_rf = (probs_rf >= 0.5).astype(int)\n",
    "eval_all_years(preds_rf)[:3]"
   ]
  }
 ],
 "metadata": {
  "kernelspec": {
   "display_name": "Python 3",
   "language": "python",
   "name": "python3"
  },
  "language_info": {
   "codemirror_mode": {
    "name": "ipython",
    "version": 3
   },
   "file_extension": ".py",
   "mimetype": "text/x-python",
   "name": "python",
   "nbconvert_exporter": "python",
   "pygments_lexer": "ipython3",
   "version": "3.8.3"
  }
 },
 "nbformat": 4,
 "nbformat_minor": 4
}
