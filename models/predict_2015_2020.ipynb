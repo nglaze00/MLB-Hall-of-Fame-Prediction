{
 "cells": [
  {
   "cell_type": "code",
   "execution_count": 1,
   "metadata": {},
   "outputs": [],
   "source": [
    "import numpy as np\n",
    "import pandas as pd"
   ]
  },
  {
   "cell_type": "markdown",
   "metadata": {},
   "source": [
    "# Normalize 2010 - 2020 data"
   ]
  },
  {
   "cell_type": "code",
   "execution_count": 2,
   "metadata": {},
   "outputs": [
    {
     "data": {
      "text/plain": [
       "Index(['last_name', ' first_name', 'year', 'b_ab', 'b_total_hits', 'b_double',\n",
       "       'b_triple', 'b_home_run', 'b_strikeout', 'b_walk', 'b_rbi',\n",
       "       'r_total_stolen_base', 'b_game', 'b_hit_by_pitch', 'r_run',\n",
       "       'b_total_sacrifices', 'Unnamed: 16'],\n",
       "      dtype='object')"
      ]
     },
     "execution_count": 2,
     "metadata": {},
     "output_type": "execute_result"
    }
   ],
   "source": [
    "pd.read_csv('../data/batting_2010_2020.csv').columns"
   ]
  },
  {
   "cell_type": "code",
   "execution_count": 3,
   "metadata": {},
   "outputs": [
    {
     "data": {
      "text/plain": [
       "Index(['last_name', ' first_name', 'year', 'b_ab', 'b_total_hits', 'b_double',\n",
       "       'b_triple', 'b_home_run', 'b_strikeout', 'b_walk', 'b_rbi',\n",
       "       'r_total_stolen_base', 'b_game', 'b_hit_by_pitch', 'r_run',\n",
       "       'b_total_sacrifices', 'Unnamed: 16'],\n",
       "      dtype='object')"
      ]
     },
     "metadata": {},
     "output_type": "display_data"
    }
   ],
   "source": [
    "batting_df = pd.read_csv('../data/batting_2010_2020.csv')\n",
    "display(batting_df.columns)\n",
    "batting_df['player_id'] = (batting_df[' first_name'] + batting_df['last_name']).str[1:]\n",
    "batting_df = batting_df[['player_id', 'b_ab', 'b_walk', 'b_double', 'b_game', 'b_total_hits', 'b_hit_by_pitch', 'b_home_run', 'r_run', 'b_rbi', 'r_total_stolen_base', 'b_total_sacrifices', 'b_strikeout', 'b_triple', 'year']]\n",
    "batting_df = batting_df[batting_df['year'] != 2020]"
   ]
  },
  {
   "cell_type": "code",
   "execution_count": 4,
   "metadata": {},
   "outputs": [],
   "source": [
    "yearly_means = batting_df.groupby('year').mean()\n",
    "yearly_stds = batting_df.groupby('year').std()"
   ]
  },
  {
   "cell_type": "code",
   "execution_count": 5,
   "metadata": {},
   "outputs": [],
   "source": [
    "batting_df_norm_year = batting_df.apply(lambda row: (row - yearly_means.loc[row['year']]) / yearly_stds.loc[row['year']], axis=1)\n",
    "batting_df_norm_year['year'] = batting_df['year']\n",
    "batting_df_norm_year['player_id'] = batting_df['player_id']"
   ]
  },
  {
   "cell_type": "code",
   "execution_count": 6,
   "metadata": {},
   "outputs": [],
   "source": [
    "batting_df_norm_year.to_csv('../data_normalized/batting_norm_2010_2020.csv')"
   ]
  },
  {
   "cell_type": "markdown",
   "metadata": {},
   "source": [
    "# Group into agg / ts for interesting players"
   ]
  },
  {
   "cell_type": "code",
   "execution_count": 23,
   "metadata": {},
   "outputs": [],
   "source": [
    "ids_to_test = ('GeorgeSpringer', 'MikeTrout', 'BrettGardner', 'JoeyVotto', 'AaronJudge', 'FernandoTatis Jr.', 'MookieBetts', 'NolanArenado')"
   ]
  },
  {
   "cell_type": "code",
   "execution_count": 24,
   "metadata": {},
   "outputs": [],
   "source": [
    "test_df = batting_df_norm_year[batting_df_norm_year['player_id'].isin(ids_to_test)]"
   ]
  },
  {
   "cell_type": "code",
   "execution_count": 25,
   "metadata": {},
   "outputs": [],
   "source": [
    "X_test_ts = np.zeros((len(ids_to_test), 25, 13))\n",
    "X_test_agg = np.zeros((len(ids_to_test), 14))"
   ]
  },
  {
   "cell_type": "code",
   "execution_count": 26,
   "metadata": {},
   "outputs": [
    {
     "data": {
      "text/plain": [
       "player_id\n",
       "RyanBraun           147.967806\n",
       "CurtisGranderson    148.202915\n",
       "IanKinsler          149.101352\n",
       "JoseAltuve          150.314690\n",
       "RobinsonCano        150.588663\n",
       "EdwinEncarnacion    151.978965\n",
       "AnthonyRizzo        152.923240\n",
       "EvanLongoria        155.213169\n",
       "Shin-SooChoo        159.012314\n",
       "NelsonCruz          159.476430\n",
       "AdamJones           160.229929\n",
       "IanDesmond          160.861983\n",
       "FreddieFreeman      165.119091\n",
       "PaulGoldschmidt     165.879456\n",
       "BrettGardner        168.834342\n",
       "JoeyVotto           169.614125\n",
       "JustinUpton         172.672100\n",
       "ElvisAndrus         180.491677\n",
       "AndrewMcCutchen     193.335532\n",
       "MikeTrout           205.874207\n",
       "dtype: float64"
      ]
     },
     "execution_count": 26,
     "metadata": {},
     "output_type": "execute_result"
    }
   ],
   "source": [
    "batting_df_norm_year.drop(columns='year').groupby('player_id').sum().sum(axis=1).sort_values()[-20:]"
   ]
  },
  {
   "cell_type": "code",
   "execution_count": 27,
   "metadata": {},
   "outputs": [],
   "source": [
    "for i, pid in enumerate(ids_to_test):\n",
    "    p_df = test_df[test_df['player_id'] == pid].sort_values('year').drop(columns=['player_id'])\n",
    "    p_df['years_played'] = p_df['year'] - p_df['year'].min() + 1\n",
    "#     display(p_df)\n",
    "    X_test_ts[i, :p_df['years_played'].max()] = p_df.drop(columns=['years_played', 'year']).to_numpy()\n",
    "    p_df_agg = p_df.drop(columns=['year', 'years_played']).sum(axis=0)\n",
    "#     display(p_df_agg)\n",
    "    X_test_agg[i] = np.concatenate((p_df_agg.to_numpy(), [p_df['years_played'].max()]))"
   ]
  },
  {
   "cell_type": "markdown",
   "metadata": {},
   "source": [
    "# evaluate using ensemble"
   ]
  },
  {
   "cell_type": "code",
   "execution_count": 28,
   "metadata": {},
   "outputs": [],
   "source": [
    "from keras.models import load_model"
   ]
  },
  {
   "cell_type": "code",
   "execution_count": 29,
   "metadata": {},
   "outputs": [],
   "source": [
    "lstm = load_model('good_lstm/')"
   ]
  },
  {
   "cell_type": "code",
   "execution_count": 30,
   "metadata": {},
   "outputs": [
    {
     "data": {
      "text/plain": [
       "[0.9488754,\n",
       " 0.95596063,\n",
       " 0.00019762415,\n",
       " 0.8618952,\n",
       " 0.8649916,\n",
       " 0.7616439,\n",
       " 0.9311944,\n",
       " 0.024338102]"
      ]
     },
     "execution_count": 30,
     "metadata": {},
     "output_type": "execute_result"
    }
   ],
   "source": [
    "list(lstm.predict(X_test_ts)[:, 1])"
   ]
  }
 ],
 "metadata": {
  "kernelspec": {
   "display_name": "Python 3",
   "language": "python",
   "name": "python3"
  },
  "language_info": {
   "codemirror_mode": {
    "name": "ipython",
    "version": 3
   },
   "file_extension": ".py",
   "mimetype": "text/x-python",
   "name": "python",
   "nbconvert_exporter": "python",
   "pygments_lexer": "ipython3",
   "version": "3.8.3"
  }
 },
 "nbformat": 4,
 "nbformat_minor": 4
}
