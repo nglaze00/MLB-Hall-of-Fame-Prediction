{
 "cells": [
  {
   "cell_type": "code",
   "execution_count": null,
   "metadata": {},
   "outputs": [],
   "source": [
    "import cv2\n",
    "import scipy\n",
    "import numpy as np\n",
    "import matplotlib.pyplot as plt\n",
    "import skimage.restoration\n",
    "from skimage.restoration import estimate_sigma\n",
    "import pywt\n",
    "import bm3d\n",
    "from collections import defaultdict\n",
    "import os\n",
    "\n",
    "def add_noise(original, sigma):\n",
    "  np.random.seed(1)\n",
    "  noise = np.random.normal(scale=sigma, size=original.shape) # scale = standard deviation\n",
    "  return noise + original\n",
    "\n",
    "def fast_estimate(noisy):\n",
    "  N = noisy.shape[0]\n",
    "  M = [[1, -2, 1],\n",
    "  [-2, 4, -2],\n",
    "  [1, -2, 1]]\n",
    "  sigma = np.sum(np.abs(scipy.signal.convolve2d(noisy, M)))\n",
    "  sigma = sigma * np.sqrt(np.pi/2)/(6*(N-2)**2)\n",
    "  return sigma\n",
    "\n",
    "def test_dataset(folder_path):\n",
    "  \"\"\"\n",
    "  Tests non-linear means denoising on all the images in folder_path, and returns the total MSE for each experiment.\n",
    "\n",
    "  Runs each experiment with sigma = 10, 25, 40\n",
    "  \"\"\"\n",
    "  mses = 0\n",
    "  for file in os.listdir(folder_path):\n",
    "    # Load image + add noise\n",
    "    original = cv2.imread(folder_path + '/' + file)\n",
    "    original = cv2.cvtColor(original, cv2.COLOR_BGR2GRAY)\n",
    "    for sigma in (10, 25, 40):\n",
    "      noisy = add_noise(original, sigma)\n",
    "      noisy = noisy / noisy.max() #normalizes data in range 0 - 255\n",
    "      noisy = 255 * noisy\n",
    "      noisy = noisy.astype(np.uint8)\n",
    "      denoised = cv2.fastNlMeansDenoising(noisy, None, ((sigma/2)*np.sqrt(2*np.log(original.size)))/2, 7, 21)\n",
    "      mses += (((original-denoised)**2).mean(axis = None))\n",
    "  print(mses)\n",
    "  return mses    \n",
    "    \n",
    "\n",
    "test_dataset('test_images')"
   ]
  }
 ],
 "metadata": {
  "kernelspec": {
   "display_name": "Python 3",
   "language": "python",
   "name": "python3"
  },
  "language_info": {
   "codemirror_mode": {
    "name": "ipython",
    "version": 3
   },
   "file_extension": ".py",
   "mimetype": "text/x-python",
   "name": "python",
   "nbconvert_exporter": "python",
   "pygments_lexer": "ipython3",
   "version": "3.8.3"
  }
 },
 "nbformat": 4,
 "nbformat_minor": 4
}
